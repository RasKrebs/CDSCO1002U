{
  "cells": [
    {
      "attachments": {},
      "cell_type": "markdown",
      "metadata": {},
      "source": [
        "### `Note`\n",
        "\n",
        "In order to make training of SNN and finetuning of BERT more efficient, this notebook is meant to be run in Google Colab to utilize the available GPU there. \n",
        "\n",
        "To train, upload the directory of this notebook - this will contain the relevant modules and data.\n",
        "\n",
        "Additionally, if one is only seeking to evaluate the trained models, go to the notebooks `BERT_eval.ipynb` and `SNN_eval.ipynb` to explore model performance.\n",
        "\n",
        "***Note***\\\n",
        "*Due to the immense size of tf-idf embedding on corpus, the trainable params became to immense for any available device, thus training on these are not possible*\n"
      ]
    },
    {
      "cell_type": "code",
      "execution_count": null,
      "metadata": {
        "colab": {
          "base_uri": "https://localhost:8080/"
        },
        "id": "QLIqwUAu32a5",
        "outputId": "c797d171-b06f-4c73-a7f3-72f2ce73cd54"
      },
      "outputs": [
        {
          "name": "stdout",
          "output_type": "stream",
          "text": [
            "Mounted at /content/drive\n"
          ]
        }
      ],
      "source": [
        "# Mounting drive in colab\n",
        "try:\n",
        "    from google.colab import drive\n",
        "    drive.mount('/content/drive')\n",
        "except:\n",
        "    print(\"Can't mount Google drive\")"
      ]
    },
    {
      "attachments": {},
      "cell_type": "markdown",
      "metadata": {
        "id": "gF5kZ2UUp-fC"
      },
      "source": [
        "# Setup"
      ]
    },
    {
      "cell_type": "code",
      "execution_count": null,
      "metadata": {
        "id": "Po--_FkeGtd0"
      },
      "outputs": [],
      "source": [
        "!pip install datasets\n",
        "!pip install transformers"
      ]
    },
    {
      "cell_type": "code",
      "execution_count": 10,
      "metadata": {
        "id": "1k2XUyxcp-fG"
      },
      "outputs": [],
      "source": [
        "# Data\n",
        "import pandas as pd\n",
        "import numpy as np\n",
        "from modules.utils import SentimentDataset, w2v\n",
        "from torch.utils.data import TensorDataset, random_split\n",
        "from torch.utils.data import DataLoader, RandomSampler, SequentialSampler\n",
        "\n",
        "# Visualization\n",
        "import matplotlib.pyplot as plt\n",
        "\n",
        "# Models\n",
        "from sklearn.model_selection import train_test_split\n",
        "from keras.models import Sequential\n",
        "from keras import layers\n",
        "import tensorflow as tf\n",
        "import torch\n",
        "from transformers import TrainingArguments, Trainer\n",
        "from transformers import BertTokenizer, BertForSequenceClassification, AdamW, BertConfig\n",
        "from transformers import get_linear_schedule_with_warmup\n",
        "\n",
        "# General\n",
        "import os\n",
        "import multiprocessing\n",
        "import time\n",
        "import datetime\n",
        "import random\n",
        "\n"
      ]
    },
    {
      "cell_type": "code",
      "execution_count": null,
      "metadata": {
        "id": "3rZdECjM4RD3"
      },
      "outputs": [],
      "source": [
        "# Download necessary NLTK packages\n",
        "nltk.download('stopwords')\n",
        "nltk.download('punkt')\n",
        "nltk.download('wordnet')"
      ]
    },
    {
      "cell_type": "code",
      "execution_count": null,
      "metadata": {
        "colab": {
          "base_uri": "https://localhost:8080/"
        },
        "id": "QwWAvM9lG4Rz",
        "outputId": "507fa8be-fc7e-4c7d-bd8f-d5e78fd2c15b"
      },
      "outputs": [
        {
          "name": "stdout",
          "output_type": "stream",
          "text": [
            "/content/drive/MyDrive/NLP\n"
          ]
        }
      ],
      "source": [
        "# Change directory to NLP folder, which contains module and data folder. \n",
        "%cd /content/drive/MyDrive/NLP"
      ]
    },
    {
      "attachments": {},
      "cell_type": "markdown",
      "metadata": {
        "id": "5FxGSTPap-fI"
      },
      "source": [
        "### Importing data and applying Word2Vec"
      ]
    },
    {
      "cell_type": "code",
      "execution_count": 2,
      "metadata": {
        "id": "4j28IvLzp-fJ"
      },
      "outputs": [
        {
          "name": "stdout",
          "output_type": "stream",
          "text": [
            "Loading data...\n"
          ]
        },
        {
          "name": "stderr",
          "output_type": "stream",
          "text": [
            "Found cached dataset sentiment140 (/Users/krebs/.cache/huggingface/datasets/sentiment140/sentiment140/1.0.0/f81c014152931b776735658d8ae493b181927de002e706c4d5244ecb26376997)\n"
          ]
        },
        {
          "name": "stdout",
          "output_type": "stream",
          "text": [
            "\n",
            "Loading processed dataset from cache...\n",
            "Dataset loaded\n",
            "Applying Word2Vec embedding\n",
            "Loading Word2Vec model from directory\n",
            "Vectorizing range(0, 200000) tweets\n",
            "Word2Vec embedding applied\n"
          ]
        },
        {
          "data": {
            "text/plain": [
              "<modules.utils.w2v at 0x7fd710b9d610>"
            ]
          },
          "execution_count": 2,
          "metadata": {},
          "output_type": "execute_result"
        }
      ],
      "source": [
        "# Load data using SentimentDataset class\n",
        "data = SentimentDataset()\n",
        "w2v(data)"
      ]
    },
    {
      "cell_type": "code",
      "execution_count": 3,
      "metadata": {
        "colab": {
          "base_uri": "https://localhost:8080/"
        },
        "id": "WPP-hrBsp-fQ",
        "outputId": "bca68171-6200-4988-e839-764f34517e0e"
      },
      "outputs": [
        {
          "name": "stdout",
          "output_type": "stream",
          "text": [
            "Before processing: @MussoMitchel LOVED you on Radio Disney yesterday!!!!! \n",
            "After processing: loved you on radio disney yesterday\n",
            "\n",
            "Before processing: Oh god...off to the airport...way too f'ing early...or late \n",
            "After processing: oh god off to the airport way too f ing early or late\n",
            "\n",
            "Before processing: I'm stuck on Soviet intolerance of diversity   What were they intolerant of???\n",
            "After processing: i m stuck on soviet intolerance of diversity what were they intolerant of\n",
            "\n",
            "Before processing: @unwoman w00t! awesome! btw, thoroughly enjoyed Blossoms and just ordered Trouble... \n",
            "After processing: w00t awesome btw thoroughly enjoyed blossom and just ordered trouble\n",
            "\n",
            "Before processing: @edinburghblog The Sheep's Heid is nowhere near as good as it used to be \n",
            "After processing: the sheep s heid is nowhere near a good a it used to be\n",
            "\n"
          ]
        }
      ],
      "source": [
        "# Printing differences\n",
        "for index, row in data.df.sample(5).iterrows():\n",
        "    print(f'Before processing: {row.text}\\nAfter processing: {row.text_processed}\\n')"
      ]
    },
    {
      "cell_type": "code",
      "execution_count": 4,
      "metadata": {
        "colab": {
          "base_uri": "https://localhost:8080/"
        },
        "id": "8q-hQv9qNyWu",
        "outputId": "cb4f1a45-f739-479c-898c-aa58a1f9b816"
      },
      "outputs": [
        {
          "name": "stdout",
          "output_type": "stream",
          "text": [
            "Null values in dataset after processing\n"
          ]
        },
        {
          "data": {
            "text/plain": [
              "text              0\n",
              "sentiment         0\n",
              "text_processed    0\n",
              "dtype: int64"
            ]
          },
          "execution_count": 4,
          "metadata": {},
          "output_type": "execute_result"
        }
      ],
      "source": [
        "print('Null values in dataset after processing')\n",
        "data.df.isna().sum()"
      ]
    },
    {
      "attachments": {},
      "cell_type": "markdown",
      "metadata": {
        "id": "BFkaj7YGp-fd"
      },
      "source": [
        "# Shallow Neural Network"
      ]
    },
    {
      "cell_type": "code",
      "execution_count": 7,
      "metadata": {
        "id": "ngFLdmw7p-fe"
      },
      "outputs": [],
      "source": [
        "# Splitting to have a small test set after training\n",
        "X_train, X_test, y_train, y_test = train_test_split(data.vector, data.target, test_size=0.1)\n"
      ]
    },
    {
      "cell_type": "code",
      "execution_count": 9,
      "metadata": {},
      "outputs": [
        {
          "name": "stdout",
          "output_type": "stream",
          "text": [
            "Length of training set: 180000\n",
            "Length of test set: 20000\n"
          ]
        }
      ],
      "source": [
        "print(f'Length of training set: {len(X_train)}')\n",
        "print(f'Length of test set: {len(X_test)}')"
      ]
    },
    {
      "cell_type": "code",
      "execution_count": null,
      "metadata": {
        "id": "98H7CiFYa2YS"
      },
      "outputs": [],
      "source": [
        "# Building neural network\n",
        "model = Sequential((\n",
        "    layers.Dense(250, activation = \"relu\", input_dim=300),\n",
        "    layers.Dropout(0.3),\n",
        "    layers.Dense(250, activation = \"relu\"),\n",
        "    layers.Dropout(0.3),\n",
        "    layers.Dense(250, activation = \"relu\"),\n",
        "    layers.Dense(1, activation = 'sigmoid')\n",
        "))\n",
        "\n",
        "\n",
        "# Creating Callbacks\n",
        "callbacks = [\n",
        "    tf.keras.callbacks.EarlyStopping(patience=5, monitor='val_loss'),\n",
        "    tf.keras.callbacks.ReduceLROnPlateau(monitor=\"val_loss\", factor=0.1, patience=5,verbose=1, min_lr=0.001)\n",
        "    ]\n",
        "\n",
        "model.compile(optimizer=tf.keras.optimizers.Adam(learning_rate=0.01), \n",
        "              loss= tf.keras.losses.BinaryCrossentropy(), \n",
        "              metrics=['accuracy'])"
      ]
    },
    {
      "cell_type": "code",
      "execution_count": null,
      "metadata": {
        "colab": {
          "base_uri": "https://localhost:8080/"
        },
        "id": "mq-it74obJ6g",
        "outputId": "1bb812ba-9101-4ab7-8bc6-3aaa6cf41ee3"
      },
      "outputs": [
        {
          "name": "stdout",
          "output_type": "stream",
          "text": [
            "Epoch 1/100\n",
            "4500/4500 [==============================] - 23s 4ms/step - loss: 0.5571 - accuracy: 0.7157 - val_loss: 0.5483 - val_accuracy: 0.7174 - lr: 0.0100\n",
            "Epoch 2/100\n",
            "4500/4500 [==============================] - 17s 4ms/step - loss: 0.5405 - accuracy: 0.7292 - val_loss: 0.5315 - val_accuracy: 0.7386 - lr: 0.0100\n",
            "Epoch 3/100\n",
            "4500/4500 [==============================] - 17s 4ms/step - loss: 0.5375 - accuracy: 0.7322 - val_loss: 0.5244 - val_accuracy: 0.7385 - lr: 0.0100\n",
            "Epoch 4/100\n",
            "4500/4500 [==============================] - 16s 4ms/step - loss: 0.5337 - accuracy: 0.7345 - val_loss: 0.5235 - val_accuracy: 0.7361 - lr: 0.0100\n",
            "Epoch 5/100\n",
            "4500/4500 [==============================] - 17s 4ms/step - loss: 0.5294 - accuracy: 0.7375 - val_loss: 0.5200 - val_accuracy: 0.7411 - lr: 0.0100\n",
            "Epoch 6/100\n",
            "4500/4500 [==============================] - 16s 4ms/step - loss: 0.5260 - accuracy: 0.7399 - val_loss: 0.5209 - val_accuracy: 0.7386 - lr: 0.0100\n",
            "Epoch 7/100\n",
            "4500/4500 [==============================] - 16s 4ms/step - loss: 0.5249 - accuracy: 0.7419 - val_loss: 0.5136 - val_accuracy: 0.7431 - lr: 0.0100\n",
            "Epoch 8/100\n",
            "4500/4500 [==============================] - 17s 4ms/step - loss: 0.5255 - accuracy: 0.7421 - val_loss: 0.5196 - val_accuracy: 0.7434 - lr: 0.0100\n",
            "Epoch 9/100\n",
            "4500/4500 [==============================] - 17s 4ms/step - loss: 0.5234 - accuracy: 0.7434 - val_loss: 0.5170 - val_accuracy: 0.7425 - lr: 0.0100\n",
            "Epoch 10/100\n",
            "4500/4500 [==============================] - 17s 4ms/step - loss: 0.5212 - accuracy: 0.7446 - val_loss: 0.5281 - val_accuracy: 0.7413 - lr: 0.0100\n",
            "Epoch 11/100\n",
            "4500/4500 [==============================] - 17s 4ms/step - loss: 0.5175 - accuracy: 0.7457 - val_loss: 0.5166 - val_accuracy: 0.7441 - lr: 0.0100\n",
            "Epoch 12/100\n",
            "4494/4500 [============================>.] - ETA: 0s - loss: 0.5192 - accuracy: 0.7481\n",
            "Epoch 12: ReduceLROnPlateau reducing learning rate to 0.001.\n",
            "4500/4500 [==============================] - 16s 4ms/step - loss: 0.5192 - accuracy: 0.7481 - val_loss: 0.5174 - val_accuracy: 0.7439 - lr: 0.0100\n"
          ]
        },
        {
          "data": {
            "text/plain": [
              "<keras.callbacks.History at 0x7f821c083640>"
            ]
          },
          "execution_count": 28,
          "metadata": {},
          "output_type": "execute_result"
        }
      ],
      "source": [
        "model.fit(\n",
        "    x=X_train,\n",
        "    y=y_train,\n",
        "    batch_size=32,\n",
        "    epochs=100,\n",
        "    validation_split=0.2,\n",
        "    callbacks=callbacks\n",
        ")"
      ]
    },
    {
      "cell_type": "code",
      "execution_count": null,
      "metadata": {
        "id": "1QuB73VrdR69"
      },
      "outputs": [],
      "source": [
        "# Save model in order to evaluate (Will be performed on local device. See file SNN_eval notebook in directory)\n",
        "model.save(f'ShallowNeuralNetwork')"
      ]
    },
    {
      "cell_type": "code",
      "execution_count": null,
      "metadata": {
        "colab": {
          "base_uri": "https://localhost:8080/",
          "height": 449
        },
        "id": "k-5n1N1sp6zz",
        "outputId": "98c67680-7847-444f-82ed-22b1a098079d"
      },
      "outputs": [
        {
          "data": {
            "image/png": "[encoded data removed]",
            "text/plain": [
              "<Figure size 640x480 with 1 Axes>"
            ]
          },
          "metadata": {},
          "output_type": "display_data"
        }
      ],
      "source": [
        "# Plot Performance\n",
        "plt.plot(model.history.history['loss'], label='training data')\n",
        "plt.plot(model.history.history['val_loss'], label='validation data')\n",
        "plt.ylabel('Binary Cross Entropy Loss')\n",
        "plt.xlabel('No. epoch')\n",
        "plt.legend(loc=\"upper left\")\n",
        "plt.show()"
      ]
    },
    {
      "cell_type": "code",
      "execution_count": null,
      "metadata": {
        "colab": {
          "base_uri": "https://localhost:8080/",
          "height": 449
        },
        "id": "CJkJFGnmqUbG",
        "outputId": "9ad18b26-0643-456c-fd56-d3bdd25b23e0"
      },
      "outputs": [
        {
          "data": {
            "image/png": "[encoded data removed]",
            "text/plain": [
              "<Figure size 640x480 with 1 Axes>"
            ]
          },
          "metadata": {},
          "output_type": "display_data"
        }
      ],
      "source": [
        "# Plot Performance\n",
        "plt.plot(model.history.history['accuracy'], label='training data')\n",
        "plt.plot(model.history.history['val_accuracy'], label='validation data')\n",
        "plt.ylabel('Accuracy')\n",
        "plt.xlabel('No. epoch')\n",
        "plt.legend(loc=\"upper left\")\n",
        "plt.show()"
      ]
    },
    {
      "attachments": {},
      "cell_type": "markdown",
      "metadata": {
        "id": "K-c95YPN686z"
      },
      "source": [
        "# Fine tuning BERT"
      ]
    },
    {
      "cell_type": "code",
      "execution_count": 11,
      "metadata": {
        "id": "QJaW8062xr5d"
      },
      "outputs": [],
      "source": [
        "# Device variable to sent models and data to GPU\n",
        "device = 'cuda' if torch.cuda.is_available() else 'cpu'"
      ]
    },
    {
      "cell_type": "code",
      "execution_count": 12,
      "metadata": {
        "colab": {
          "base_uri": "https://localhost:8080/",
          "height": 254,
          "referenced_widgets": [
            "7f0dc40da8ad42e4a00361bb4367c0a3",
            "8aa725b7f77b491ab84b41867f4fe4b1",
            "d7226af7bcd24b21b370c1afe54f9542",
            "8c2f62f78adf4a96903a1dba467fad2d",
            "34daa53db4764b679dea4a31a5cc8508",
            "ebca84edc66042e6b73264f65716983f",
            "95f00a9c136a4fe692499e42136bf1de",
            "45ef503bb6cc4ee68acd7871eec99680",
            "0d0642d403224aff9e7fcfb0597b52b5",
            "360dbaa5ec0e4363a69db14663da1d4f",
            "b484045c0c0245dd9df61a9067fe66fe",
            "928533ea599547869b03d05033064327",
            "ac6202a226214a93b7b04d943a8b1e62",
            "9c5150ce69bb46e6b943a1617dc02663",
            "001260b435934d208b5ef9a50cd47973",
            "b1a52327e92c4853bb470c32a1cac784",
            "1805c62caf8440ffb0ea8654d32b1620",
            "3551135251c34b2982401555b888efab",
            "7fb1bb14f481463bb393cf28f70bf3c0",
            "2baccc2bcb2346c19bafc52b82182faa",
            "cccb7dc52cd841479d6b6d56d5f1445c",
            "b69545866af44fa8b3b028c42c986a01",
            "8e0f76bf10d34a828241b6c7a64fbe1c",
            "94aee74e7a7e4181a29d91a4130c73a2",
            "43487f055365423e9c811a90daa7a2d8",
            "a3ae16c60e3042b599e1b46abeede417",
            "27bb89bfd7e34c92a21358b4b0ef84d4",
            "ef2cbc540be840e89e19f73cb9e60a06",
            "595b032ff5414a4ead3ce7fd73098742",
            "1118d228205947d0aa6c98ea6ceed818",
            "996f0064ba7540ea9ef8f770ffbbb053",
            "3bebbc655d1c49659c7cbab2f1634fc2",
            "8042803a48934361aed1e6b2f6ef2ed6",
            "b8b01318f5ae4e0a882c183be7ac0e2c",
            "72f0bdf9aefe46f6940f564280ffc7cf",
            "ce4216e1b5834d4c9f492324c2274329",
            "be445234f55f48788d628e6a0eeb8f42",
            "cb3559650e32490389f24c23ce18f8cb",
            "e603190ffe264edeaf8174461bd88621",
            "7024ec48343e4b26bf2f1fad4ca5b155",
            "8a934b8a35464d7cb1f50d983f29fea6",
            "3f0257055d7b40cf9737c3773cc6a912",
            "af9bf62708fb4afd98bbd3698b8162a3",
            "ec4426416e9e4a18a36545b7f1da5927"
          ]
        },
        "id": "eZc_WTVz7P9h",
        "outputId": "0ffcb6ef-bde2-41db-a3ec-400545f3453c"
      },
      "outputs": [
        {
          "name": "stderr",
          "output_type": "stream",
          "text": [
            "Some weights of the model checkpoint at bert-base-uncased were not used when initializing BertForSequenceClassification: ['cls.predictions.decoder.weight', 'cls.predictions.transform.LayerNorm.weight', 'cls.seq_relationship.weight', 'cls.predictions.transform.LayerNorm.bias', 'cls.predictions.transform.dense.weight', 'cls.predictions.transform.dense.bias', 'cls.seq_relationship.bias', 'cls.predictions.bias']\n",
            "- This IS expected if you are initializing BertForSequenceClassification from the checkpoint of a model trained on another task or with another architecture (e.g. initializing a BertForSequenceClassification model from a BertForPreTraining model).\n",
            "- This IS NOT expected if you are initializing BertForSequenceClassification from the checkpoint of a model that you expect to be exactly identical (initializing a BertForSequenceClassification model from a BertForSequenceClassification model).\n",
            "Some weights of BertForSequenceClassification were not initialized from the model checkpoint at bert-base-uncased and are newly initialized: ['classifier.weight', 'classifier.bias']\n",
            "You should probably TRAIN this model on a down-stream task to be able to use it for predictions and inference.\n"
          ]
        }
      ],
      "source": [
        "# Fetch tokenizer and Bert classification model from pre-trained library\n",
        "tokenizer = BertTokenizer.from_pretrained('bert-base-uncased', do_lower_case=True)\n",
        "bert = BertForSequenceClassification.from_pretrained('bert-base-uncased', num_labels=2).to(device)"
      ]
    },
    {
      "cell_type": "code",
      "execution_count": 13,
      "metadata": {
        "colab": {
          "base_uri": "https://localhost:8080/"
        },
        "id": "-Lmv23LvWgCO",
        "outputId": "e152e648-bd24-4903-9b5f-40f80d2765d6"
      },
      "outputs": [
        {
          "name": "stdout",
          "output_type": "stream",
          "text": [
            "Max sentence length:  65\n"
          ]
        }
      ],
      "source": [
        "# Extract sentences and labels from data\n",
        "sentences = data.df.text_processed.to_list()\n",
        "label = data.df.sentiment.to_list()\n",
        "\n",
        "max_len = 0\n",
        "\n",
        "# For every sentence...\n",
        "for sent in sentences:\n",
        "\n",
        "    # Tokenize the text and add `[CLS]` and `[SEP]` tokens.\n",
        "    input_ids = tokenizer.encode(sent, add_special_tokens=True)\n",
        "\n",
        "    # Output max length\n",
        "    max_len = max(max_len, len(input_ids))\n",
        "\n",
        "print('Max sentence length: ', max_len)"
      ]
    },
    {
      "cell_type": "code",
      "execution_count": 14,
      "metadata": {
        "colab": {
          "base_uri": "https://localhost:8080/"
        },
        "id": "sWRXMK3UWnDb",
        "outputId": "f3f8ac1b-0f63-4d5b-83a3-baeff4a581ca"
      },
      "outputs": [
        {
          "name": "stderr",
          "output_type": "stream",
          "text": [
            "Truncation was not explicitly activated but `max_length` is provided a specific value, please use `truncation=True` to explicitly truncate examples to max length. Defaulting to 'longest_first' truncation strategy. If you encode pairs of sequences (GLUE-style) with the tokenizer you can select this strategy more precisely by providing a specific strategy to `truncation`.\n",
            "/opt/anaconda3/lib/python3.9/site-packages/transformers/tokenization_utils_base.py:2364: FutureWarning: The `pad_to_max_length` argument is deprecated and will be removed in a future version, use `padding=True` or `padding='longest'` to pad to the longest sequence in the batch, or use `padding='max_length'` to pad to a max length. In this case, you can give a specific length with `max_length` (e.g. `max_length=45`) or leave max_length to None to pad to the maximal input size of the model (e.g. 512 for Bert).\n",
            "  warnings.warn(\n"
          ]
        },
        {
          "name": "stdout",
          "output_type": "stream",
          "text": [
            "Sentence  awww that s a bummer you shoulda got david carr of third day to do it\n",
            "Bert Tokenizer Token IDs tensor([  101, 22091,  2860,  2860,  2008,  1055,  1037, 26352,  5017,  2017,\n",
            "         2323,  2050,  2288,  2585, 12385,  1997,  2353,  2154,  2000,  2079,\n",
            "         2009,   102,     0,     0,     0,     0,     0,     0,     0,     0,\n",
            "            0,     0,     0,     0,     0,     0,     0,     0,     0,     0,\n",
            "            0,     0,     0,     0,     0,     0,     0,     0,     0,     0,\n",
            "            0,     0,     0,     0,     0,     0,     0,     0,     0,     0,\n",
            "            0,     0,     0,     0,     0,     0,     0,     0,     0,     0])\n"
          ]
        }
      ],
      "source": [
        "# Tokenize all of the sentences and map the tokens to thier word IDs.\n",
        "input_ids = []\n",
        "attention_masks = []\n",
        "\n",
        "\n",
        "for sent in sentences:\n",
        "    # Applying encode plus to every sentence\n",
        "    encoded_dict = tokenizer.encode_plus(\n",
        "                        sent, \n",
        "                        add_special_tokens = True, # Add sentence level classification and and sentence seperate tokens \n",
        "                        max_length = 70,           # Padding slightly larger than max sentence\n",
        "                        pad_to_max_length = True,\n",
        "                        return_attention_mask = True,   \n",
        "                        return_tensors = 'pt',     # Return pytorch tensors.\n",
        "                   )\n",
        "    \n",
        "    # Append encoded sentences to input ids list\n",
        "    input_ids.append(encoded_dict['input_ids'])\n",
        "    \n",
        "    # Append attention masks attention masks list. Helps differentiates padding from non-padding\n",
        "    attention_masks.append(encoded_dict['attention_mask'])\n",
        "\n",
        "# Convert all lists into pytorch tensors\n",
        "input_ids = torch.cat(input_ids, dim=0)\n",
        "attention_masks = torch.cat(attention_masks, dim=0)\n",
        "labels = torch.tensor(label)\n",
        "\n",
        "# Print sentence and corresponding token ids\n",
        "print('Sentence ', sentences[0])\n",
        "print('Bert Tokenizer Token IDs', input_ids[0])"
      ]
    },
    {
      "cell_type": "code",
      "execution_count": null,
      "metadata": {
        "colab": {
          "base_uri": "https://localhost:8080/"
        },
        "id": "0gnRSzgfWm9Z",
        "outputId": "ed254d6a-1985-46b5-f515-f45dfe40b191"
      },
      "outputs": [
        {
          "name": "stdout",
          "output_type": "stream",
          "text": [
            "160,000 training samples\n",
            "40,000 validation samples\n"
          ]
        }
      ],
      "source": [
        "# Create Pytorch Dataset from tokenizers\n",
        "dataset = TensorDataset(input_ids, attention_masks, labels)\n",
        "\n",
        "# Calculate the size for each subset (80/20)\n",
        "train_size = int(len(dataset)*0.8) \n",
        "val_size = len(dataset) - train_size\n",
        "\n",
        "# Divide the dataset by randomly selecting samples.\n",
        "train_dataset, val_dataset = random_split(dataset, [train_size, val_size])\n",
        "\n",
        "print('{:>5,} training samples'.format(train_size))\n",
        "print('{:>5,} validation samples'.format(val_size))"
      ]
    },
    {
      "cell_type": "code",
      "execution_count": null,
      "metadata": {
        "id": "XpzaN0gOWm64"
      },
      "outputs": [],
      "source": [
        "# Create Pytorch Data loader used for finetuning Bert in batches\n",
        "train_dataloader = DataLoader(\n",
        "            train_dataset,  # The training samples\n",
        "            sampler = RandomSampler(train_dataset), # Select batches randomly\n",
        "            batch_size = 32 # Trains with this batch size\n",
        "        )\n",
        "\n",
        "# Same for val\n",
        "validation_dataloader = DataLoader(\n",
        "            val_dataset, #\n",
        "            sampler = SequentialSampler(val_dataset), \n",
        "            batch_size = 32 \n",
        "        )"
      ]
    },
    {
      "cell_type": "code",
      "execution_count": null,
      "metadata": {
        "colab": {
          "base_uri": "https://localhost:8080/"
        },
        "id": "Pd2ks1k1Wm4A",
        "outputId": "a6726054-c65b-40ce-f1c3-e45a2f25bcb6"
      },
      "outputs": [
        {
          "name": "stderr",
          "output_type": "stream",
          "text": [
            "Some weights of the model checkpoint at bert-base-uncased were not used when initializing BertForSequenceClassification: ['cls.predictions.bias', 'cls.seq_relationship.bias', 'cls.predictions.transform.LayerNorm.weight', 'cls.predictions.decoder.weight', 'cls.predictions.transform.LayerNorm.bias', 'cls.predictions.transform.dense.bias', 'cls.seq_relationship.weight', 'cls.predictions.transform.dense.weight']\n",
            "- This IS expected if you are initializing BertForSequenceClassification from the checkpoint of a model trained on another task or with another architecture (e.g. initializing a BertForSequenceClassification model from a BertForPreTraining model).\n",
            "- This IS NOT expected if you are initializing BertForSequenceClassification from the checkpoint of a model that you expect to be exactly identical (initializing a BertForSequenceClassification model from a BertForSequenceClassification model).\n",
            "Some weights of BertForSequenceClassification were not initialized from the model checkpoint at bert-base-uncased and are newly initialized: ['classifier.weight', 'classifier.bias']\n",
            "You should probably TRAIN this model on a down-stream task to be able to use it for predictions and inference.\n"
          ]
        },
        {
          "data": {
            "text/plain": [
              "BertForSequenceClassification(\n",
              "  (bert): BertModel(\n",
              "    (embeddings): BertEmbeddings(\n",
              "      (word_embeddings): Embedding(30522, 768, padding_idx=0)\n",
              "      (position_embeddings): Embedding(512, 768)\n",
              "      (token_type_embeddings): Embedding(2, 768)\n",
              "      (LayerNorm): LayerNorm((768,), eps=1e-12, elementwise_affine=True)\n",
              "      (dropout): Dropout(p=0.1, inplace=False)\n",
              "    )\n",
              "    (encoder): BertEncoder(\n",
              "      (layer): ModuleList(\n",
              "        (0-11): 12 x BertLayer(\n",
              "          (attention): BertAttention(\n",
              "            (self): BertSelfAttention(\n",
              "              (query): Linear(in_features=768, out_features=768, bias=True)\n",
              "              (key): Linear(in_features=768, out_features=768, bias=True)\n",
              "              (value): Linear(in_features=768, out_features=768, bias=True)\n",
              "              (dropout): Dropout(p=0.1, inplace=False)\n",
              "            )\n",
              "            (output): BertSelfOutput(\n",
              "              (dense): Linear(in_features=768, out_features=768, bias=True)\n",
              "              (LayerNorm): LayerNorm((768,), eps=1e-12, elementwise_affine=True)\n",
              "              (dropout): Dropout(p=0.1, inplace=False)\n",
              "            )\n",
              "          )\n",
              "          (intermediate): BertIntermediate(\n",
              "            (dense): Linear(in_features=768, out_features=3072, bias=True)\n",
              "            (intermediate_act_fn): GELUActivation()\n",
              "          )\n",
              "          (output): BertOutput(\n",
              "            (dense): Linear(in_features=3072, out_features=768, bias=True)\n",
              "            (LayerNorm): LayerNorm((768,), eps=1e-12, elementwise_affine=True)\n",
              "            (dropout): Dropout(p=0.1, inplace=False)\n",
              "          )\n",
              "        )\n",
              "      )\n",
              "    )\n",
              "    (pooler): BertPooler(\n",
              "      (dense): Linear(in_features=768, out_features=768, bias=True)\n",
              "      (activation): Tanh()\n",
              "    )\n",
              "  )\n",
              "  (dropout): Dropout(p=0.1, inplace=False)\n",
              "  (classifier): Linear(in_features=768, out_features=2, bias=True)\n",
              ")"
            ]
          },
          "execution_count": 44,
          "metadata": {},
          "output_type": "execute_result"
        }
      ],
      "source": [
        "# Initalize pretrained Bertmodel 'bert-base-uncased'\n",
        "model = BertForSequenceClassification.from_pretrained(\n",
        "    \"bert-base-uncased\", \n",
        "    num_labels = 2, # 2 for binary classification\n",
        "    output_attentions = False, # Should not return  attentions weights\n",
        "    output_hidden_states = False, # Should not return all hidden stats\n",
        ")\n",
        "\n",
        "# Run on CUDA. Only available if computer supports it - suggesting using colab for this\n",
        "model.cuda()"
      ]
    },
    {
      "cell_type": "code",
      "execution_count": null,
      "metadata": {
        "colab": {
          "base_uri": "https://localhost:8080/"
        },
        "id": "6ulaJX65Yk0V",
        "outputId": "c84f4c9d-2cb5-4860-a605-56c267316511"
      },
      "outputs": [
        {
          "name": "stderr",
          "output_type": "stream",
          "text": [
            "/usr/local/lib/python3.10/dist-packages/transformers/optimization.py:407: FutureWarning: This implementation of AdamW is deprecated and will be removed in a future version. Use the PyTorch implementation torch.optim.AdamW instead, or set `no_deprecation_warning=True` to disable this warning\n",
            "  warnings.warn(\n"
          ]
        }
      ],
      "source": [
        "optimizer = AdamW(model.parameters(),\n",
        "                  lr=2e-5)  # Learning rate for AdamW optimzer. Chosen among suggestions by authors\n"
      ]
    },
    {
      "cell_type": "code",
      "execution_count": null,
      "metadata": {
        "id": "LqV3CXBLYkxv"
      },
      "outputs": [],
      "source": [
        "# Number of epochs. Originally used 4 epochs, however, no improvements were seen after 2 epochs, thus size have been reduced. Still within range of Authors recommendation\n",
        "epochs = 2\n",
        "\n",
        "# Total number of training steps is (batches * epochs - 32 * 2)\n",
        "total_steps = len(train_dataloader) * epochs\n",
        "\n",
        "# Create learning rate scheduler that decreases from inital lr\n",
        "scheduler = get_linear_schedule_with_warmup(optimizer, \n",
        "                                            num_warmup_steps = 0,\n",
        "                                            num_training_steps = total_steps)"
      ]
    },
    {
      "cell_type": "code",
      "execution_count": null,
      "metadata": {
        "id": "hxgieH8PYpTD"
      },
      "outputs": [],
      "source": [
        "# Accuracy calculation function\n",
        "def flat_accuracy(preds, labels):\n",
        "    pred_flat = np.argmax(preds, axis=1).flatten() \n",
        "    labels_flat = labels.flatten()\n",
        "    return np.sum(pred_flat == labels_flat) / len(labels_flat)\n"
      ]
    },
    {
      "cell_type": "code",
      "execution_count": null,
      "metadata": {
        "id": "nKt3oxf5YtlE"
      },
      "outputs": [],
      "source": [
        "# Function to calculate training time\n",
        "def format_time(elapsed):\n",
        "    elapsed_rounded = int(round((elapsed)))\n",
        "    return str(datetime.timedelta(seconds=elapsed_rounded))"
      ]
    },
    {
      "cell_type": "code",
      "execution_count": null,
      "metadata": {
        "colab": {
          "base_uri": "https://localhost:8080/"
        },
        "id": "JQz3J5HYYveN",
        "outputId": "6b7465fd-d121-4b21-9d90-09e456bea98b"
      },
      "outputs": [
        {
          "name": "stdout",
          "output_type": "stream",
          "text": [
            "\n",
            "======== Epoch 1 / 2 ========\n",
            "Training...\n",
            "  Batch    40  of  5,000.    Elapsed: 0:00:16.\n",
            "  Batch    80  of  5,000.    Elapsed: 0:00:32.\n",
            "  Batch   120  of  5,000.    Elapsed: 0:00:48.\n",
            "  Batch   160  of  5,000.    Elapsed: 0:01:03.\n",
            "  Batch   200  of  5,000.    Elapsed: 0:01:18.\n",
            "  Batch   240  of  5,000.    Elapsed: 0:01:34.\n",
            "  Batch   280  of  5,000.    Elapsed: 0:01:49.\n",
            "  Batch   320  of  5,000.    Elapsed: 0:02:05.\n",
            "  Batch   360  of  5,000.    Elapsed: 0:02:20.\n",
            "  Batch   400  of  5,000.    Elapsed: 0:02:36.\n",
            "  Batch   440  of  5,000.    Elapsed: 0:02:51.\n",
            "  Batch   480  of  5,000.    Elapsed: 0:03:07.\n",
            "  Batch   520  of  5,000.    Elapsed: 0:03:22.\n",
            "  Batch   560  of  5,000.    Elapsed: 0:03:38.\n",
            "  Batch   600  of  5,000.    Elapsed: 0:03:53.\n",
            "  Batch   640  of  5,000.    Elapsed: 0:04:09.\n",
            "  Batch   680  of  5,000.    Elapsed: 0:04:24.\n",
            "  Batch   720  of  5,000.    Elapsed: 0:04:40.\n",
            "  Batch   760  of  5,000.    Elapsed: 0:04:55.\n",
            "  Batch   800  of  5,000.    Elapsed: 0:05:11.\n",
            "  Batch   840  of  5,000.    Elapsed: 0:05:26.\n",
            "  Batch   880  of  5,000.    Elapsed: 0:05:42.\n",
            "  Batch   920  of  5,000.    Elapsed: 0:05:57.\n",
            "  Batch   960  of  5,000.    Elapsed: 0:06:12.\n",
            "  Batch 1,000  of  5,000.    Elapsed: 0:06:28.\n",
            "  Batch 1,040  of  5,000.    Elapsed: 0:06:43.\n",
            "  Batch 1,080  of  5,000.    Elapsed: 0:06:59.\n",
            "  Batch 1,120  of  5,000.    Elapsed: 0:07:14.\n",
            "  Batch 1,160  of  5,000.    Elapsed: 0:07:30.\n",
            "  Batch 1,200  of  5,000.    Elapsed: 0:07:45.\n",
            "  Batch 1,240  of  5,000.    Elapsed: 0:08:00.\n",
            "  Batch 1,280  of  5,000.    Elapsed: 0:08:16.\n",
            "  Batch 1,320  of  5,000.    Elapsed: 0:08:32.\n",
            "  Batch 1,360  of  5,000.    Elapsed: 0:08:48.\n",
            "  Batch 1,400  of  5,000.    Elapsed: 0:09:03.\n",
            "  Batch 1,440  of  5,000.    Elapsed: 0:09:18.\n",
            "  Batch 1,480  of  5,000.    Elapsed: 0:09:34.\n",
            "  Batch 1,520  of  5,000.    Elapsed: 0:09:49.\n",
            "  Batch 1,560  of  5,000.    Elapsed: 0:10:05.\n",
            "  Batch 1,600  of  5,000.    Elapsed: 0:10:20.\n",
            "  Batch 1,640  of  5,000.    Elapsed: 0:10:36.\n",
            "  Batch 1,680  of  5,000.    Elapsed: 0:10:51.\n",
            "  Batch 1,720  of  5,000.    Elapsed: 0:11:07.\n",
            "  Batch 1,760  of  5,000.    Elapsed: 0:11:22.\n",
            "  Batch 1,800  of  5,000.    Elapsed: 0:11:38.\n",
            "  Batch 1,840  of  5,000.    Elapsed: 0:11:53.\n",
            "  Batch 1,880  of  5,000.    Elapsed: 0:12:09.\n",
            "  Batch 1,920  of  5,000.    Elapsed: 0:12:24.\n",
            "  Batch 1,960  of  5,000.    Elapsed: 0:12:39.\n",
            "  Batch 2,000  of  5,000.    Elapsed: 0:12:55.\n",
            "  Batch 2,040  of  5,000.    Elapsed: 0:13:10.\n",
            "  Batch 2,080  of  5,000.    Elapsed: 0:13:26.\n",
            "  Batch 2,120  of  5,000.    Elapsed: 0:13:41.\n",
            "  Batch 2,160  of  5,000.    Elapsed: 0:13:57.\n",
            "  Batch 2,200  of  5,000.    Elapsed: 0:14:12.\n",
            "  Batch 2,240  of  5,000.    Elapsed: 0:14:28.\n",
            "  Batch 2,280  of  5,000.    Elapsed: 0:14:43.\n",
            "  Batch 2,320  of  5,000.    Elapsed: 0:14:59.\n",
            "  Batch 2,360  of  5,000.    Elapsed: 0:15:14.\n",
            "  Batch 2,400  of  5,000.    Elapsed: 0:15:29.\n",
            "  Batch 2,440  of  5,000.    Elapsed: 0:15:45.\n",
            "  Batch 2,480  of  5,000.    Elapsed: 0:16:00.\n",
            "  Batch 2,520  of  5,000.    Elapsed: 0:16:16.\n",
            "  Batch 2,560  of  5,000.    Elapsed: 0:16:31.\n",
            "  Batch 2,600  of  5,000.    Elapsed: 0:16:47.\n",
            "  Batch 2,640  of  5,000.    Elapsed: 0:17:02.\n",
            "  Batch 2,680  of  5,000.    Elapsed: 0:17:18.\n",
            "  Batch 2,720  of  5,000.    Elapsed: 0:17:33.\n",
            "  Batch 2,760  of  5,000.    Elapsed: 0:17:48.\n",
            "  Batch 2,800  of  5,000.    Elapsed: 0:18:04.\n",
            "  Batch 2,840  of  5,000.    Elapsed: 0:18:19.\n",
            "  Batch 2,880  of  5,000.    Elapsed: 0:18:35.\n",
            "  Batch 2,920  of  5,000.    Elapsed: 0:18:50.\n",
            "  Batch 2,960  of  5,000.    Elapsed: 0:19:06.\n",
            "  Batch 3,000  of  5,000.    Elapsed: 0:19:21.\n",
            "  Batch 3,040  of  5,000.    Elapsed: 0:19:37.\n",
            "  Batch 3,080  of  5,000.    Elapsed: 0:19:52.\n",
            "  Batch 3,120  of  5,000.    Elapsed: 0:20:07.\n",
            "  Batch 3,160  of  5,000.    Elapsed: 0:20:23.\n",
            "  Batch 3,200  of  5,000.    Elapsed: 0:20:38.\n",
            "  Batch 3,240  of  5,000.    Elapsed: 0:20:54.\n",
            "  Batch 3,280  of  5,000.    Elapsed: 0:21:09.\n",
            "  Batch 3,320  of  5,000.    Elapsed: 0:21:25.\n",
            "  Batch 3,360  of  5,000.    Elapsed: 0:21:40.\n",
            "  Batch 3,400  of  5,000.    Elapsed: 0:21:56.\n",
            "  Batch 3,440  of  5,000.    Elapsed: 0:22:11.\n",
            "  Batch 3,480  of  5,000.    Elapsed: 0:22:27.\n",
            "  Batch 3,520  of  5,000.    Elapsed: 0:22:42.\n",
            "  Batch 3,560  of  5,000.    Elapsed: 0:22:57.\n",
            "  Batch 3,600  of  5,000.    Elapsed: 0:23:13.\n",
            "  Batch 3,640  of  5,000.    Elapsed: 0:23:28.\n",
            "  Batch 3,680  of  5,000.    Elapsed: 0:23:44.\n",
            "  Batch 3,720  of  5,000.    Elapsed: 0:24:00.\n",
            "  Batch 3,760  of  5,000.    Elapsed: 0:24:15.\n",
            "  Batch 3,800  of  5,000.    Elapsed: 0:24:30.\n",
            "  Batch 3,840  of  5,000.    Elapsed: 0:24:46.\n",
            "  Batch 3,880  of  5,000.    Elapsed: 0:25:01.\n",
            "  Batch 3,920  of  5,000.    Elapsed: 0:25:17.\n",
            "  Batch 3,960  of  5,000.    Elapsed: 0:25:32.\n",
            "  Batch 4,000  of  5,000.    Elapsed: 0:25:48.\n",
            "  Batch 4,040  of  5,000.    Elapsed: 0:26:03.\n",
            "  Batch 4,080  of  5,000.    Elapsed: 0:26:19.\n",
            "  Batch 4,120  of  5,000.    Elapsed: 0:26:34.\n",
            "  Batch 4,160  of  5,000.    Elapsed: 0:26:50.\n",
            "  Batch 4,200  of  5,000.    Elapsed: 0:27:05.\n",
            "  Batch 4,240  of  5,000.    Elapsed: 0:27:20.\n",
            "  Batch 4,280  of  5,000.    Elapsed: 0:27:36.\n",
            "  Batch 4,320  of  5,000.    Elapsed: 0:27:51.\n",
            "  Batch 4,360  of  5,000.    Elapsed: 0:28:07.\n",
            "  Batch 4,400  of  5,000.    Elapsed: 0:28:22.\n",
            "  Batch 4,440  of  5,000.    Elapsed: 0:28:38.\n",
            "  Batch 4,480  of  5,000.    Elapsed: 0:28:53.\n",
            "  Batch 4,520  of  5,000.    Elapsed: 0:29:09.\n",
            "  Batch 4,560  of  5,000.    Elapsed: 0:29:24.\n",
            "  Batch 4,600  of  5,000.    Elapsed: 0:29:40.\n",
            "  Batch 4,640  of  5,000.    Elapsed: 0:29:55.\n",
            "  Batch 4,680  of  5,000.    Elapsed: 0:30:11.\n",
            "  Batch 4,720  of  5,000.    Elapsed: 0:30:26.\n",
            "  Batch 4,760  of  5,000.    Elapsed: 0:30:42.\n",
            "  Batch 4,800  of  5,000.    Elapsed: 0:30:57.\n",
            "  Batch 4,840  of  5,000.    Elapsed: 0:31:13.\n",
            "  Batch 4,880  of  5,000.    Elapsed: 0:31:28.\n",
            "  Batch 4,920  of  5,000.    Elapsed: 0:31:44.\n",
            "  Batch 4,960  of  5,000.    Elapsed: 0:31:59.\n",
            "\n",
            "  Average training loss: 0.45\n",
            "  Training epcoh took: 0:32:14\n",
            "\n",
            "Running Validation...\n",
            "  Accuracy: 0.80\n",
            "  Validation Loss: 0.44\n",
            "  Validation took: 0:03:01\n",
            "\n",
            "======== Epoch 2 / 2 ========\n",
            "Training...\n",
            "  Batch    40  of  5,000.    Elapsed: 0:00:15.\n",
            "  Batch    80  of  5,000.    Elapsed: 0:00:31.\n",
            "  Batch   120  of  5,000.    Elapsed: 0:00:46.\n",
            "  Batch   160  of  5,000.    Elapsed: 0:01:02.\n",
            "  Batch   200  of  5,000.    Elapsed: 0:01:17.\n",
            "  Batch   240  of  5,000.    Elapsed: 0:01:33.\n",
            "  Batch   280  of  5,000.    Elapsed: 0:01:48.\n",
            "  Batch   320  of  5,000.    Elapsed: 0:02:04.\n",
            "  Batch   360  of  5,000.    Elapsed: 0:02:19.\n",
            "  Batch   400  of  5,000.    Elapsed: 0:02:35.\n",
            "  Batch   440  of  5,000.    Elapsed: 0:02:50.\n",
            "  Batch   480  of  5,000.    Elapsed: 0:03:06.\n",
            "  Batch   520  of  5,000.    Elapsed: 0:03:21.\n",
            "  Batch   560  of  5,000.    Elapsed: 0:03:37.\n",
            "  Batch   600  of  5,000.    Elapsed: 0:03:52.\n",
            "  Batch   640  of  5,000.    Elapsed: 0:04:08.\n",
            "  Batch   680  of  5,000.    Elapsed: 0:04:23.\n",
            "  Batch   720  of  5,000.    Elapsed: 0:04:39.\n",
            "  Batch   760  of  5,000.    Elapsed: 0:04:54.\n",
            "  Batch   800  of  5,000.    Elapsed: 0:05:10.\n",
            "  Batch   840  of  5,000.    Elapsed: 0:05:25.\n",
            "  Batch   880  of  5,000.    Elapsed: 0:05:41.\n",
            "  Batch   920  of  5,000.    Elapsed: 0:05:56.\n",
            "  Batch   960  of  5,000.    Elapsed: 0:06:12.\n",
            "  Batch 1,000  of  5,000.    Elapsed: 0:06:27.\n",
            "  Batch 1,040  of  5,000.    Elapsed: 0:06:43.\n",
            "  Batch 1,080  of  5,000.    Elapsed: 0:06:58.\n",
            "  Batch 1,120  of  5,000.    Elapsed: 0:07:14.\n",
            "  Batch 1,160  of  5,000.    Elapsed: 0:07:29.\n",
            "  Batch 1,200  of  5,000.    Elapsed: 0:07:45.\n",
            "  Batch 1,240  of  5,000.    Elapsed: 0:08:00.\n",
            "  Batch 1,280  of  5,000.    Elapsed: 0:08:16.\n",
            "  Batch 1,320  of  5,000.    Elapsed: 0:08:31.\n",
            "  Batch 1,360  of  5,000.    Elapsed: 0:08:46.\n",
            "  Batch 1,400  of  5,000.    Elapsed: 0:09:02.\n",
            "  Batch 1,440  of  5,000.    Elapsed: 0:09:17.\n",
            "  Batch 1,480  of  5,000.    Elapsed: 0:09:33.\n",
            "  Batch 1,520  of  5,000.    Elapsed: 0:09:48.\n",
            "  Batch 1,560  of  5,000.    Elapsed: 0:10:04.\n",
            "  Batch 1,600  of  5,000.    Elapsed: 0:10:19.\n",
            "  Batch 1,640  of  5,000.    Elapsed: 0:10:35.\n",
            "  Batch 1,680  of  5,000.    Elapsed: 0:10:50.\n",
            "  Batch 1,720  of  5,000.    Elapsed: 0:11:06.\n",
            "  Batch 1,760  of  5,000.    Elapsed: 0:11:21.\n",
            "  Batch 1,800  of  5,000.    Elapsed: 0:11:37.\n",
            "  Batch 1,840  of  5,000.    Elapsed: 0:11:52.\n",
            "  Batch 1,880  of  5,000.    Elapsed: 0:12:08.\n",
            "  Batch 1,920  of  5,000.    Elapsed: 0:12:23.\n",
            "  Batch 1,960  of  5,000.    Elapsed: 0:12:38.\n",
            "  Batch 2,000  of  5,000.    Elapsed: 0:12:54.\n",
            "  Batch 2,040  of  5,000.    Elapsed: 0:13:09.\n",
            "  Batch 2,080  of  5,000.    Elapsed: 0:13:25.\n",
            "  Batch 2,120  of  5,000.    Elapsed: 0:13:40.\n",
            "  Batch 2,160  of  5,000.    Elapsed: 0:13:56.\n",
            "  Batch 2,200  of  5,000.    Elapsed: 0:14:11.\n",
            "  Batch 2,240  of  5,000.    Elapsed: 0:14:27.\n",
            "  Batch 2,280  of  5,000.    Elapsed: 0:14:42.\n",
            "  Batch 2,320  of  5,000.    Elapsed: 0:14:58.\n",
            "  Batch 2,360  of  5,000.    Elapsed: 0:15:13.\n",
            "  Batch 2,400  of  5,000.    Elapsed: 0:15:28.\n",
            "  Batch 2,440  of  5,000.    Elapsed: 0:15:44.\n",
            "  Batch 2,480  of  5,000.    Elapsed: 0:15:59.\n",
            "  Batch 2,520  of  5,000.    Elapsed: 0:16:15.\n",
            "  Batch 2,560  of  5,000.    Elapsed: 0:16:30.\n",
            "  Batch 2,600  of  5,000.    Elapsed: 0:16:46.\n",
            "  Batch 2,640  of  5,000.    Elapsed: 0:17:01.\n",
            "  Batch 2,680  of  5,000.    Elapsed: 0:17:17.\n",
            "  Batch 2,720  of  5,000.    Elapsed: 0:17:32.\n",
            "  Batch 2,760  of  5,000.    Elapsed: 0:17:48.\n",
            "  Batch 2,800  of  5,000.    Elapsed: 0:18:03.\n",
            "  Batch 2,840  of  5,000.    Elapsed: 0:18:19.\n",
            "  Batch 2,880  of  5,000.    Elapsed: 0:18:34.\n",
            "  Batch 2,920  of  5,000.    Elapsed: 0:18:50.\n",
            "  Batch 2,960  of  5,000.    Elapsed: 0:19:05.\n",
            "  Batch 3,000  of  5,000.    Elapsed: 0:19:21.\n",
            "  Batch 3,040  of  5,000.    Elapsed: 0:19:36.\n",
            "  Batch 3,080  of  5,000.    Elapsed: 0:19:51.\n",
            "  Batch 3,120  of  5,000.    Elapsed: 0:20:07.\n",
            "  Batch 3,160  of  5,000.    Elapsed: 0:20:22.\n",
            "  Batch 3,200  of  5,000.    Elapsed: 0:20:38.\n",
            "  Batch 3,240  of  5,000.    Elapsed: 0:20:53.\n",
            "  Batch 3,280  of  5,000.    Elapsed: 0:21:09.\n",
            "  Batch 3,320  of  5,000.    Elapsed: 0:21:24.\n",
            "  Batch 3,360  of  5,000.    Elapsed: 0:21:40.\n",
            "  Batch 3,400  of  5,000.    Elapsed: 0:21:55.\n",
            "  Batch 3,440  of  5,000.    Elapsed: 0:22:11.\n",
            "  Batch 3,480  of  5,000.    Elapsed: 0:22:26.\n",
            "  Batch 3,520  of  5,000.    Elapsed: 0:22:42.\n",
            "  Batch 3,560  of  5,000.    Elapsed: 0:22:57.\n",
            "  Batch 3,600  of  5,000.    Elapsed: 0:23:13.\n",
            "  Batch 3,640  of  5,000.    Elapsed: 0:23:28.\n",
            "  Batch 3,680  of  5,000.    Elapsed: 0:23:44.\n",
            "  Batch 3,720  of  5,000.    Elapsed: 0:23:59.\n",
            "  Batch 3,760  of  5,000.    Elapsed: 0:24:15.\n",
            "  Batch 3,800  of  5,000.    Elapsed: 0:24:30.\n",
            "  Batch 3,840  of  5,000.    Elapsed: 0:24:45.\n",
            "  Batch 3,880  of  5,000.    Elapsed: 0:25:01.\n",
            "  Batch 3,920  of  5,000.    Elapsed: 0:25:16.\n",
            "  Batch 3,960  of  5,000.    Elapsed: 0:25:32.\n",
            "  Batch 4,000  of  5,000.    Elapsed: 0:25:47.\n",
            "  Batch 4,040  of  5,000.    Elapsed: 0:26:03.\n",
            "  Batch 4,080  of  5,000.    Elapsed: 0:26:18.\n",
            "  Batch 4,120  of  5,000.    Elapsed: 0:26:34.\n",
            "  Batch 4,160  of  5,000.    Elapsed: 0:26:49.\n",
            "  Batch 4,200  of  5,000.    Elapsed: 0:27:05.\n",
            "  Batch 4,240  of  5,000.    Elapsed: 0:27:20.\n",
            "  Batch 4,280  of  5,000.    Elapsed: 0:27:36.\n",
            "  Batch 4,320  of  5,000.    Elapsed: 0:27:51.\n",
            "  Batch 4,360  of  5,000.    Elapsed: 0:28:07.\n",
            "  Batch 4,400  of  5,000.    Elapsed: 0:28:22.\n",
            "  Batch 4,440  of  5,000.    Elapsed: 0:28:38.\n",
            "  Batch 4,480  of  5,000.    Elapsed: 0:28:53.\n",
            "  Batch 4,520  of  5,000.    Elapsed: 0:29:08.\n",
            "  Batch 4,560  of  5,000.    Elapsed: 0:29:24.\n",
            "  Batch 4,600  of  5,000.    Elapsed: 0:29:39.\n",
            "  Batch 4,640  of  5,000.    Elapsed: 0:29:55.\n",
            "  Batch 4,680  of  5,000.    Elapsed: 0:30:10.\n",
            "  Batch 4,720  of  5,000.    Elapsed: 0:30:26.\n",
            "  Batch 4,760  of  5,000.    Elapsed: 0:30:41.\n",
            "  Batch 4,800  of  5,000.    Elapsed: 0:30:57.\n",
            "  Batch 4,840  of  5,000.    Elapsed: 0:31:12.\n",
            "  Batch 4,880  of  5,000.    Elapsed: 0:31:28.\n",
            "  Batch 4,920  of  5,000.    Elapsed: 0:31:43.\n",
            "  Batch 4,960  of  5,000.    Elapsed: 0:31:59.\n",
            "\n",
            "  Average training loss: 0.38\n",
            "  Training epcoh took: 0:32:14\n",
            "\n",
            "Running Validation...\n",
            "  Accuracy: 0.80\n",
            "  Validation Loss: 0.45\n",
            "  Validation took: 0:03:01\n",
            "\n",
            "Training complete!\n",
            "Total training took 1:10:31 (h:mm:ss)\n"
          ]
        }
      ],
      "source": [
        "# This training code is based on the `run_glue.py` script here: https://github.com/huggingface/transformers/blob/5bfcd0485ece086ebcbed2d008813037968a9e58/examples/run_glue.py#L128\n",
        "\n",
        "seed_val = 42\n",
        "\n",
        "random.seed(seed_val)\n",
        "np.random.seed(seed_val)\n",
        "torch.manual_seed(seed_val)\n",
        "torch.cuda.manual_seed_all(seed_val)\n",
        "\n",
        "# List for storing training stats, like val loss\n",
        "training_stats = []\n",
        "\n",
        "# Calculate total training time\n",
        "total_t0 = time.time()\n",
        "\n",
        "# Loop through every epoch to train data\n",
        "for epoch_i in range(0, epochs):\n",
        "\n",
        "    print(\"\")\n",
        "    print(f'======== Epoch {epoch_i + 1} / {epochs} ========')\n",
        "    print('Training...')\n",
        "\n",
        "    # Measure how long the training epoch takes.\n",
        "    t0 = time.time()\n",
        "\n",
        "    # Reset the total loss for this epoch.\n",
        "    total_train_loss = 0\n",
        "\n",
        "    # Putting the model into training model\n",
        "    model.train()\n",
        "\n",
        "    # Loop through step and batch\n",
        "    for step, batch in enumerate(train_dataloader):\n",
        "\n",
        "        # Progress every 40 loops\n",
        "        if step % 40 == 0 and not step == 0:\n",
        "            \n",
        "            # Calculate elapsed time in minutes.\n",
        "            elapsed = format_time(time.time() - t0)\n",
        "            \n",
        "            # Report progress.\n",
        "            print('  Batch {:>5,}  of  {:>5,}.    Elapsed: {:}.'.format(step, len(train_dataloader), elapsed))\n",
        "\n",
        "        # Unpack input id , attention masks and labels from our training data loader\n",
        "\n",
        "        b_input_ids = batch[0].to(device)\n",
        "        b_input_mask = batch[1].to(device)\n",
        "        b_labels = batch[2].to(device)\n",
        "\n",
        "        # Clearing previously calculate gradients\n",
        "        model.zero_grad()        \n",
        "\n",
        "        # Evaluating model on our batch, and getting loss from the batch\n",
        "        loss, logits = model(b_input_ids, \n",
        "                             token_type_ids=None, \n",
        "                             attention_mask=b_input_mask, \n",
        "                             labels=b_labels,\n",
        "                             return_dict=False)\n",
        "\n",
        "        \n",
        "        # Aggregating training loss to gloabl loss\n",
        "        total_train_loss += loss.item()\n",
        "\n",
        "        # Perform a backward pass to calculate the gradients\n",
        "        loss.backward()\n",
        "\n",
        "        # Cliping the norm of gradients Clip the norm of the gradients to 1.0.\n",
        "        torch.nn.utils.clip_grad_norm_(model.parameters(), 1.0)\n",
        "\n",
        "        # Update parameters and take a step using the computed gradient\n",
        "        optimizer.step()\n",
        "\n",
        "        # Update the learning rate scheduler\n",
        "        scheduler.step()\n",
        "\n",
        "    # Calculate the average loss over all of the batches\n",
        "    avg_train_loss = total_train_loss / len(train_dataloader)            \n",
        "    \n",
        "    # Measure how long this epoch took\n",
        "    training_time = format_time(time.time() - t0)\n",
        "\n",
        "    # Print results after epoch\n",
        "    print(\"\")\n",
        "    print(f\"  Average training loss: {avg_train_loss:.2f}\")\n",
        "    print(\"  Training epcoh took: {training_time}\")\n",
        "        \n",
        "    #### Do all the same for validation, to measure validation loss and accuracy - only difference is that model is in eval mode and we are not computing gradient, since this is only needed for backprop during training \n",
        "\n",
        "    print(\"\")\n",
        "    print(\"Running Validation...\")\n",
        "\n",
        "    t0 = time.time()\n",
        "\n",
        "    # Put the model in eval mode\n",
        "    model.eval()\n",
        "\n",
        "    # Tracking variables \n",
        "    total_eval_accuracy = 0\n",
        "    total_eval_loss = 0\n",
        "    nb_eval_steps = 0\n",
        "\n",
        "    # Evaluate data for one epoch\n",
        "    for batch in validation_dataloader:\n",
        "        # Same principle as training\n",
        "        b_input_ids = batch[0].to(device)\n",
        "        b_input_mask = batch[1].to(device)\n",
        "        b_labels = batch[2].to(device)\n",
        "        \n",
        "        \n",
        "        with torch.no_grad():        \n",
        "            \n",
        "            (loss, logits) = model(b_input_ids, \n",
        "                                   token_type_ids=None, \n",
        "                                   attention_mask=b_input_mask,\n",
        "                                   labels=b_labels,\n",
        "                                   return_dict=False)\n",
        "            \n",
        "        # Accumulate the validation loss\n",
        "        total_eval_loss += loss.item()\n",
        "\n",
        "        # Move logits and labels to CPU\n",
        "        logits = logits.detach().cpu().numpy()\n",
        "        label_ids = b_labels.to('cpu').numpy()\n",
        "\n",
        "        # Calculate accuracy from predicted values over true values\n",
        "        total_eval_accuracy += flat_accuracy(logits, label_ids)\n",
        "        \n",
        "\n",
        "    # Report the final accuracy for this validation run\n",
        "    avg_val_accuracy = total_eval_accuracy / len(validation_dataloader)\n",
        "    print(\"  Accuracy: {0:.2f}\".format(avg_val_accuracy))\n",
        "\n",
        "    # Calculate the average loss over all of the batches\n",
        "    avg_val_loss = total_eval_loss / len(validation_dataloader)\n",
        "    \n",
        "    # Measure how long the validation run took\n",
        "    validation_time = format_time(time.time() - t0)\n",
        "    \n",
        "    print(\"  Validation Loss: {0:.2f}\".format(avg_val_loss))\n",
        "    print(\"  Validation took: {:}\".format(validation_time))\n",
        "\n",
        "    # Append stats from training\n",
        "    training_stats.append(\n",
        "        {\n",
        "            'epoch': epoch_i + 1,\n",
        "            'Training Loss': avg_train_loss,\n",
        "            'Valid. Loss': avg_val_loss,\n",
        "            'Valid. Accur.': avg_val_accuracy,\n",
        "            'Training Time': training_time,\n",
        "            'Validation Time': validation_time\n",
        "        }\n",
        "    )\n",
        "\n",
        "print(\"\")\n",
        "print(\"Training complete!\")\n",
        "\n",
        "print(f\"Total training took {format_time(time.time()-total_t0)} (h:mm:ss)\")"
      ]
    },
    {
      "cell_type": "code",
      "execution_count": null,
      "metadata": {
        "colab": {
          "base_uri": "https://localhost:8080/"
        },
        "id": "37UUjUPiY2nW",
        "outputId": "0f90fb71-f031-4cc7-b137-7aef11e035a3"
      },
      "outputs": [
        {
          "data": {
            "text/plain": [
              "('/content/drive/MyDrive/NLP/tokenizer_config.json',\n",
              " '/content/drive/MyDrive/NLP/special_tokens_map.json',\n",
              " '/content/drive/MyDrive/NLP/vocab.txt',\n",
              " '/content/drive/MyDrive/NLP/added_tokens.json')"
            ]
          },
          "execution_count": 61,
          "metadata": {},
          "output_type": "execute_result"
        }
      ],
      "source": [
        "output_dir = os.getcwd()\n",
        "\n",
        "# Save model \n",
        "model_to_save = model.module if hasattr(model, 'module') else model  # Take care of distributed/parallel training\n",
        "model_to_save.save_pretrained(f'{output_dir}/models')\n",
        "tokenizer.save_pretrained(f'{output_dir}/models')"
      ]
    }
  ],
  "metadata": {
    "accelerator": "GPU",
    "colab": {
      "collapsed_sections": [
        "G-tmVZHDp-fL",
        "EsqKOckVp-fR",
        "etmDmW6vp-fR",
        "lXZJsAz0p-fS",
        "loAYVu1bp-fc",
        "fWLDgvOQp-fd",
        "RKrflwicp-fe",
        "1OocYthzp-fe",
        "67hoWb-cp-ff",
        "AiB00HLCp-fg",
        "gWCkUs6pa0PS"
      ],
      "gpuType": "T4",
      "provenance": []
    },
    "gpuClass": "standard",
    "kernelspec": {
      "display_name": "base",
      "language": "python",
      "name": "python3"
    },
    "language_info": {
      "codemirror_mode": {
        "name": "ipython",
        "version": 3
      },
      "file_extension": ".py",
      "mimetype": "text/x-python",
      "name": "python",
      "nbconvert_exporter": "python",
      "pygments_lexer": "ipython3",
      "version": "3.9.7"
    },
    "orig_nbformat": 4,
    "widgets": {
      "application/vnd.jupyter.widget-state+json": {
        "001260b435934d208b5ef9a50cd47973": {
          "model_module": "@jupyter-widgets/controls",
          "model_module_version": "1.5.0",
          "model_name": "HTMLModel",
          "state": {
            "_dom_classes": [],
            "_model_module": "@jupyter-widgets/controls",
            "_model_module_version": "1.5.0",
            "_model_name": "HTMLModel",
            "_view_count": null,
            "_view_module": "@jupyter-widgets/controls",
            "_view_module_version": "1.5.0",
            "_view_name": "HTMLView",
            "description": "",
            "description_tooltip": null,
            "layout": "IPY_MODEL_cccb7dc52cd841479d6b6d56d5f1445c",
            "placeholder": "​",
            "style": "IPY_MODEL_b69545866af44fa8b3b028c42c986a01",
            "value": " 28.0/28.0 [00:00&lt;00:00, 912B/s]"
          }
        },
        "0d0642d403224aff9e7fcfb0597b52b5": {
          "model_module": "@jupyter-widgets/controls",
          "model_module_version": "1.5.0",
          "model_name": "ProgressStyleModel",
          "state": {
            "_model_module": "@jupyter-widgets/controls",
            "_model_module_version": "1.5.0",
            "_model_name": "ProgressStyleModel",
            "_view_count": null,
            "_view_module": "@jupyter-widgets/base",
            "_view_module_version": "1.2.0",
            "_view_name": "StyleView",
            "bar_color": null,
            "description_width": ""
          }
        },
        "1118d228205947d0aa6c98ea6ceed818": {
          "model_module": "@jupyter-widgets/base",
          "model_module_version": "1.2.0",
          "model_name": "LayoutModel",
          "state": {
            "_model_module": "@jupyter-widgets/base",
            "_model_module_version": "1.2.0",
            "_model_name": "LayoutModel",
            "_view_count": null,
            "_view_module": "@jupyter-widgets/base",
            "_view_module_version": "1.2.0",
            "_view_name": "LayoutView",
            "align_content": null,
            "align_items": null,
            "align_self": null,
            "border": null,
            "bottom": null,
            "display": null,
            "flex": null,
            "flex_flow": null,
            "grid_area": null,
            "grid_auto_columns": null,
            "grid_auto_flow": null,
            "grid_auto_rows": null,
            "grid_column": null,
            "grid_gap": null,
            "grid_row": null,
            "grid_template_areas": null,
            "grid_template_columns": null,
            "grid_template_rows": null,
            "height": null,
            "justify_content": null,
            "justify_items": null,
            "left": null,
            "margin": null,
            "max_height": null,
            "max_width": null,
            "min_height": null,
            "min_width": null,
            "object_fit": null,
            "object_position": null,
            "order": null,
            "overflow": null,
            "overflow_x": null,
            "overflow_y": null,
            "padding": null,
            "right": null,
            "top": null,
            "visibility": null,
            "width": null
          }
        },
        "1805c62caf8440ffb0ea8654d32b1620": {
          "model_module": "@jupyter-widgets/base",
          "model_module_version": "1.2.0",
          "model_name": "LayoutModel",
          "state": {
            "_model_module": "@jupyter-widgets/base",
            "_model_module_version": "1.2.0",
            "_model_name": "LayoutModel",
            "_view_count": null,
            "_view_module": "@jupyter-widgets/base",
            "_view_module_version": "1.2.0",
            "_view_name": "LayoutView",
            "align_content": null,
            "align_items": null,
            "align_self": null,
            "border": null,
            "bottom": null,
            "display": null,
            "flex": null,
            "flex_flow": null,
            "grid_area": null,
            "grid_auto_columns": null,
            "grid_auto_flow": null,
            "grid_auto_rows": null,
            "grid_column": null,
            "grid_gap": null,
            "grid_row": null,
            "grid_template_areas": null,
            "grid_template_columns": null,
            "grid_template_rows": null,
            "height": null,
            "justify_content": null,
            "justify_items": null,
            "left": null,
            "margin": null,
            "max_height": null,
            "max_width": null,
            "min_height": null,
            "min_width": null,
            "object_fit": null,
            "object_position": null,
            "order": null,
            "overflow": null,
            "overflow_x": null,
            "overflow_y": null,
            "padding": null,
            "right": null,
            "top": null,
            "visibility": null,
            "width": null
          }
        },
        "27bb89bfd7e34c92a21358b4b0ef84d4": {
          "model_module": "@jupyter-widgets/base",
          "model_module_version": "1.2.0",
          "model_name": "LayoutModel",
          "state": {
            "_model_module": "@jupyter-widgets/base",
            "_model_module_version": "1.2.0",
            "_model_name": "LayoutModel",
            "_view_count": null,
            "_view_module": "@jupyter-widgets/base",
            "_view_module_version": "1.2.0",
            "_view_name": "LayoutView",
            "align_content": null,
            "align_items": null,
            "align_self": null,
            "border": null,
            "bottom": null,
            "display": null,
            "flex": null,
            "flex_flow": null,
            "grid_area": null,
            "grid_auto_columns": null,
            "grid_auto_flow": null,
            "grid_auto_rows": null,
            "grid_column": null,
            "grid_gap": null,
            "grid_row": null,
            "grid_template_areas": null,
            "grid_template_columns": null,
            "grid_template_rows": null,
            "height": null,
            "justify_content": null,
            "justify_items": null,
            "left": null,
            "margin": null,
            "max_height": null,
            "max_width": null,
            "min_height": null,
            "min_width": null,
            "object_fit": null,
            "object_position": null,
            "order": null,
            "overflow": null,
            "overflow_x": null,
            "overflow_y": null,
            "padding": null,
            "right": null,
            "top": null,
            "visibility": null,
            "width": null
          }
        },
        "2baccc2bcb2346c19bafc52b82182faa": {
          "model_module": "@jupyter-widgets/controls",
          "model_module_version": "1.5.0",
          "model_name": "ProgressStyleModel",
          "state": {
            "_model_module": "@jupyter-widgets/controls",
            "_model_module_version": "1.5.0",
            "_model_name": "ProgressStyleModel",
            "_view_count": null,
            "_view_module": "@jupyter-widgets/base",
            "_view_module_version": "1.2.0",
            "_view_name": "StyleView",
            "bar_color": null,
            "description_width": ""
          }
        },
        "34daa53db4764b679dea4a31a5cc8508": {
          "model_module": "@jupyter-widgets/base",
          "model_module_version": "1.2.0",
          "model_name": "LayoutModel",
          "state": {
            "_model_module": "@jupyter-widgets/base",
            "_model_module_version": "1.2.0",
            "_model_name": "LayoutModel",
            "_view_count": null,
            "_view_module": "@jupyter-widgets/base",
            "_view_module_version": "1.2.0",
            "_view_name": "LayoutView",
            "align_content": null,
            "align_items": null,
            "align_self": null,
            "border": null,
            "bottom": null,
            "display": null,
            "flex": null,
            "flex_flow": null,
            "grid_area": null,
            "grid_auto_columns": null,
            "grid_auto_flow": null,
            "grid_auto_rows": null,
            "grid_column": null,
            "grid_gap": null,
            "grid_row": null,
            "grid_template_areas": null,
            "grid_template_columns": null,
            "grid_template_rows": null,
            "height": null,
            "justify_content": null,
            "justify_items": null,
            "left": null,
            "margin": null,
            "max_height": null,
            "max_width": null,
            "min_height": null,
            "min_width": null,
            "object_fit": null,
            "object_position": null,
            "order": null,
            "overflow": null,
            "overflow_x": null,
            "overflow_y": null,
            "padding": null,
            "right": null,
            "top": null,
            "visibility": null,
            "width": null
          }
        },
        "3551135251c34b2982401555b888efab": {
          "model_module": "@jupyter-widgets/controls",
          "model_module_version": "1.5.0",
          "model_name": "DescriptionStyleModel",
          "state": {
            "_model_module": "@jupyter-widgets/controls",
            "_model_module_version": "1.5.0",
            "_model_name": "DescriptionStyleModel",
            "_view_count": null,
            "_view_module": "@jupyter-widgets/base",
            "_view_module_version": "1.2.0",
            "_view_name": "StyleView",
            "description_width": ""
          }
        },
        "360dbaa5ec0e4363a69db14663da1d4f": {
          "model_module": "@jupyter-widgets/base",
          "model_module_version": "1.2.0",
          "model_name": "LayoutModel",
          "state": {
            "_model_module": "@jupyter-widgets/base",
            "_model_module_version": "1.2.0",
            "_model_name": "LayoutModel",
            "_view_count": null,
            "_view_module": "@jupyter-widgets/base",
            "_view_module_version": "1.2.0",
            "_view_name": "LayoutView",
            "align_content": null,
            "align_items": null,
            "align_self": null,
            "border": null,
            "bottom": null,
            "display": null,
            "flex": null,
            "flex_flow": null,
            "grid_area": null,
            "grid_auto_columns": null,
            "grid_auto_flow": null,
            "grid_auto_rows": null,
            "grid_column": null,
            "grid_gap": null,
            "grid_row": null,
            "grid_template_areas": null,
            "grid_template_columns": null,
            "grid_template_rows": null,
            "height": null,
            "justify_content": null,
            "justify_items": null,
            "left": null,
            "margin": null,
            "max_height": null,
            "max_width": null,
            "min_height": null,
            "min_width": null,
            "object_fit": null,
            "object_position": null,
            "order": null,
            "overflow": null,
            "overflow_x": null,
            "overflow_y": null,
            "padding": null,
            "right": null,
            "top": null,
            "visibility": null,
            "width": null
          }
        },
        "3bebbc655d1c49659c7cbab2f1634fc2": {
          "model_module": "@jupyter-widgets/base",
          "model_module_version": "1.2.0",
          "model_name": "LayoutModel",
          "state": {
            "_model_module": "@jupyter-widgets/base",
            "_model_module_version": "1.2.0",
            "_model_name": "LayoutModel",
            "_view_count": null,
            "_view_module": "@jupyter-widgets/base",
            "_view_module_version": "1.2.0",
            "_view_name": "LayoutView",
            "align_content": null,
            "align_items": null,
            "align_self": null,
            "border": null,
            "bottom": null,
            "display": null,
            "flex": null,
            "flex_flow": null,
            "grid_area": null,
            "grid_auto_columns": null,
            "grid_auto_flow": null,
            "grid_auto_rows": null,
            "grid_column": null,
            "grid_gap": null,
            "grid_row": null,
            "grid_template_areas": null,
            "grid_template_columns": null,
            "grid_template_rows": null,
            "height": null,
            "justify_content": null,
            "justify_items": null,
            "left": null,
            "margin": null,
            "max_height": null,
            "max_width": null,
            "min_height": null,
            "min_width": null,
            "object_fit": null,
            "object_position": null,
            "order": null,
            "overflow": null,
            "overflow_x": null,
            "overflow_y": null,
            "padding": null,
            "right": null,
            "top": null,
            "visibility": null,
            "width": null
          }
        },
        "3f0257055d7b40cf9737c3773cc6a912": {
          "model_module": "@jupyter-widgets/controls",
          "model_module_version": "1.5.0",
          "model_name": "ProgressStyleModel",
          "state": {
            "_model_module": "@jupyter-widgets/controls",
            "_model_module_version": "1.5.0",
            "_model_name": "ProgressStyleModel",
            "_view_count": null,
            "_view_module": "@jupyter-widgets/base",
            "_view_module_version": "1.2.0",
            "_view_name": "StyleView",
            "bar_color": null,
            "description_width": ""
          }
        },
        "43487f055365423e9c811a90daa7a2d8": {
          "model_module": "@jupyter-widgets/controls",
          "model_module_version": "1.5.0",
          "model_name": "FloatProgressModel",
          "state": {
            "_dom_classes": [],
            "_model_module": "@jupyter-widgets/controls",
            "_model_module_version": "1.5.0",
            "_model_name": "FloatProgressModel",
            "_view_count": null,
            "_view_module": "@jupyter-widgets/controls",
            "_view_module_version": "1.5.0",
            "_view_name": "ProgressView",
            "bar_style": "success",
            "description": "",
            "description_tooltip": null,
            "layout": "IPY_MODEL_1118d228205947d0aa6c98ea6ceed818",
            "max": 570,
            "min": 0,
            "orientation": "horizontal",
            "style": "IPY_MODEL_996f0064ba7540ea9ef8f770ffbbb053",
            "value": 570
          }
        },
        "45ef503bb6cc4ee68acd7871eec99680": {
          "model_module": "@jupyter-widgets/base",
          "model_module_version": "1.2.0",
          "model_name": "LayoutModel",
          "state": {
            "_model_module": "@jupyter-widgets/base",
            "_model_module_version": "1.2.0",
            "_model_name": "LayoutModel",
            "_view_count": null,
            "_view_module": "@jupyter-widgets/base",
            "_view_module_version": "1.2.0",
            "_view_name": "LayoutView",
            "align_content": null,
            "align_items": null,
            "align_self": null,
            "border": null,
            "bottom": null,
            "display": null,
            "flex": null,
            "flex_flow": null,
            "grid_area": null,
            "grid_auto_columns": null,
            "grid_auto_flow": null,
            "grid_auto_rows": null,
            "grid_column": null,
            "grid_gap": null,
            "grid_row": null,
            "grid_template_areas": null,
            "grid_template_columns": null,
            "grid_template_rows": null,
            "height": null,
            "justify_content": null,
            "justify_items": null,
            "left": null,
            "margin": null,
            "max_height": null,
            "max_width": null,
            "min_height": null,
            "min_width": null,
            "object_fit": null,
            "object_position": null,
            "order": null,
            "overflow": null,
            "overflow_x": null,
            "overflow_y": null,
            "padding": null,
            "right": null,
            "top": null,
            "visibility": null,
            "width": null
          }
        },
        "595b032ff5414a4ead3ce7fd73098742": {
          "model_module": "@jupyter-widgets/controls",
          "model_module_version": "1.5.0",
          "model_name": "DescriptionStyleModel",
          "state": {
            "_model_module": "@jupyter-widgets/controls",
            "_model_module_version": "1.5.0",
            "_model_name": "DescriptionStyleModel",
            "_view_count": null,
            "_view_module": "@jupyter-widgets/base",
            "_view_module_version": "1.2.0",
            "_view_name": "StyleView",
            "description_width": ""
          }
        },
        "7024ec48343e4b26bf2f1fad4ca5b155": {
          "model_module": "@jupyter-widgets/controls",
          "model_module_version": "1.5.0",
          "model_name": "DescriptionStyleModel",
          "state": {
            "_model_module": "@jupyter-widgets/controls",
            "_model_module_version": "1.5.0",
            "_model_name": "DescriptionStyleModel",
            "_view_count": null,
            "_view_module": "@jupyter-widgets/base",
            "_view_module_version": "1.2.0",
            "_view_name": "StyleView",
            "description_width": ""
          }
        },
        "72f0bdf9aefe46f6940f564280ffc7cf": {
          "model_module": "@jupyter-widgets/controls",
          "model_module_version": "1.5.0",
          "model_name": "HTMLModel",
          "state": {
            "_dom_classes": [],
            "_model_module": "@jupyter-widgets/controls",
            "_model_module_version": "1.5.0",
            "_model_name": "HTMLModel",
            "_view_count": null,
            "_view_module": "@jupyter-widgets/controls",
            "_view_module_version": "1.5.0",
            "_view_name": "HTMLView",
            "description": "",
            "description_tooltip": null,
            "layout": "IPY_MODEL_e603190ffe264edeaf8174461bd88621",
            "placeholder": "​",
            "style": "IPY_MODEL_7024ec48343e4b26bf2f1fad4ca5b155",
            "value": "Downloading pytorch_model.bin: 100%"
          }
        },
        "7f0dc40da8ad42e4a00361bb4367c0a3": {
          "model_module": "@jupyter-widgets/controls",
          "model_module_version": "1.5.0",
          "model_name": "HBoxModel",
          "state": {
            "_dom_classes": [],
            "_model_module": "@jupyter-widgets/controls",
            "_model_module_version": "1.5.0",
            "_model_name": "HBoxModel",
            "_view_count": null,
            "_view_module": "@jupyter-widgets/controls",
            "_view_module_version": "1.5.0",
            "_view_name": "HBoxView",
            "box_style": "",
            "children": [
              "IPY_MODEL_8aa725b7f77b491ab84b41867f4fe4b1",
              "IPY_MODEL_d7226af7bcd24b21b370c1afe54f9542",
              "IPY_MODEL_8c2f62f78adf4a96903a1dba467fad2d"
            ],
            "layout": "IPY_MODEL_34daa53db4764b679dea4a31a5cc8508"
          }
        },
        "7fb1bb14f481463bb393cf28f70bf3c0": {
          "model_module": "@jupyter-widgets/base",
          "model_module_version": "1.2.0",
          "model_name": "LayoutModel",
          "state": {
            "_model_module": "@jupyter-widgets/base",
            "_model_module_version": "1.2.0",
            "_model_name": "LayoutModel",
            "_view_count": null,
            "_view_module": "@jupyter-widgets/base",
            "_view_module_version": "1.2.0",
            "_view_name": "LayoutView",
            "align_content": null,
            "align_items": null,
            "align_self": null,
            "border": null,
            "bottom": null,
            "display": null,
            "flex": null,
            "flex_flow": null,
            "grid_area": null,
            "grid_auto_columns": null,
            "grid_auto_flow": null,
            "grid_auto_rows": null,
            "grid_column": null,
            "grid_gap": null,
            "grid_row": null,
            "grid_template_areas": null,
            "grid_template_columns": null,
            "grid_template_rows": null,
            "height": null,
            "justify_content": null,
            "justify_items": null,
            "left": null,
            "margin": null,
            "max_height": null,
            "max_width": null,
            "min_height": null,
            "min_width": null,
            "object_fit": null,
            "object_position": null,
            "order": null,
            "overflow": null,
            "overflow_x": null,
            "overflow_y": null,
            "padding": null,
            "right": null,
            "top": null,
            "visibility": null,
            "width": null
          }
        },
        "8042803a48934361aed1e6b2f6ef2ed6": {
          "model_module": "@jupyter-widgets/controls",
          "model_module_version": "1.5.0",
          "model_name": "DescriptionStyleModel",
          "state": {
            "_model_module": "@jupyter-widgets/controls",
            "_model_module_version": "1.5.0",
            "_model_name": "DescriptionStyleModel",
            "_view_count": null,
            "_view_module": "@jupyter-widgets/base",
            "_view_module_version": "1.2.0",
            "_view_name": "StyleView",
            "description_width": ""
          }
        },
        "8a934b8a35464d7cb1f50d983f29fea6": {
          "model_module": "@jupyter-widgets/base",
          "model_module_version": "1.2.0",
          "model_name": "LayoutModel",
          "state": {
            "_model_module": "@jupyter-widgets/base",
            "_model_module_version": "1.2.0",
            "_model_name": "LayoutModel",
            "_view_count": null,
            "_view_module": "@jupyter-widgets/base",
            "_view_module_version": "1.2.0",
            "_view_name": "LayoutView",
            "align_content": null,
            "align_items": null,
            "align_self": null,
            "border": null,
            "bottom": null,
            "display": null,
            "flex": null,
            "flex_flow": null,
            "grid_area": null,
            "grid_auto_columns": null,
            "grid_auto_flow": null,
            "grid_auto_rows": null,
            "grid_column": null,
            "grid_gap": null,
            "grid_row": null,
            "grid_template_areas": null,
            "grid_template_columns": null,
            "grid_template_rows": null,
            "height": null,
            "justify_content": null,
            "justify_items": null,
            "left": null,
            "margin": null,
            "max_height": null,
            "max_width": null,
            "min_height": null,
            "min_width": null,
            "object_fit": null,
            "object_position": null,
            "order": null,
            "overflow": null,
            "overflow_x": null,
            "overflow_y": null,
            "padding": null,
            "right": null,
            "top": null,
            "visibility": null,
            "width": null
          }
        },
        "8aa725b7f77b491ab84b41867f4fe4b1": {
          "model_module": "@jupyter-widgets/controls",
          "model_module_version": "1.5.0",
          "model_name": "HTMLModel",
          "state": {
            "_dom_classes": [],
            "_model_module": "@jupyter-widgets/controls",
            "_model_module_version": "1.5.0",
            "_model_name": "HTMLModel",
            "_view_count": null,
            "_view_module": "@jupyter-widgets/controls",
            "_view_module_version": "1.5.0",
            "_view_name": "HTMLView",
            "description": "",
            "description_tooltip": null,
            "layout": "IPY_MODEL_ebca84edc66042e6b73264f65716983f",
            "placeholder": "​",
            "style": "IPY_MODEL_95f00a9c136a4fe692499e42136bf1de",
            "value": "Downloading (…)solve/main/vocab.txt: 100%"
          }
        },
        "8c2f62f78adf4a96903a1dba467fad2d": {
          "model_module": "@jupyter-widgets/controls",
          "model_module_version": "1.5.0",
          "model_name": "HTMLModel",
          "state": {
            "_dom_classes": [],
            "_model_module": "@jupyter-widgets/controls",
            "_model_module_version": "1.5.0",
            "_model_name": "HTMLModel",
            "_view_count": null,
            "_view_module": "@jupyter-widgets/controls",
            "_view_module_version": "1.5.0",
            "_view_name": "HTMLView",
            "description": "",
            "description_tooltip": null,
            "layout": "IPY_MODEL_360dbaa5ec0e4363a69db14663da1d4f",
            "placeholder": "​",
            "style": "IPY_MODEL_b484045c0c0245dd9df61a9067fe66fe",
            "value": " 232k/232k [00:00&lt;00:00, 8.08MB/s]"
          }
        },
        "8e0f76bf10d34a828241b6c7a64fbe1c": {
          "model_module": "@jupyter-widgets/controls",
          "model_module_version": "1.5.0",
          "model_name": "HBoxModel",
          "state": {
            "_dom_classes": [],
            "_model_module": "@jupyter-widgets/controls",
            "_model_module_version": "1.5.0",
            "_model_name": "HBoxModel",
            "_view_count": null,
            "_view_module": "@jupyter-widgets/controls",
            "_view_module_version": "1.5.0",
            "_view_name": "HBoxView",
            "box_style": "",
            "children": [
              "IPY_MODEL_94aee74e7a7e4181a29d91a4130c73a2",
              "IPY_MODEL_43487f055365423e9c811a90daa7a2d8",
              "IPY_MODEL_a3ae16c60e3042b599e1b46abeede417"
            ],
            "layout": "IPY_MODEL_27bb89bfd7e34c92a21358b4b0ef84d4"
          }
        },
        "928533ea599547869b03d05033064327": {
          "model_module": "@jupyter-widgets/controls",
          "model_module_version": "1.5.0",
          "model_name": "HBoxModel",
          "state": {
            "_dom_classes": [],
            "_model_module": "@jupyter-widgets/controls",
            "_model_module_version": "1.5.0",
            "_model_name": "HBoxModel",
            "_view_count": null,
            "_view_module": "@jupyter-widgets/controls",
            "_view_module_version": "1.5.0",
            "_view_name": "HBoxView",
            "box_style": "",
            "children": [
              "IPY_MODEL_ac6202a226214a93b7b04d943a8b1e62",
              "IPY_MODEL_9c5150ce69bb46e6b943a1617dc02663",
              "IPY_MODEL_001260b435934d208b5ef9a50cd47973"
            ],
            "layout": "IPY_MODEL_b1a52327e92c4853bb470c32a1cac784"
          }
        },
        "94aee74e7a7e4181a29d91a4130c73a2": {
          "model_module": "@jupyter-widgets/controls",
          "model_module_version": "1.5.0",
          "model_name": "HTMLModel",
          "state": {
            "_dom_classes": [],
            "_model_module": "@jupyter-widgets/controls",
            "_model_module_version": "1.5.0",
            "_model_name": "HTMLModel",
            "_view_count": null,
            "_view_module": "@jupyter-widgets/controls",
            "_view_module_version": "1.5.0",
            "_view_name": "HTMLView",
            "description": "",
            "description_tooltip": null,
            "layout": "IPY_MODEL_ef2cbc540be840e89e19f73cb9e60a06",
            "placeholder": "​",
            "style": "IPY_MODEL_595b032ff5414a4ead3ce7fd73098742",
            "value": "Downloading (…)lve/main/config.json: 100%"
          }
        },
        "95f00a9c136a4fe692499e42136bf1de": {
          "model_module": "@jupyter-widgets/controls",
          "model_module_version": "1.5.0",
          "model_name": "DescriptionStyleModel",
          "state": {
            "_model_module": "@jupyter-widgets/controls",
            "_model_module_version": "1.5.0",
            "_model_name": "DescriptionStyleModel",
            "_view_count": null,
            "_view_module": "@jupyter-widgets/base",
            "_view_module_version": "1.2.0",
            "_view_name": "StyleView",
            "description_width": ""
          }
        },
        "996f0064ba7540ea9ef8f770ffbbb053": {
          "model_module": "@jupyter-widgets/controls",
          "model_module_version": "1.5.0",
          "model_name": "ProgressStyleModel",
          "state": {
            "_model_module": "@jupyter-widgets/controls",
            "_model_module_version": "1.5.0",
            "_model_name": "ProgressStyleModel",
            "_view_count": null,
            "_view_module": "@jupyter-widgets/base",
            "_view_module_version": "1.2.0",
            "_view_name": "StyleView",
            "bar_color": null,
            "description_width": ""
          }
        },
        "9c5150ce69bb46e6b943a1617dc02663": {
          "model_module": "@jupyter-widgets/controls",
          "model_module_version": "1.5.0",
          "model_name": "FloatProgressModel",
          "state": {
            "_dom_classes": [],
            "_model_module": "@jupyter-widgets/controls",
            "_model_module_version": "1.5.0",
            "_model_name": "FloatProgressModel",
            "_view_count": null,
            "_view_module": "@jupyter-widgets/controls",
            "_view_module_version": "1.5.0",
            "_view_name": "ProgressView",
            "bar_style": "success",
            "description": "",
            "description_tooltip": null,
            "layout": "IPY_MODEL_7fb1bb14f481463bb393cf28f70bf3c0",
            "max": 28,
            "min": 0,
            "orientation": "horizontal",
            "style": "IPY_MODEL_2baccc2bcb2346c19bafc52b82182faa",
            "value": 28
          }
        },
        "a3ae16c60e3042b599e1b46abeede417": {
          "model_module": "@jupyter-widgets/controls",
          "model_module_version": "1.5.0",
          "model_name": "HTMLModel",
          "state": {
            "_dom_classes": [],
            "_model_module": "@jupyter-widgets/controls",
            "_model_module_version": "1.5.0",
            "_model_name": "HTMLModel",
            "_view_count": null,
            "_view_module": "@jupyter-widgets/controls",
            "_view_module_version": "1.5.0",
            "_view_name": "HTMLView",
            "description": "",
            "description_tooltip": null,
            "layout": "IPY_MODEL_3bebbc655d1c49659c7cbab2f1634fc2",
            "placeholder": "​",
            "style": "IPY_MODEL_8042803a48934361aed1e6b2f6ef2ed6",
            "value": " 570/570 [00:00&lt;00:00, 17.6kB/s]"
          }
        },
        "ac6202a226214a93b7b04d943a8b1e62": {
          "model_module": "@jupyter-widgets/controls",
          "model_module_version": "1.5.0",
          "model_name": "HTMLModel",
          "state": {
            "_dom_classes": [],
            "_model_module": "@jupyter-widgets/controls",
            "_model_module_version": "1.5.0",
            "_model_name": "HTMLModel",
            "_view_count": null,
            "_view_module": "@jupyter-widgets/controls",
            "_view_module_version": "1.5.0",
            "_view_name": "HTMLView",
            "description": "",
            "description_tooltip": null,
            "layout": "IPY_MODEL_1805c62caf8440ffb0ea8654d32b1620",
            "placeholder": "​",
            "style": "IPY_MODEL_3551135251c34b2982401555b888efab",
            "value": "Downloading (…)okenizer_config.json: 100%"
          }
        },
        "af9bf62708fb4afd98bbd3698b8162a3": {
          "model_module": "@jupyter-widgets/base",
          "model_module_version": "1.2.0",
          "model_name": "LayoutModel",
          "state": {
            "_model_module": "@jupyter-widgets/base",
            "_model_module_version": "1.2.0",
            "_model_name": "LayoutModel",
            "_view_count": null,
            "_view_module": "@jupyter-widgets/base",
            "_view_module_version": "1.2.0",
            "_view_name": "LayoutView",
            "align_content": null,
            "align_items": null,
            "align_self": null,
            "border": null,
            "bottom": null,
            "display": null,
            "flex": null,
            "flex_flow": null,
            "grid_area": null,
            "grid_auto_columns": null,
            "grid_auto_flow": null,
            "grid_auto_rows": null,
            "grid_column": null,
            "grid_gap": null,
            "grid_row": null,
            "grid_template_areas": null,
            "grid_template_columns": null,
            "grid_template_rows": null,
            "height": null,
            "justify_content": null,
            "justify_items": null,
            "left": null,
            "margin": null,
            "max_height": null,
            "max_width": null,
            "min_height": null,
            "min_width": null,
            "object_fit": null,
            "object_position": null,
            "order": null,
            "overflow": null,
            "overflow_x": null,
            "overflow_y": null,
            "padding": null,
            "right": null,
            "top": null,
            "visibility": null,
            "width": null
          }
        },
        "b1a52327e92c4853bb470c32a1cac784": {
          "model_module": "@jupyter-widgets/base",
          "model_module_version": "1.2.0",
          "model_name": "LayoutModel",
          "state": {
            "_model_module": "@jupyter-widgets/base",
            "_model_module_version": "1.2.0",
            "_model_name": "LayoutModel",
            "_view_count": null,
            "_view_module": "@jupyter-widgets/base",
            "_view_module_version": "1.2.0",
            "_view_name": "LayoutView",
            "align_content": null,
            "align_items": null,
            "align_self": null,
            "border": null,
            "bottom": null,
            "display": null,
            "flex": null,
            "flex_flow": null,
            "grid_area": null,
            "grid_auto_columns": null,
            "grid_auto_flow": null,
            "grid_auto_rows": null,
            "grid_column": null,
            "grid_gap": null,
            "grid_row": null,
            "grid_template_areas": null,
            "grid_template_columns": null,
            "grid_template_rows": null,
            "height": null,
            "justify_content": null,
            "justify_items": null,
            "left": null,
            "margin": null,
            "max_height": null,
            "max_width": null,
            "min_height": null,
            "min_width": null,
            "object_fit": null,
            "object_position": null,
            "order": null,
            "overflow": null,
            "overflow_x": null,
            "overflow_y": null,
            "padding": null,
            "right": null,
            "top": null,
            "visibility": null,
            "width": null
          }
        },
        "b484045c0c0245dd9df61a9067fe66fe": {
          "model_module": "@jupyter-widgets/controls",
          "model_module_version": "1.5.0",
          "model_name": "DescriptionStyleModel",
          "state": {
            "_model_module": "@jupyter-widgets/controls",
            "_model_module_version": "1.5.0",
            "_model_name": "DescriptionStyleModel",
            "_view_count": null,
            "_view_module": "@jupyter-widgets/base",
            "_view_module_version": "1.2.0",
            "_view_name": "StyleView",
            "description_width": ""
          }
        },
        "b69545866af44fa8b3b028c42c986a01": {
          "model_module": "@jupyter-widgets/controls",
          "model_module_version": "1.5.0",
          "model_name": "DescriptionStyleModel",
          "state": {
            "_model_module": "@jupyter-widgets/controls",
            "_model_module_version": "1.5.0",
            "_model_name": "DescriptionStyleModel",
            "_view_count": null,
            "_view_module": "@jupyter-widgets/base",
            "_view_module_version": "1.2.0",
            "_view_name": "StyleView",
            "description_width": ""
          }
        },
        "b8b01318f5ae4e0a882c183be7ac0e2c": {
          "model_module": "@jupyter-widgets/controls",
          "model_module_version": "1.5.0",
          "model_name": "HBoxModel",
          "state": {
            "_dom_classes": [],
            "_model_module": "@jupyter-widgets/controls",
            "_model_module_version": "1.5.0",
            "_model_name": "HBoxModel",
            "_view_count": null,
            "_view_module": "@jupyter-widgets/controls",
            "_view_module_version": "1.5.0",
            "_view_name": "HBoxView",
            "box_style": "",
            "children": [
              "IPY_MODEL_72f0bdf9aefe46f6940f564280ffc7cf",
              "IPY_MODEL_ce4216e1b5834d4c9f492324c2274329",
              "IPY_MODEL_be445234f55f48788d628e6a0eeb8f42"
            ],
            "layout": "IPY_MODEL_cb3559650e32490389f24c23ce18f8cb"
          }
        },
        "be445234f55f48788d628e6a0eeb8f42": {
          "model_module": "@jupyter-widgets/controls",
          "model_module_version": "1.5.0",
          "model_name": "HTMLModel",
          "state": {
            "_dom_classes": [],
            "_model_module": "@jupyter-widgets/controls",
            "_model_module_version": "1.5.0",
            "_model_name": "HTMLModel",
            "_view_count": null,
            "_view_module": "@jupyter-widgets/controls",
            "_view_module_version": "1.5.0",
            "_view_name": "HTMLView",
            "description": "",
            "description_tooltip": null,
            "layout": "IPY_MODEL_af9bf62708fb4afd98bbd3698b8162a3",
            "placeholder": "​",
            "style": "IPY_MODEL_ec4426416e9e4a18a36545b7f1da5927",
            "value": " 440M/440M [00:05&lt;00:00, 28.5MB/s]"
          }
        },
        "cb3559650e32490389f24c23ce18f8cb": {
          "model_module": "@jupyter-widgets/base",
          "model_module_version": "1.2.0",
          "model_name": "LayoutModel",
          "state": {
            "_model_module": "@jupyter-widgets/base",
            "_model_module_version": "1.2.0",
            "_model_name": "LayoutModel",
            "_view_count": null,
            "_view_module": "@jupyter-widgets/base",
            "_view_module_version": "1.2.0",
            "_view_name": "LayoutView",
            "align_content": null,
            "align_items": null,
            "align_self": null,
            "border": null,
            "bottom": null,
            "display": null,
            "flex": null,
            "flex_flow": null,
            "grid_area": null,
            "grid_auto_columns": null,
            "grid_auto_flow": null,
            "grid_auto_rows": null,
            "grid_column": null,
            "grid_gap": null,
            "grid_row": null,
            "grid_template_areas": null,
            "grid_template_columns": null,
            "grid_template_rows": null,
            "height": null,
            "justify_content": null,
            "justify_items": null,
            "left": null,
            "margin": null,
            "max_height": null,
            "max_width": null,
            "min_height": null,
            "min_width": null,
            "object_fit": null,
            "object_position": null,
            "order": null,
            "overflow": null,
            "overflow_x": null,
            "overflow_y": null,
            "padding": null,
            "right": null,
            "top": null,
            "visibility": null,
            "width": null
          }
        },
        "cccb7dc52cd841479d6b6d56d5f1445c": {
          "model_module": "@jupyter-widgets/base",
          "model_module_version": "1.2.0",
          "model_name": "LayoutModel",
          "state": {
            "_model_module": "@jupyter-widgets/base",
            "_model_module_version": "1.2.0",
            "_model_name": "LayoutModel",
            "_view_count": null,
            "_view_module": "@jupyter-widgets/base",
            "_view_module_version": "1.2.0",
            "_view_name": "LayoutView",
            "align_content": null,
            "align_items": null,
            "align_self": null,
            "border": null,
            "bottom": null,
            "display": null,
            "flex": null,
            "flex_flow": null,
            "grid_area": null,
            "grid_auto_columns": null,
            "grid_auto_flow": null,
            "grid_auto_rows": null,
            "grid_column": null,
            "grid_gap": null,
            "grid_row": null,
            "grid_template_areas": null,
            "grid_template_columns": null,
            "grid_template_rows": null,
            "height": null,
            "justify_content": null,
            "justify_items": null,
            "left": null,
            "margin": null,
            "max_height": null,
            "max_width": null,
            "min_height": null,
            "min_width": null,
            "object_fit": null,
            "object_position": null,
            "order": null,
            "overflow": null,
            "overflow_x": null,
            "overflow_y": null,
            "padding": null,
            "right": null,
            "top": null,
            "visibility": null,
            "width": null
          }
        },
        "ce4216e1b5834d4c9f492324c2274329": {
          "model_module": "@jupyter-widgets/controls",
          "model_module_version": "1.5.0",
          "model_name": "FloatProgressModel",
          "state": {
            "_dom_classes": [],
            "_model_module": "@jupyter-widgets/controls",
            "_model_module_version": "1.5.0",
            "_model_name": "FloatProgressModel",
            "_view_count": null,
            "_view_module": "@jupyter-widgets/controls",
            "_view_module_version": "1.5.0",
            "_view_name": "ProgressView",
            "bar_style": "success",
            "description": "",
            "description_tooltip": null,
            "layout": "IPY_MODEL_8a934b8a35464d7cb1f50d983f29fea6",
            "max": 440473133,
            "min": 0,
            "orientation": "horizontal",
            "style": "IPY_MODEL_3f0257055d7b40cf9737c3773cc6a912",
            "value": 440473133
          }
        },
        "d7226af7bcd24b21b370c1afe54f9542": {
          "model_module": "@jupyter-widgets/controls",
          "model_module_version": "1.5.0",
          "model_name": "FloatProgressModel",
          "state": {
            "_dom_classes": [],
            "_model_module": "@jupyter-widgets/controls",
            "_model_module_version": "1.5.0",
            "_model_name": "FloatProgressModel",
            "_view_count": null,
            "_view_module": "@jupyter-widgets/controls",
            "_view_module_version": "1.5.0",
            "_view_name": "ProgressView",
            "bar_style": "success",
            "description": "",
            "description_tooltip": null,
            "layout": "IPY_MODEL_45ef503bb6cc4ee68acd7871eec99680",
            "max": 231508,
            "min": 0,
            "orientation": "horizontal",
            "style": "IPY_MODEL_0d0642d403224aff9e7fcfb0597b52b5",
            "value": 231508
          }
        },
        "e603190ffe264edeaf8174461bd88621": {
          "model_module": "@jupyter-widgets/base",
          "model_module_version": "1.2.0",
          "model_name": "LayoutModel",
          "state": {
            "_model_module": "@jupyter-widgets/base",
            "_model_module_version": "1.2.0",
            "_model_name": "LayoutModel",
            "_view_count": null,
            "_view_module": "@jupyter-widgets/base",
            "_view_module_version": "1.2.0",
            "_view_name": "LayoutView",
            "align_content": null,
            "align_items": null,
            "align_self": null,
            "border": null,
            "bottom": null,
            "display": null,
            "flex": null,
            "flex_flow": null,
            "grid_area": null,
            "grid_auto_columns": null,
            "grid_auto_flow": null,
            "grid_auto_rows": null,
            "grid_column": null,
            "grid_gap": null,
            "grid_row": null,
            "grid_template_areas": null,
            "grid_template_columns": null,
            "grid_template_rows": null,
            "height": null,
            "justify_content": null,
            "justify_items": null,
            "left": null,
            "margin": null,
            "max_height": null,
            "max_width": null,
            "min_height": null,
            "min_width": null,
            "object_fit": null,
            "object_position": null,
            "order": null,
            "overflow": null,
            "overflow_x": null,
            "overflow_y": null,
            "padding": null,
            "right": null,
            "top": null,
            "visibility": null,
            "width": null
          }
        },
        "ebca84edc66042e6b73264f65716983f": {
          "model_module": "@jupyter-widgets/base",
          "model_module_version": "1.2.0",
          "model_name": "LayoutModel",
          "state": {
            "_model_module": "@jupyter-widgets/base",
            "_model_module_version": "1.2.0",
            "_model_name": "LayoutModel",
            "_view_count": null,
            "_view_module": "@jupyter-widgets/base",
            "_view_module_version": "1.2.0",
            "_view_name": "LayoutView",
            "align_content": null,
            "align_items": null,
            "align_self": null,
            "border": null,
            "bottom": null,
            "display": null,
            "flex": null,
            "flex_flow": null,
            "grid_area": null,
            "grid_auto_columns": null,
            "grid_auto_flow": null,
            "grid_auto_rows": null,
            "grid_column": null,
            "grid_gap": null,
            "grid_row": null,
            "grid_template_areas": null,
            "grid_template_columns": null,
            "grid_template_rows": null,
            "height": null,
            "justify_content": null,
            "justify_items": null,
            "left": null,
            "margin": null,
            "max_height": null,
            "max_width": null,
            "min_height": null,
            "min_width": null,
            "object_fit": null,
            "object_position": null,
            "order": null,
            "overflow": null,
            "overflow_x": null,
            "overflow_y": null,
            "padding": null,
            "right": null,
            "top": null,
            "visibility": null,
            "width": null
          }
        },
        "ec4426416e9e4a18a36545b7f1da5927": {
          "model_module": "@jupyter-widgets/controls",
          "model_module_version": "1.5.0",
          "model_name": "DescriptionStyleModel",
          "state": {
            "_model_module": "@jupyter-widgets/controls",
            "_model_module_version": "1.5.0",
            "_model_name": "DescriptionStyleModel",
            "_view_count": null,
            "_view_module": "@jupyter-widgets/base",
            "_view_module_version": "1.2.0",
            "_view_name": "StyleView",
            "description_width": ""
          }
        },
        "ef2cbc540be840e89e19f73cb9e60a06": {
          "model_module": "@jupyter-widgets/base",
          "model_module_version": "1.2.0",
          "model_name": "LayoutModel",
          "state": {
            "_model_module": "@jupyter-widgets/base",
            "_model_module_version": "1.2.0",
            "_model_name": "LayoutModel",
            "_view_count": null,
            "_view_module": "@jupyter-widgets/base",
            "_view_module_version": "1.2.0",
            "_view_name": "LayoutView",
            "align_content": null,
            "align_items": null,
            "align_self": null,
            "border": null,
            "bottom": null,
            "display": null,
            "flex": null,
            "flex_flow": null,
            "grid_area": null,
            "grid_auto_columns": null,
            "grid_auto_flow": null,
            "grid_auto_rows": null,
            "grid_column": null,
            "grid_gap": null,
            "grid_row": null,
            "grid_template_areas": null,
            "grid_template_columns": null,
            "grid_template_rows": null,
            "height": null,
            "justify_content": null,
            "justify_items": null,
            "left": null,
            "margin": null,
            "max_height": null,
            "max_width": null,
            "min_height": null,
            "min_width": null,
            "object_fit": null,
            "object_position": null,
            "order": null,
            "overflow": null,
            "overflow_x": null,
            "overflow_y": null,
            "padding": null,
            "right": null,
            "top": null,
            "visibility": null,
            "width": null
          }
        }
      }
    }
  },
  "nbformat": 4,
  "nbformat_minor": 0
}
