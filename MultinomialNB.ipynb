{
 "cells": [
  {
   "attachments": {},
   "cell_type": "markdown",
   "metadata": {},
   "source": [
    "# Multinomial Naive Bayes Building and Evaluation\n",
    "\n",
    "This notebook is used for training and evaluation of the single `Multinomial Naive Bayes` models used for this project. To import the trained model and explore its prediction capabilities, skip to the section on error analysis, where this will be done. Before doing that however, ensure that the setup section is run to import the necessary modules."
   ]
  },
  {
   "attachments": {},
   "cell_type": "markdown",
   "metadata": {},
   "source": [
    "# Setup"
   ]
  },
  {
   "cell_type": "code",
   "execution_count": 2,
   "metadata": {},
   "outputs": [],
   "source": [
    "from modules.utils import *\n",
    "from sklearn.naive_bayes import MultinomialNB"
   ]
  },
  {
   "attachments": {},
   "cell_type": "markdown",
   "metadata": {},
   "source": [
    "# Model Building and Tuning"
   ]
  },
  {
   "cell_type": "code",
   "execution_count": 2,
   "metadata": {},
   "outputs": [
    {
     "name": "stdout",
     "output_type": "stream",
     "text": [
      "Loading data...\n"
     ]
    },
    {
     "name": "stderr",
     "output_type": "stream",
     "text": [
      "Found cached dataset sentiment140 (/Users/krebs/.cache/huggingface/datasets/sentiment140/sentiment140/1.0.0/f81c014152931b776735658d8ae493b181927de002e706c4d5244ecb26376997)\n"
     ]
    },
    {
     "name": "stdout",
     "output_type": "stream",
     "text": [
      "\n",
      "Loading processed dataset from cache...\n",
      "Dataset loaded\n",
      "TF-IDF embedding applied\n"
     ]
    },
    {
     "data": {
      "text/plain": [
       "<modules.utils.tf_idf at 0x7f8e90f17c10>"
      ]
     },
     "execution_count": 2,
     "metadata": {},
     "output_type": "execute_result"
    }
   ],
   "source": [
    "# Loading data and\n",
    "data = SentimentDataset()\n",
    "tf_idf(data)"
   ]
  },
  {
   "cell_type": "code",
   "execution_count": 5,
   "metadata": {},
   "outputs": [],
   "source": [
    "naive_bayes = SklearnModels(model=MultinomialNB(), \n",
    "                            data_model=data,\n",
    "                            model_name='MultinomialNaiveBayes',\n",
    "                            scale=False)"
   ]
  },
  {
   "cell_type": "code",
   "execution_count": 6,
   "metadata": {},
   "outputs": [],
   "source": [
    "naive_bayes.fit()"
   ]
  },
  {
   "attachments": {},
   "cell_type": "markdown",
   "metadata": {},
   "source": [
    "# Evaluate"
   ]
  },
  {
   "cell_type": "code",
   "execution_count": 7,
   "metadata": {},
   "outputs": [
    {
     "name": "stdout",
     "output_type": "stream",
     "text": [
      "MultinomialNaiveBayes\n",
      "Test Accuracy:  0.78865\n"
     ]
    }
   ],
   "source": [
    "print(f'{naive_bayes.model_name}')\n",
    "naive_bayes.evaluate_on_test(accuracy=True)"
   ]
  },
  {
   "cell_type": "code",
   "execution_count": 8,
   "metadata": {},
   "outputs": [
    {
     "name": "stdout",
     "output_type": "stream",
     "text": [
      "MultinomialNaiveBayes\n",
      "Classification Report:\n",
      "               precision    recall  f1-score   support\n",
      "\n",
      "           0       0.78      0.80      0.79     19982\n",
      "           1       0.80      0.78      0.79     20018\n",
      "\n",
      "    accuracy                           0.79     40000\n",
      "   macro avg       0.79      0.79      0.79     40000\n",
      "weighted avg       0.79      0.79      0.79     40000\n",
      "\n"
     ]
    }
   ],
   "source": [
    "print(f'{naive_bayes.model_name}')\n",
    "naive_bayes.evaluate_on_test(accuracy=False, classification_rep=True)"
   ]
  },
  {
   "cell_type": "code",
   "execution_count": 10,
   "metadata": {},
   "outputs": [
    {
     "data": {
      "text/plain": [
       "<Figure size 720x576 with 0 Axes>"
      ]
     },
     "metadata": {},
     "output_type": "display_data"
    },
    {
     "data": {
      "image/png": "[encoded data removed]",
      "text/plain": [
       "<Figure size 432x288 with 2 Axes>"
      ]
     },
     "metadata": {
      "needs_background": "light"
     },
     "output_type": "display_data"
    }
   ],
   "source": [
    "naive_bayes.evaluate_on_test(confusion_mat=True, print_out=False)\n",
    "naive_bayes.plot_confusion_matrix()"
   ]
  },
  {
   "cell_type": "code",
   "execution_count": 31,
   "metadata": {},
   "outputs": [],
   "source": [
    "# Save Model\n",
    "naive_bayes.save()"
   ]
  },
  {
   "attachments": {},
   "cell_type": "markdown",
   "metadata": {},
   "source": [
    "## Error"
   ]
  },
  {
   "cell_type": "code",
   "execution_count": 10,
   "metadata": {},
   "outputs": [],
   "source": [
    "from datasets import load_dataset\n",
    "import random\n",
    "from tabulate import tabulate"
   ]
  },
  {
   "cell_type": "code",
   "execution_count": 4,
   "metadata": {},
   "outputs": [
    {
     "name": "stdout",
     "output_type": "stream",
     "text": [
      "Loading data...\n"
     ]
    },
    {
     "name": "stderr",
     "output_type": "stream",
     "text": [
      "Found cached dataset sentiment140 (/Users/krebs/.cache/huggingface/datasets/sentiment140/sentiment140/1.0.0/f81c014152931b776735658d8ae493b181927de002e706c4d5244ecb26376997)\n"
     ]
    },
    {
     "name": "stdout",
     "output_type": "stream",
     "text": [
      "\n",
      "Loading processed dataset from cache...\n",
      "Dataset loaded\n",
      "TF-IDF embedding applied\n"
     ]
    },
    {
     "data": {
      "text/plain": [
       "<modules.utils.tf_idf at 0x7fd119efc100>"
      ]
     },
     "execution_count": 4,
     "metadata": {},
     "output_type": "execute_result"
    }
   ],
   "source": [
    "# Loading data and\n",
    "data = SentimentDataset()\n",
    "tf_idf(data)"
   ]
  },
  {
   "cell_type": "code",
   "execution_count": 6,
   "metadata": {},
   "outputs": [
    {
     "name": "stderr",
     "output_type": "stream",
     "text": [
      "Found cached dataset sentiment140 (/Users/krebs/.cache/huggingface/datasets/sentiment140/sentiment140/1.0.0/f81c014152931b776735658d8ae493b181927de002e706c4d5244ecb26376997)\n"
     ]
    },
    {
     "data": {
      "application/vnd.jupyter.widget-view+json": {
       "model_id": "85e6f6a20f91499694dbcfb745c8d79a",
       "version_major": 2,
       "version_minor": 0
      },
      "text/plain": [
       "  0%|          | 0/2 [00:00<?, ?it/s]"
      ]
     },
     "metadata": {},
     "output_type": "display_data"
    },
    {
     "name": "stdout",
     "output_type": "stream",
     "text": [
      "Processing\n",
      "Processing test input\n"
     ]
    }
   ],
   "source": [
    "# Loading new dataset\n",
    "df = load_dataset('sentiment140')\n",
    "\n",
    "# Create subset based on new data\n",
    "test_set = df['train'].to_pandas().groupby('sentiment').apply(\n",
    "    lambda x: x[-1000:]).reset_index(drop=True).replace(4, 1).sample(frac=1)\n",
    "\n",
    "# Process it similarly to the training data\n",
    "sentences = SentimentDataset(\n",
    "    test_set.text.to_list(), subset='test').process_data()\n",
    "\n",
    "# Apply tf-idf on it\n",
    "vectorized = data.tfidf_vectorize(sentences)\n",
    "\n",
    "# Target list\n",
    "target = test_set.sentiment.to_list()"
   ]
  },
  {
   "cell_type": "code",
   "execution_count": 9,
   "metadata": {},
   "outputs": [
    {
     "name": "stdout",
     "output_type": "stream",
     "text": [
      "Loading model\n"
     ]
    }
   ],
   "source": [
    "# Load model from model directory\n",
    "model = SklearnModels(model_name='MultinomialNaiveBayes',\n",
    "                         split=False).load_model()\n",
    "\n",
    "# Perform predictions\n",
    "predictions = model.model.predict(vectorized)\n"
   ]
  },
  {
   "cell_type": "code",
   "execution_count": 11,
   "metadata": {},
   "outputs": [],
   "source": [
    "# Indices of wrong predictions\n",
    "wrong_predictions = [i for i, (a, b) in enumerate(\n",
    "    zip(predictions, target)) if a != b]\n",
    "\n",
    "# Random list of 5 index positions\n",
    "indexes = [wrong_predictions[random.randint(\n",
    "    0, len(wrong_predictions)-1)] for _ in range(5)]\n",
    "\n",
    "# Original tweet\n",
    "original = test_set.text.to_list()\n",
    "\n",
    "# Processed tweet\n",
    "processed = sentences\n"
   ]
  },
  {
   "cell_type": "code",
   "execution_count": 13,
   "metadata": {},
   "outputs": [],
   "source": [
    "# Create a table for tabulate\n",
    "table = [[original[i], processed[i], target[i], predictions[i]]\n",
    "         for i in indexes]\n"
   ]
  },
  {
   "cell_type": "code",
   "execution_count": 14,
   "metadata": {},
   "outputs": [
    {
     "name": "stdout",
     "output_type": "stream",
     "text": [
      "MNB Wrong Predictions - TF-IDF Embedding\n",
      "\n",
      "Original Tweet                                                                                                       Processed Tweet                                                              True Label    Predicted Label\n",
      "-------------------------------------------------------------------------------------------------------------------  -------------------------------------------------------------------------  ------------  -----------------\n",
      "Drinks at Cabana.... Only two cheeky ones and feel wobbly                                                            drink cabana two cheeky one feel wobbly                                               0                  1\n",
      "@brinathemodel Lol I hav yet 2 see ya video cuz I dun hav a cpu onli my sidekick Lx which doesn't let me see videos  lol hav yet 2 see ya video cuz dun hav cpu onli sidekick lx let see video             0                  1\n",
      "@kileycyrus i HATE you                                                                                               hate                                                                                  1                  0\n",
      "@dangwhat I'm in plano (190 &amp; midway) far from uptown, trust me                                                  plano 190 amp midway far uptown trust                                                 0                  1\n",
      "@seblefebvre can you put boston in your tourdates somewhere?                                                         put boston tourdates somewhere                                                        1                  0\n"
     ]
    }
   ],
   "source": [
    "print('MNB Wrong Predictions - TF-IDF Embedding\\n')\n",
    "print(tabulate(table, headers=[\"Original Tweet\", \"Processed Tweet\", \"True Label\", \"Predicted Label\"]))"
   ]
  },
  {
   "cell_type": "code",
   "execution_count": null,
   "metadata": {},
   "outputs": [],
   "source": []
  }
 ],
 "metadata": {
  "kernelspec": {
   "display_name": "base",
   "language": "python",
   "name": "python3"
  },
  "language_info": {
   "codemirror_mode": {
    "name": "ipython",
    "version": 3
   },
   "file_extension": ".py",
   "mimetype": "text/x-python",
   "name": "python",
   "nbconvert_exporter": "python",
   "pygments_lexer": "ipython3",
   "version": "3.9.7"
  },
  "orig_nbformat": 4
 },
 "nbformat": 4,
 "nbformat_minor": 2
}
