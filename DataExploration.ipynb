{
 "cells": [
  {
   "attachments": {},
   "cell_type": "markdown",
   "metadata": {},
   "source": [
    "# Setup"
   ]
  },
  {
   "cell_type": "code",
   "execution_count": 6,
   "metadata": {},
   "outputs": [],
   "source": [
    "# Data Handling\n",
    "import pandas as pd\n",
    "from datasets import load_dataset\n",
    "import numpy as np\n",
    "from dateutil import parser\n",
    "import seaborn as sns\n",
    "import matplotlib.pyplot as plt\n",
    "from tabulate import tabulate\n",
    "from modules.utils import SentimentDataset\n"
   ]
  },
  {
   "attachments": {},
   "cell_type": "markdown",
   "metadata": {},
   "source": [
    "## Importing Raw Data"
   ]
  },
  {
   "cell_type": "code",
   "execution_count": 62,
   "metadata": {},
   "outputs": [
    {
     "name": "stdout",
     "output_type": "stream",
     "text": [
      "Loading data...\n"
     ]
    },
    {
     "name": "stderr",
     "output_type": "stream",
     "text": [
      "Found cached dataset sentiment140 (/Users/krebs/.cache/huggingface/datasets/sentiment140/sentiment140/1.0.0/f81c014152931b776735658d8ae493b181927de002e706c4d5244ecb26376997)\n"
     ]
    },
    {
     "name": "stdout",
     "output_type": "stream",
     "text": [
      "\n",
      "Loading processed dataset from cache...\n",
      "Dataset loaded\n"
     ]
    }
   ],
   "source": [
    "# Importing raw data from Huggingface\n",
    "dataset = load_dataset(\"sentiment140\", split='train')\n",
    "\n",
    "# Importing processed dataframe from directory\n",
    "processed = SentimentDataset()"
   ]
  },
  {
   "cell_type": "code",
   "execution_count": 3,
   "metadata": {},
   "outputs": [
    {
     "data": {
      "text/plain": [
       "Dataset({\n",
       "    features: ['text', 'date', 'user', 'sentiment', 'query'],\n",
       "    num_rows: 1600000\n",
       "})"
      ]
     },
     "execution_count": 3,
     "metadata": {},
     "output_type": "execute_result"
    }
   ],
   "source": [
    "# Expanding HF dataset\n",
    "dataset"
   ]
  },
  {
   "attachments": {},
   "cell_type": "markdown",
   "metadata": {},
   "source": [
    "## EDA"
   ]
  },
  {
   "attachments": {},
   "cell_type": "markdown",
   "metadata": {},
   "source": [
    "#### `RAW`"
   ]
  },
  {
   "attachments": {},
   "cell_type": "markdown",
   "metadata": {},
   "source": [
    "**Description**\n",
    "\n",
    "For this research, we will be using the `sentiment140` dataset. Sentiment140 consists of Twitter messages with emoticons, which are used as noisy labels for sentiment classification. For more detailed information please refer to the paper. It contains the following columns:\n",
    "* `text`: Body of tweet\n",
    "* `date`: Date for when tweet was made\n",
    "* `user`: Username for user who tweeted\n",
    "* `sentiment`: The polarity of the tweet (0 = negative & 4 = positive)\n",
    "* `querry`: Unknown. No querry is used, so all values are NO_QUERRY"
   ]
  },
  {
   "cell_type": "code",
   "execution_count": 45,
   "metadata": {},
   "outputs": [
    {
     "data": {
      "text/html": [
       "<div>\n",
       "<style scoped>\n",
       "    .dataframe tbody tr th:only-of-type {\n",
       "        vertical-align: middle;\n",
       "    }\n",
       "\n",
       "    .dataframe tbody tr th {\n",
       "        vertical-align: top;\n",
       "    }\n",
       "\n",
       "    .dataframe thead th {\n",
       "        text-align: right;\n",
       "    }\n",
       "</style>\n",
       "<table border=\"1\" class=\"dataframe\">\n",
       "  <thead>\n",
       "    <tr style=\"text-align: right;\">\n",
       "      <th></th>\n",
       "      <th>text</th>\n",
       "      <th>date</th>\n",
       "      <th>user</th>\n",
       "      <th>sentiment</th>\n",
       "      <th>query</th>\n",
       "    </tr>\n",
       "  </thead>\n",
       "  <tbody>\n",
       "    <tr>\n",
       "      <th>0</th>\n",
       "      <td>@switchfoot http://twitpic.com/2y1zl - Awww, t...</td>\n",
       "      <td>2009-04-06</td>\n",
       "      <td>_TheSpecialOne_</td>\n",
       "      <td>0</td>\n",
       "      <td>NO_QUERY</td>\n",
       "    </tr>\n",
       "    <tr>\n",
       "      <th>1</th>\n",
       "      <td>is upset that he can't update his Facebook by ...</td>\n",
       "      <td>2009-04-06</td>\n",
       "      <td>scotthamilton</td>\n",
       "      <td>0</td>\n",
       "      <td>NO_QUERY</td>\n",
       "    </tr>\n",
       "    <tr>\n",
       "      <th>2</th>\n",
       "      <td>@Kenichan I dived many times for the ball. Man...</td>\n",
       "      <td>2009-04-06</td>\n",
       "      <td>mattycus</td>\n",
       "      <td>0</td>\n",
       "      <td>NO_QUERY</td>\n",
       "    </tr>\n",
       "    <tr>\n",
       "      <th>3</th>\n",
       "      <td>my whole body feels itchy and like its on fire</td>\n",
       "      <td>2009-04-06</td>\n",
       "      <td>ElleCTF</td>\n",
       "      <td>0</td>\n",
       "      <td>NO_QUERY</td>\n",
       "    </tr>\n",
       "    <tr>\n",
       "      <th>4</th>\n",
       "      <td>@nationwideclass no, it's not behaving at all....</td>\n",
       "      <td>2009-04-06</td>\n",
       "      <td>Karoli</td>\n",
       "      <td>0</td>\n",
       "      <td>NO_QUERY</td>\n",
       "    </tr>\n",
       "  </tbody>\n",
       "</table>\n",
       "</div>"
      ],
      "text/plain": [
       "                                                text        date  \\\n",
       "0  @switchfoot http://twitpic.com/2y1zl - Awww, t...  2009-04-06   \n",
       "1  is upset that he can't update his Facebook by ...  2009-04-06   \n",
       "2  @Kenichan I dived many times for the ball. Man...  2009-04-06   \n",
       "3    my whole body feels itchy and like its on fire   2009-04-06   \n",
       "4  @nationwideclass no, it's not behaving at all....  2009-04-06   \n",
       "\n",
       "              user  sentiment     query  \n",
       "0  _TheSpecialOne_          0  NO_QUERY  \n",
       "1    scotthamilton          0  NO_QUERY  \n",
       "2         mattycus          0  NO_QUERY  \n",
       "3          ElleCTF          0  NO_QUERY  \n",
       "4           Karoli          0  NO_QUERY  "
      ]
     },
     "execution_count": 45,
     "metadata": {},
     "output_type": "execute_result"
    }
   ],
   "source": [
    "# Printing head of dataset\n",
    "df.head(5)"
   ]
  },
  {
   "cell_type": "code",
   "execution_count": 12,
   "metadata": {},
   "outputs": [
    {
     "name": "stdout",
     "output_type": "stream",
     "text": [
      "Dataset rows: 1600000\n",
      "Columns: 5\n"
     ]
    }
   ],
   "source": [
    "# Shape\n",
    "print(f'Dataset rows: {len(df)}\\nColumns: {len(df.columns)}')\n"
   ]
  },
  {
   "cell_type": "code",
   "execution_count": 13,
   "metadata": {},
   "outputs": [
    {
     "name": "stdout",
     "output_type": "stream",
     "text": [
      "There are 5 columns in the dataset:\n",
      "['text', 'date', 'user', 'sentiment', 'query']\n"
     ]
    }
   ],
   "source": [
    "# Columns\n",
    "print(f'There are {len(df.columns)} columns in the dataset:\\n{list(df.columns)}')"
   ]
  },
  {
   "cell_type": "code",
   "execution_count": 14,
   "metadata": {},
   "outputs": [
    {
     "name": "stdout",
     "output_type": "stream",
     "text": [
      "Column data types:\n",
      "text         object\n",
      "date         object\n",
      "user         object\n",
      "sentiment     int32\n",
      "query        object\n",
      "dtype: object\n"
     ]
    }
   ],
   "source": [
    "# Printing data types for every column\n",
    "print(f'Column data types:\\n{df.dtypes}')"
   ]
  },
  {
   "cell_type": "code",
   "execution_count": 15,
   "metadata": {},
   "outputs": [
    {
     "name": "stdout",
     "output_type": "stream",
     "text": [
      "Negative Tweets:\n",
      "@vodafoneNZ I would have loved to win a netbook, i won nothing  Couldnt go HTC hunting cause hubby had hospital appt\n",
      "(@blipofmatter) carlos and tom are touching my nuts in the edit bay. not again!! \n",
      "tiika3 PHONE iiS FUCKiiNG UP AND THE SHiiT AiiNT COOL!! \n",
      "\n",
      "Positive Tweets:\n",
      "I got a new cordless drill. anyone need anything fixed? \n",
      "@HJ91 I guessï¿½. We R left with no option.... Live It \n",
      "Dinner's not here yet. An excuse to eat dessert first \n"
     ]
    }
   ],
   "source": [
    "# Lets explore some tweets:\n",
    "print('Negative Tweets:')\n",
    "for index, row in df[df.sentiment == 0].sample(3).iterrows():\n",
    "    print(row.text)\n",
    "    \n",
    "    \n",
    "print('\\nPositive Tweets:')\n",
    "for index, row in df[df.sentiment == 4].sample(3).iterrows():\n",
    "    print(row.text)\n",
    "    \n",
    "\n",
    "# Notice most tweets contain @usernames in them. This can become trouble some. Generally lots of different symbols are used throughout messages, which will need to be filtered later"
   ]
  },
  {
   "cell_type": "code",
   "execution_count": 16,
   "metadata": {},
   "outputs": [
    {
     "name": "stdout",
     "output_type": "stream",
     "text": [
      "Count of nulls:\n",
      "text         0\n",
      "date         0\n",
      "user         0\n",
      "sentiment    0\n",
      "query        0\n",
      "dtype: int64\n"
     ]
    }
   ],
   "source": [
    "# Checking for null values\n",
    "print(f'Count of nulls:\\n{df.isna().sum()}')"
   ]
  },
  {
   "cell_type": "code",
   "execution_count": 35,
   "metadata": {},
   "outputs": [
    {
     "name": "stdout",
     "output_type": "stream",
     "text": [
      "Sentiment split amongst inputs\n"
     ]
    },
    {
     "data": {
      "image/png": "[encoded data removed]",
      "text/plain": [
       "<Figure size 864x576 with 1 Axes>"
      ]
     },
     "metadata": {
      "needs_background": "light"
     },
     "output_type": "display_data"
    }
   ],
   "source": [
    "# Sentiment split\n",
    "fig = plt.figure(figsize=(12,8))\n",
    "print('Sentiment split amongst inputs')\n",
    "df.sentiment.value_counts().plot(kind='bar', color=['#FA522E','#31CA60'])\n",
    "plt.xticks(ticks=[0,1], labels=['Negative', 'Positive'], rotation=0)\n",
    "\n",
    "plt.show()"
   ]
  },
  {
   "cell_type": "code",
   "execution_count": 5,
   "metadata": {},
   "outputs": [
    {
     "name": "stderr",
     "output_type": "stream",
     "text": [
      "/opt/anaconda3/lib/python3.9/site-packages/dateutil/parser/_parser.py:1207: UnknownTimezoneWarning: tzname PDT identified but not understood.  Pass `tzinfos` argument in order to correctly return a timezone-aware datetime.  In a future version, this will raise an exception.\n",
      "  warnings.warn(\"tzname {tzname} identified but not understood.  \"\n"
     ]
    }
   ],
   "source": [
    "# Transforming huggingface dataset into pandas dataframe\n",
    "df = dataset.to_pandas()\n",
    "\n",
    "\n",
    "# Transforming data column into datatime\n",
    "df['date'] = df['date'].apply(parser.parse)\n",
    "df['date'] = pd.to_datetime(df['date']).dt.date"
   ]
  },
  {
   "cell_type": "code",
   "execution_count": 40,
   "metadata": {},
   "outputs": [
    {
     "data": {
      "image/png": "[encoded data removed]",
      "text/plain": [
       "<Figure size 1152x576 with 1 Axes>"
      ]
     },
     "metadata": {
      "needs_background": "light"
     },
     "output_type": "display_data"
    }
   ],
   "source": [
    "# Plotting tweet count and sentiments over data\n",
    "\n",
    "figure, ax = plt.subplots(figsize=(16,8))\n",
    "\n",
    "sns.barplot(data=df.groupby(['date', 'sentiment']).agg({'text': 'count'}).reset_index().replace(\n",
    "    {4: 'Positive', 0: 'Negative'}), x=\"date\", y=\"text\", hue='sentiment', palette=['#FA522E', '#31CA60'])\n",
    "\n",
    "# Reducing number of x-ticks\n",
    "ax.xaxis.set_major_locator(plt.MaxNLocator(12))\n",
    "plt.xlabel('Tweet Post Date')\n",
    "plt.ylabel('Number of Tweets Posted')\n",
    "\n",
    "# Removing upper, left and right plot spines\n",
    "ax.spines['right'].set_visible(False)\n",
    "ax.spines['top'].set_visible(False)\n",
    "ax.spines['left'].set_visible(False)\n",
    "ax.spines['bottom'].set_visible(True)"
   ]
  },
  {
   "attachments": {},
   "cell_type": "markdown",
   "metadata": {},
   "source": [
    "## `Processed`"
   ]
  },
  {
   "cell_type": "code",
   "execution_count": 44,
   "metadata": {},
   "outputs": [
    {
     "name": "stdout",
     "output_type": "stream",
     "text": [
      "Dataset rows: 200000\n",
      "Columns: 3\n"
     ]
    }
   ],
   "source": [
    "# Shape\n",
    "print(f'Dataset rows: {len(processed.df)}\\nColumns: {len(processed.df.columns)}')\n"
   ]
  },
  {
   "cell_type": "code",
   "execution_count": 47,
   "metadata": {},
   "outputs": [
    {
     "name": "stdout",
     "output_type": "stream",
     "text": [
      "There are 3 columns in the dataset:\n",
      "['text', 'sentiment', 'text_processed']\n"
     ]
    }
   ],
   "source": [
    "# These are the 3 columns\n",
    "print(\n",
    "    f'There are {len(processed.df.columns)} columns in the dataset:\\n{list(processed.df.columns)}')\n"
   ]
  },
  {
   "cell_type": "code",
   "execution_count": 48,
   "metadata": {},
   "outputs": [
    {
     "name": "stdout",
     "output_type": "stream",
     "text": [
      "Column data types:\n",
      "text              object\n",
      "sentiment          int64\n",
      "text_processed    object\n",
      "dtype: object\n"
     ]
    }
   ],
   "source": [
    "# Printing data types for every column\n",
    "print(f'Column data types:\\n{processed.df.dtypes}')\n"
   ]
  },
  {
   "cell_type": "code",
   "execution_count": 49,
   "metadata": {},
   "outputs": [
    {
     "name": "stdout",
     "output_type": "stream",
     "text": [
      "Count of nulls:\n",
      "text              0\n",
      "sentiment         0\n",
      "text_processed    0\n",
      "dtype: int64\n"
     ]
    }
   ],
   "source": [
    "# Checking for null values\n",
    "print(f'Count of nulls:\\n{processed.df.isna().sum()}')"
   ]
  },
  {
   "cell_type": "code",
   "execution_count": 50,
   "metadata": {},
   "outputs": [
    {
     "name": "stdout",
     "output_type": "stream",
     "text": [
      "Sentiment split amongst inputs\n"
     ]
    },
    {
     "data": {
      "image/png": "[encoded data removed]",
      "text/plain": [
       "<Figure size 864x576 with 1 Axes>"
      ]
     },
     "metadata": {
      "needs_background": "light"
     },
     "output_type": "display_data"
    }
   ],
   "source": [
    "# Sentiment split\n",
    "fig = plt.figure(figsize=(12, 8))\n",
    "print('Sentiment split amongst inputs')\n",
    "processed.df.sentiment.value_counts().plot(kind='bar', color=['#FA522E', '#31CA60'])\n",
    "plt.xticks(ticks=[0, 1], labels=['Negative', 'Positive'], rotation=0)\n",
    "\n",
    "plt.show()\n"
   ]
  },
  {
   "cell_type": "code",
   "execution_count": 51,
   "metadata": {},
   "outputs": [
    {
     "name": "stdout",
     "output_type": "stream",
     "text": [
      "Before processing: @nicksantino is the cutest thing ever  meeting him tonight was wonderful &lt;3\n",
      "After processing: is the cutest thing ever meeting him tonight wa wonderful lt\n",
      "\n",
      "Before processing: watching the matrix reloaded \n",
      "After processing: watching the matrix reloaded\n",
      "\n",
      "Before processing: All my braids are finally out!!! Getting it in..missing some1 \n",
      "After processing: all my braid are finally out getting it in missing some1\n",
      "\n",
      "Before processing: @ellieshakes they do tend to drift off in my company \n",
      "After processing: they do tend to drift off in my company\n",
      "\n",
      "Before processing: @itsstephenhanks You can comment back if you like! \n",
      "After processing: you can comment back if you like\n",
      "\n"
     ]
    }
   ],
   "source": [
    "# Printing differences\n",
    "for index, row in processed.df.sample(5).iterrows():\n",
    "    print(f'Before processing: {row.text}\\nAfter processing: {row.text_processed}\\n')"
   ]
  },
  {
   "cell_type": "code",
   "execution_count": 63,
   "metadata": {},
   "outputs": [],
   "source": [
    "# Extracting vocabulary\n",
    "raw = ['Original', len(' '.join(df.text.to_list()).split()), len(set(' '.join(df.text.to_list()).split()))]\n",
    "proces = ['Processed', len(' '.join(processed.df.text_processed.to_list()).split()), len(set(' '.join(processed.df.text_processed.to_list()).split()))]"
   ]
  },
  {
   "cell_type": "code",
   "execution_count": 64,
   "metadata": {},
   "outputs": [
    {
     "name": "stdout",
     "output_type": "stream",
     "text": [
      "Dataset      Count of non-unique characters    Count of unique characters\n",
      "---------  --------------------------------  ----------------------------\n",
      "Original                           21081841                       1350598\n",
      "Processed                           2621956                         72057\n"
     ]
    }
   ],
   "source": [
    "# Printing vocabulary length\n",
    "table = [raw, proces]\n",
    "print(tabulate(table, headers=['Dataset','Count of non-unique characters', 'Count of unique characters']))"
   ]
  }
 ],
 "metadata": {
  "kernelspec": {
   "display_name": "base",
   "language": "python",
   "name": "python3"
  },
  "language_info": {
   "codemirror_mode": {
    "name": "ipython",
    "version": 3
   },
   "file_extension": ".py",
   "mimetype": "text/x-python",
   "name": "python",
   "nbconvert_exporter": "python",
   "pygments_lexer": "ipython3",
   "version": "3.9.7"
  },
  "orig_nbformat": 4
 },
 "nbformat": 4,
 "nbformat_minor": 2
}
