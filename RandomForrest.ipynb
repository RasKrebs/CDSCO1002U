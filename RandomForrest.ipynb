{
 "cells": [
  {
   "attachments": {},
   "cell_type": "markdown",
   "metadata": {},
   "source": [
    "# Random Forest  Model Building and Evaluation\n",
    "\n",
    "This notebook is used for training and evaluation of the two `Random Forest` models used for this project. To import the trained models and explore their prediction capabilities, skip to the section on error analysis, which imports the trained model. Before doing that however, ensure that the setup section is run to import the necessary modules."
   ]
  },
  {
   "attachments": {},
   "cell_type": "markdown",
   "metadata": {},
   "source": [
    "# Setup"
   ]
  },
  {
   "cell_type": "code",
   "execution_count": 1,
   "metadata": {},
   "outputs": [],
   "source": [
    "from modules.utils import SentimentDataset, SklearnModels, tf_idf, w2v, MODEL_PATH\n",
    "from sklearn.ensemble import RandomForestClassifier\n",
    "#from gensim.models import Word2Vec, phrases"
   ]
  },
  {
   "attachments": {},
   "cell_type": "markdown",
   "metadata": {},
   "source": [
    "# Modelling"
   ]
  },
  {
   "attachments": {},
   "cell_type": "markdown",
   "metadata": {},
   "source": [
    "## Word2Vec Embedding"
   ]
  },
  {
   "cell_type": "code",
   "execution_count": 20,
   "metadata": {},
   "outputs": [
    {
     "name": "stdout",
     "output_type": "stream",
     "text": [
      "Loading data...\n"
     ]
    },
    {
     "name": "stderr",
     "output_type": "stream",
     "text": [
      "Found cached dataset sentiment140 (/Users/krebs/.cache/huggingface/datasets/sentiment140/sentiment140/1.0.0/f81c014152931b776735658d8ae493b181927de002e706c4d5244ecb26376997)\n"
     ]
    },
    {
     "name": "stdout",
     "output_type": "stream",
     "text": [
      "\n",
      "Loading processed dataset from cache...\n",
      "Dataset loaded\n"
     ]
    }
   ],
   "source": [
    "# Loading data and apply embedding\n",
    "data = SentimentDataset()\n",
    "w2v(data)\n"
   ]
  },
  {
   "cell_type": "code",
   "execution_count": 20,
   "metadata": {},
   "outputs": [
    {
     "name": "stdout",
     "output_type": "stream",
     "text": [
      "Performing grid search with 5-fold cross validation\n",
      "\n",
      "Fitting 5 folds for each of 12 candidates, totalling 60 fits\n",
      "[CV 1/5] END max_depth=10, min_samples_leaf=100, n_estimators=50;, score=(train=0.750, test=0.701) total time= 2.7min\n",
      "[CV 3/5] END max_depth=10, min_samples_leaf=100, n_estimators=50;, score=(train=0.748, test=0.703) total time= 2.7min\n",
      "[CV 2/5] END max_depth=10, min_samples_leaf=100, n_estimators=50;, score=(train=0.750, test=0.703) total time= 2.7min\n",
      "[CV 4/5] END max_depth=10, min_samples_leaf=100, n_estimators=50;, score=(train=0.747, test=0.705) total time= 2.7min\n",
      "[CV 5/5] END max_depth=10, min_samples_leaf=100, n_estimators=50;, score=(train=0.746, test=0.700) total time= 2.7min\n",
      "[CV 1/5] END max_depth=10, min_samples_leaf=500, n_estimators=50;, score=(train=0.712, test=0.695) total time= 2.2min\n",
      "[CV 1/5] END max_depth=10, min_samples_leaf=100, n_estimators=100;, score=(train=0.752, test=0.703) total time= 5.3min\n",
      "[CV 4/5] END max_depth=10, min_samples_leaf=100, n_estimators=100;, score=(train=0.751, test=0.708) total time= 5.3min\n",
      "[CV 2/5] END max_depth=10, min_samples_leaf=100, n_estimators=100;, score=(train=0.753, test=0.705) total time= 5.3min\n",
      "[CV 5/5] END max_depth=10, min_samples_leaf=100, n_estimators=100;, score=(train=0.750, test=0.703) total time= 5.3min\n",
      "[CV 3/5] END max_depth=10, min_samples_leaf=100, n_estimators=100;, score=(train=0.750, test=0.705) total time= 5.3min\n",
      "[CV 2/5] END max_depth=10, min_samples_leaf=500, n_estimators=50;, score=(train=0.714, test=0.694) total time= 2.4min\n",
      "[CV 4/5] END max_depth=10, min_samples_leaf=500, n_estimators=50;, score=(train=0.712, test=0.695) total time= 2.4min\n",
      "[CV 3/5] END max_depth=10, min_samples_leaf=500, n_estimators=50;, score=(train=0.713, test=0.692) total time= 2.4min\n",
      "[CV 5/5] END max_depth=10, min_samples_leaf=500, n_estimators=50;, score=(train=0.714, test=0.690) total time= 2.4min\n",
      "[CV 1/5] END max_depth=10, min_samples_leaf=500, n_estimators=100;, score=(train=0.716, test=0.698) total time= 4.8min\n",
      "[CV 2/5] END max_depth=10, min_samples_leaf=500, n_estimators=100;, score=(train=0.717, test=0.696) total time= 4.8min\n",
      "[CV 3/5] END max_depth=10, min_samples_leaf=500, n_estimators=100;, score=(train=0.715, test=0.695) total time= 4.9min\n",
      "[CV 4/5] END max_depth=10, min_samples_leaf=500, n_estimators=100;, score=(train=0.716, test=0.697) total time= 5.0min\n",
      "[CV 5/5] END max_depth=10, min_samples_leaf=500, n_estimators=100;, score=(train=0.716, test=0.693) total time= 5.0min\n",
      "[CV 1/5] END max_depth=10, min_samples_leaf=100, n_estimators=250;, score=(train=0.753, test=0.708) total time=14.1min\n",
      "[CV 1/5] END max_depth=50, min_samples_leaf=100, n_estimators=50;, score=(train=0.771, test=0.707) total time= 3.2min\n",
      "[CV 3/5] END max_depth=10, min_samples_leaf=100, n_estimators=250;, score=(train=0.752, test=0.706) total time=14.2min\n",
      "[CV 2/5] END max_depth=10, min_samples_leaf=100, n_estimators=250;, score=(train=0.754, test=0.706) total time=14.3min\n",
      "[CV 4/5] END max_depth=10, min_samples_leaf=100, n_estimators=250;, score=(train=0.752, test=0.707) total time=14.3min\n",
      "[CV 5/5] END max_depth=10, min_samples_leaf=100, n_estimators=250;, score=(train=0.752, test=0.703) total time=14.3min\n",
      "[CV 2/5] END max_depth=50, min_samples_leaf=100, n_estimators=50;, score=(train=0.773, test=0.708) total time= 3.2min\n",
      "[CV 3/5] END max_depth=50, min_samples_leaf=100, n_estimators=50;, score=(train=0.772, test=0.708) total time= 3.1min\n",
      "[CV 4/5] END max_depth=50, min_samples_leaf=100, n_estimators=50;, score=(train=0.770, test=0.708) total time= 3.0min\n",
      "[CV 1/5] END max_depth=10, min_samples_leaf=500, n_estimators=250;, score=(train=0.717, test=0.699) total time=12.3min\n",
      "[CV 5/5] END max_depth=50, min_samples_leaf=100, n_estimators=50;, score=(train=0.773, test=0.707) total time= 3.1min\n",
      "[CV 2/5] END max_depth=10, min_samples_leaf=500, n_estimators=250;, score=(train=0.717, test=0.697) total time=12.0min\n",
      "[CV 3/5] END max_depth=10, min_samples_leaf=500, n_estimators=250;, score=(train=0.717, test=0.697) total time=12.0min\n",
      "[CV 1/5] END max_depth=50, min_samples_leaf=100, n_estimators=100;, score=(train=0.776, test=0.710) total time= 5.8min\n",
      "[CV 2/5] END max_depth=50, min_samples_leaf=100, n_estimators=100;, score=(train=0.777, test=0.711) total time= 5.8min\n",
      "[CV 3/5] END max_depth=50, min_samples_leaf=100, n_estimators=100;, score=(train=0.776, test=0.712) total time= 5.8min\n",
      "[CV 4/5] END max_depth=10, min_samples_leaf=500, n_estimators=250;, score=(train=0.715, test=0.697) total time=11.7min\n",
      "[CV 5/5] END max_depth=10, min_samples_leaf=500, n_estimators=250;, score=(train=0.717, test=0.695) total time=11.7min\n",
      "[CV 4/5] END max_depth=50, min_samples_leaf=100, n_estimators=100;, score=(train=0.775, test=0.711) total time= 5.6min\n",
      "[CV 1/5] END max_depth=50, min_samples_leaf=500, n_estimators=50;, score=(train=0.713, test=0.695) total time= 2.2min\n",
      "[CV 2/5] END max_depth=50, min_samples_leaf=500, n_estimators=50;, score=(train=0.716, test=0.696) total time= 2.2min\n",
      "[CV 5/5] END max_depth=50, min_samples_leaf=100, n_estimators=100;, score=(train=0.777, test=0.708) total time= 5.6min\n",
      "[CV 3/5] END max_depth=50, min_samples_leaf=500, n_estimators=50;, score=(train=0.713, test=0.694) total time= 2.2min\n",
      "[CV 4/5] END max_depth=50, min_samples_leaf=500, n_estimators=50;, score=(train=0.714, test=0.697) total time= 2.2min\n",
      "[CV 5/5] END max_depth=50, min_samples_leaf=500, n_estimators=50;, score=(train=0.714, test=0.692) total time= 2.2min\n",
      "[CV 1/5] END max_depth=50, min_samples_leaf=500, n_estimators=100;, score=(train=0.717, test=0.697) total time= 4.4min\n",
      "[CV 2/5] END max_depth=50, min_samples_leaf=500, n_estimators=100;, score=(train=0.718, test=0.697) total time= 4.4min\n",
      "[CV 3/5] END max_depth=50, min_samples_leaf=500, n_estimators=100;, score=(train=0.716, test=0.696) total time= 4.3min\n",
      "[CV 4/5] END max_depth=50, min_samples_leaf=500, n_estimators=100;, score=(train=0.715, test=0.699) total time= 4.3min\n",
      "[CV 5/5] END max_depth=50, min_samples_leaf=500, n_estimators=100;, score=(train=0.717, test=0.693) total time= 4.4min\n",
      "[CV 1/5] END max_depth=50, min_samples_leaf=100, n_estimators=250;, score=(train=0.778, test=0.713) total time=13.7min\n",
      "[CV 2/5] END max_depth=50, min_samples_leaf=100, n_estimators=250;, score=(train=0.778, test=0.711) total time=13.7min\n",
      "[CV 4/5] END max_depth=50, min_samples_leaf=100, n_estimators=250;, score=(train=0.777, test=0.713) total time=13.3min\n",
      "[CV 3/5] END max_depth=50, min_samples_leaf=100, n_estimators=250;, score=(train=0.778, test=0.713) total time=13.4min\n",
      "[CV 5/5] END max_depth=50, min_samples_leaf=100, n_estimators=250;, score=(train=0.778, test=0.708) total time=13.2min\n",
      "[CV 1/5] END max_depth=50, min_samples_leaf=500, n_estimators=250;, score=(train=0.718, test=0.698) total time= 9.7min\n",
      "[CV 2/5] END max_depth=50, min_samples_leaf=500, n_estimators=250;, score=(train=0.718, test=0.698) total time= 8.8min\n",
      "[CV 3/5] END max_depth=50, min_samples_leaf=500, n_estimators=250;, score=(train=0.717, test=0.697) total time= 8.7min\n",
      "[CV 4/5] END max_depth=50, min_samples_leaf=500, n_estimators=250;, score=(train=0.717, test=0.698) total time= 8.6min\n",
      "[CV 5/5] END max_depth=50, min_samples_leaf=500, n_estimators=250;, score=(train=0.718, test=0.695) total time= 8.4min\n",
      "Best params: {'max_depth': 50, 'min_samples_leaf': 100, 'n_estimators': 250}\n"
     ]
    }
   ],
   "source": [
    "# Training the model using\n",
    "params = {\n",
    "    'n_estimators': [50, 100, 250],\n",
    "    'max_depth': [10, 50],\n",
    "    'min_samples_leaf': [100, 500],\n",
    "}\n",
    "\n",
    "\n",
    "rfc = utils.SklearnModels(model=RandomForestClassifier(random_state=42),\n",
    "                          data_model=data,\n",
    "                          model_name = 'RandomForest',\n",
    "                          grid_search = True,\n",
    "                          model_params = params,\n",
    "                          scale=False,\n",
    "                          verbose=3)\n",
    "\n",
    "rfc.fit()"
   ]
  },
  {
   "cell_type": "code",
   "execution_count": 22,
   "metadata": {},
   "outputs": [],
   "source": [
    "rfc.model_name = rfc.model_name + '_w2v'"
   ]
  },
  {
   "cell_type": "code",
   "execution_count": 25,
   "metadata": {},
   "outputs": [],
   "source": [
    "rfc.save()"
   ]
  },
  {
   "attachments": {},
   "cell_type": "markdown",
   "metadata": {},
   "source": [
    "## TF-IDF Embedding"
   ]
  },
  {
   "cell_type": "code",
   "execution_count": 42,
   "metadata": {},
   "outputs": [
    {
     "name": "stdout",
     "output_type": "stream",
     "text": [
      "Loading data...\n"
     ]
    },
    {
     "name": "stderr",
     "output_type": "stream",
     "text": [
      "Found cached dataset sentiment140 (/Users/krebs/.cache/huggingface/datasets/sentiment140/sentiment140/1.0.0/f81c014152931b776735658d8ae493b181927de002e706c4d5244ecb26376997)\n"
     ]
    },
    {
     "name": "stdout",
     "output_type": "stream",
     "text": [
      "\n",
      "Loading processed dataset from cache...\n",
      "Dataset loaded\n"
     ]
    }
   ],
   "source": [
    "tfidfData = SentimentDataset()"
   ]
  },
  {
   "cell_type": "code",
   "execution_count": 43,
   "metadata": {},
   "outputs": [
    {
     "name": "stdout",
     "output_type": "stream",
     "text": [
      "TF-IDF embedding applied\n"
     ]
    },
    {
     "data": {
      "text/plain": [
       "<modules.utils.tf_idf at 0x7fc0799a3460>"
      ]
     },
     "execution_count": 43,
     "metadata": {},
     "output_type": "execute_result"
    }
   ],
   "source": [
    "tf_idf(tfidfData)"
   ]
  },
  {
   "cell_type": "code",
   "execution_count": 50,
   "metadata": {},
   "outputs": [
    {
     "name": "stdout",
     "output_type": "stream",
     "text": [
      "Performing grid search with 2-fold cross validation\n",
      "\n",
      "Fitting 2 folds for each of 1 candidates, totalling 2 fits\n",
      "[CV 2/2] END max_depth=50, min_samples_leaf=100, n_estimators=250;, score=(train=0.728, test=0.721) total time=  27.2s\n",
      "[CV 1/2] END max_depth=50, min_samples_leaf=100, n_estimators=250;, score=(train=0.736, test=0.728) total time=  27.5s\n",
      "Best params: {'max_depth': 50, 'min_samples_leaf': 100, 'n_estimators': 250}\n"
     ]
    }
   ],
   "source": [
    "# Training the model using\n",
    "param_tf = {'max_depth': [50], 'min_samples_leaf': [100], 'n_estimators': [250]}\n",
    "\n",
    "rfc_tf = utils.SklearnModels(model=RandomForestClassifier(random_state=42),\n",
    "                             data_model=tfidfData,\n",
    "                             model_name = 'RandomForest_tf-idf',\n",
    "                             grid_search = True,\n",
    "                             model_params = param_tf,\n",
    "                             scale=False,\n",
    "                             verbose=3,\n",
    "                             cv=2)\n",
    "\n",
    "rfc_tf.fit()"
   ]
  },
  {
   "attachments": {},
   "cell_type": "markdown",
   "metadata": {},
   "source": [
    "## TF-IDF "
   ]
  },
  {
   "attachments": {},
   "cell_type": "markdown",
   "metadata": {},
   "source": [
    "## Evaluate"
   ]
  },
  {
   "attachments": {},
   "cell_type": "markdown",
   "metadata": {},
   "source": [
    "### Word2Vec"
   ]
  },
  {
   "cell_type": "code",
   "execution_count": 27,
   "metadata": {},
   "outputs": [
    {
     "name": "stdout",
     "output_type": "stream",
     "text": [
      "RandomForest_w2v\n",
      "Classification Report:\n",
      "               precision    recall  f1-score   support\n",
      "\n",
      "           0       0.71      0.72      0.71     19934\n",
      "           1       0.72      0.70      0.71     20066\n",
      "\n",
      "    accuracy                           0.71     40000\n",
      "   macro avg       0.71      0.71      0.71     40000\n",
      "weighted avg       0.71      0.71      0.71     40000\n",
      "\n"
     ]
    }
   ],
   "source": [
    "print(f'{rfc.model_name}')\n",
    "rfc.evaluate_on_test(accuracy=False, classification_rep=True)"
   ]
  },
  {
   "cell_type": "code",
   "execution_count": 28,
   "metadata": {},
   "outputs": [
    {
     "data": {
      "text/plain": [
       "<Figure size 720x576 with 0 Axes>"
      ]
     },
     "metadata": {},
     "output_type": "display_data"
    },
    {
     "data": {
      "image/png": "[encoded data removed]",
      "text/plain": [
       "<Figure size 432x288 with 2 Axes>"
      ]
     },
     "metadata": {
      "needs_background": "light"
     },
     "output_type": "display_data"
    }
   ],
   "source": [
    "rfc.evaluate_on_test(confusion_mat=True, print_out=False)\n",
    "rfc.plot_confusion_matrix()"
   ]
  },
  {
   "attachments": {},
   "cell_type": "markdown",
   "metadata": {},
   "source": [
    "### TF-IDF"
   ]
  },
  {
   "cell_type": "code",
   "execution_count": 51,
   "metadata": {},
   "outputs": [
    {
     "name": "stdout",
     "output_type": "stream",
     "text": [
      "RandomForest_tf-idf\n",
      "Test Accuracy:  0.7385\n"
     ]
    }
   ],
   "source": [
    "print(f'{rfc_tf.model_name}')\n",
    "rfc_tf.evaluate_on_test(accuracy=True)"
   ]
  },
  {
   "cell_type": "code",
   "execution_count": 52,
   "metadata": {},
   "outputs": [
    {
     "name": "stdout",
     "output_type": "stream",
     "text": [
      "RandomForest_tf-idf - Word Embedding Type TF-IDF\n",
      "Classification Report:\n",
      "               precision    recall  f1-score   support\n",
      "\n",
      "           0       0.75      0.71      0.73     20015\n",
      "           1       0.72      0.77      0.75     19985\n",
      "\n",
      "    accuracy                           0.74     40000\n",
      "   macro avg       0.74      0.74      0.74     40000\n",
      "weighted avg       0.74      0.74      0.74     40000\n",
      "\n"
     ]
    }
   ],
   "source": [
    "print(f'{rfc_tf.model_name} - Word Embedding Type {tfidfData.embedding_type}')\n",
    "rfc_tf.evaluate_on_test(accuracy=False, classification_rep=True)"
   ]
  },
  {
   "cell_type": "code",
   "execution_count": 53,
   "metadata": {},
   "outputs": [
    {
     "data": {
      "text/plain": [
       "<Figure size 720x576 with 0 Axes>"
      ]
     },
     "metadata": {},
     "output_type": "display_data"
    },
    {
     "data": {
      "image/png": "[encoded data removed]",
      "text/plain": [
       "<Figure size 432x288 with 2 Axes>"
      ]
     },
     "metadata": {
      "needs_background": "light"
     },
     "output_type": "display_data"
    }
   ],
   "source": [
    "rfc_tf.evaluate_on_test(confusion_mat=True, print_out=False)\n",
    "rfc_tf.plot_confusion_matrix()"
   ]
  },
  {
   "cell_type": "code",
   "execution_count": 55,
   "metadata": {},
   "outputs": [],
   "source": [
    "rfc_tf.save()"
   ]
  },
  {
   "attachments": {},
   "cell_type": "markdown",
   "metadata": {},
   "source": [
    "## Errors"
   ]
  },
  {
   "cell_type": "code",
   "execution_count": 47,
   "metadata": {},
   "outputs": [],
   "source": [
    "from datasets import load_dataset\n",
    "from modules.utils import SklearnModels, w2v, tf_idf\n",
    "import random\n",
    "from tabulate import tabulate"
   ]
  },
  {
   "attachments": {},
   "cell_type": "markdown",
   "metadata": {},
   "source": [
    "### W2V"
   ]
  },
  {
   "cell_type": "code",
   "execution_count": 31,
   "metadata": {},
   "outputs": [
    {
     "name": "stderr",
     "output_type": "stream",
     "text": [
      "Found cached dataset sentiment140 (/Users/krebs/.cache/huggingface/datasets/sentiment140/sentiment140/1.0.0/f81c014152931b776735658d8ae493b181927de002e706c4d5244ecb26376997)\n"
     ]
    },
    {
     "data": {
      "application/vnd.jupyter.widget-view+json": {
       "model_id": "95cf3e9ca5004390860e50d5627604b6",
       "version_major": 2,
       "version_minor": 0
      },
      "text/plain": [
       "  0%|          | 0/2 [00:00<?, ?it/s]"
      ]
     },
     "metadata": {},
     "output_type": "display_data"
    },
    {
     "name": "stdout",
     "output_type": "stream",
     "text": [
      "Processing\n",
      "Processing test input\n",
      "Applying Word2Vec embedding\n",
      "Loading Word2Vec model from directory\n",
      "Vectorizing range(0, 2000) tweets\n",
      "Word2Vec embedding applied\n"
     ]
    }
   ],
   "source": [
    "# Loading new dataset\n",
    "df = load_dataset('sentiment140')\n",
    "\n",
    "# Create subset based on new data\n",
    "test_set = df['train'].to_pandas().groupby('sentiment').apply(\n",
    "    lambda x: x[-1000:]).reset_index(drop=True).replace(4, 1).sample(frac=1)\n",
    "\n",
    "# Process it similarly to the training data\n",
    "sentences = SentimentDataset(\n",
    "    test_set.text.to_list(), subset='test').process_data()\n",
    "\n",
    "# Apply word2vec on it\n",
    "vectorized = w2v(sentences, return_vector=True).vector\n",
    "\n",
    "# Target list\n",
    "target = test_set.sentiment.to_list()\n"
   ]
  },
  {
   "cell_type": "code",
   "execution_count": 38,
   "metadata": {},
   "outputs": [
    {
     "name": "stdout",
     "output_type": "stream",
     "text": [
      "Loading model\n"
     ]
    }
   ],
   "source": [
    "# Load model from model directory\n",
    "rf_word2vec = SklearnModels(model_name='RandomForest_w2v',\n",
    "                            split=False).load_model()\n"
   ]
  },
  {
   "cell_type": "code",
   "execution_count": 39,
   "metadata": {},
   "outputs": [],
   "source": [
    "# Perform predictions\n",
    "rf_w2v_prediction = rf_word2vec.model.predict(vectorized)"
   ]
  },
  {
   "cell_type": "code",
   "execution_count": 42,
   "metadata": {},
   "outputs": [],
   "source": [
    "# Indices of wrong predictions\n",
    "wrong_predictions = [i for i, (a, b) in enumerate(\n",
    "    zip(rf_w2v_prediction, target)) if a != b]\n",
    "\n",
    "# Random list of 5 index positions\n",
    "indexes = [wrong_predictions[random.randint(\n",
    "    0, len(wrong_predictions)-1)] for _ in range(5)]\n",
    "\n",
    "# Original tweet\n",
    "original = test_set.text.to_list()\n",
    "\n",
    "# Processed tweet\n",
    "processed = sentences"
   ]
  },
  {
   "cell_type": "code",
   "execution_count": 45,
   "metadata": {},
   "outputs": [],
   "source": [
    "# Create a table for tabulate\n",
    "table = [[original[i], processed[i], target[i], rf_w2v_prediction[i]]\n",
    "         for i in indexes]\n"
   ]
  },
  {
   "cell_type": "code",
   "execution_count": 48,
   "metadata": {},
   "outputs": [
    {
     "name": "stdout",
     "output_type": "stream",
     "text": [
      "Original Tweet                                                                          Processed Tweet                                     True Label    Predicted Label\n",
      "--------------------------------------------------------------------------------------  ------------------------------------------------  ------------  -----------------\n",
      "@rainnwilson a NSFW warning would have been nice                                        nsfw warning would nice                                      0                  1\n",
      "@whenyougethigh Well said. Keep us updated!                                             well said keep u updated                                     0                  1\n",
      "Rest In Peace Farrah!                                                                   rest peace farrah                                            0                  1\n",
      "@cryssie awww. Farrah Fawcett known as a Charlie Angel in 1970's. Now, she is no more.  awww farrah fawcett known charlie angel 1970                 0                  1\n",
      "It has been storming all day . . . I love it  . Coming home tomorrow . Time to pack     storming day love coming home tomorrow time pack             1                  0\n"
     ]
    }
   ],
   "source": [
    "print(tabulate(table, headers=[\"Original Tweet\",\"Processed Tweet\", \"True Label\", \"Predicted Label\"]))"
   ]
  },
  {
   "attachments": {},
   "cell_type": "markdown",
   "metadata": {},
   "source": [
    "### TF-IDF"
   ]
  },
  {
   "cell_type": "code",
   "execution_count": 57,
   "metadata": {},
   "outputs": [
    {
     "name": "stdout",
     "output_type": "stream",
     "text": [
      "Processing\n",
      "Processing test input\n"
     ]
    }
   ],
   "source": [
    "# Similarly_ load data on new data\n",
    "sentences_2 = SentimentDataset(\n",
    "    test_set.text.to_list(), subset='test').process_data()"
   ]
  },
  {
   "cell_type": "code",
   "execution_count": 56,
   "metadata": {},
   "outputs": [
    {
     "name": "stdout",
     "output_type": "stream",
     "text": [
      "Loading data...\n"
     ]
    },
    {
     "name": "stderr",
     "output_type": "stream",
     "text": [
      "Found cached dataset sentiment140 (/Users/krebs/.cache/huggingface/datasets/sentiment140/sentiment140/1.0.0/f81c014152931b776735658d8ae493b181927de002e706c4d5244ecb26376997)\n"
     ]
    },
    {
     "name": "stdout",
     "output_type": "stream",
     "text": [
      "\n",
      "Loading processed dataset from cache...\n",
      "Dataset loaded\n",
      "TF-IDF embedding applied\n"
     ]
    },
    {
     "data": {
      "text/plain": [
       "<modules.utils.tf_idf at 0x7ff1912ff880>"
      ]
     },
     "execution_count": 56,
     "metadata": {},
     "output_type": "execute_result"
    }
   ],
   "source": [
    "# Initialize training data, to apply tf-idf. We will need to do it on the training data to ensure the tf-idf model is fitted to this\n",
    "tf_idf_data = SentimentDataset()\n",
    "tf_idf(tf_idf_data)\n"
   ]
  },
  {
   "cell_type": "code",
   "execution_count": 58,
   "metadata": {},
   "outputs": [],
   "source": [
    "# Apply tf-idf to new data\n",
    "tf_idf_vector = tf_idf_data.tfidf_vectorize(sentences_2)"
   ]
  },
  {
   "cell_type": "code",
   "execution_count": 61,
   "metadata": {},
   "outputs": [
    {
     "name": "stdout",
     "output_type": "stream",
     "text": [
      "Loading model\n"
     ]
    }
   ],
   "source": [
    "# Load model from model directory\n",
    "rf_tfidf = SklearnModels(model_name='RandomForest_tf-idf',\n",
    "                         split=False).load_model()\n",
    "\n",
    "# Perform predictions\n",
    "tfidf_predictions = rf_tfidf.model.predict(tf_idf_vector)"
   ]
  },
  {
   "cell_type": "code",
   "execution_count": 63,
   "metadata": {},
   "outputs": [],
   "source": [
    "# Indices of wrong predictions\n",
    "wrong_predictions_2 = [i for i, (a, b) in enumerate(\n",
    "    zip(tfidf_predictions, target)) if a != b]\n",
    "\n",
    "# Random list of 5 index positions\n",
    "indexes_2 = [wrong_predictions_2[random.randint(\n",
    "    0, len(wrong_predictions_2)-1)] for _ in range(5)]\n",
    "\n",
    "# Original tweet\n",
    "original = test_set.text.to_list()\n",
    "\n",
    "# Processed tweet\n",
    "processed = sentences"
   ]
  },
  {
   "cell_type": "code",
   "execution_count": 69,
   "metadata": {},
   "outputs": [
    {
     "name": "stdout",
     "output_type": "stream",
     "text": [
      "Random Forrest TF-IDF Word Embedding - Wrong Predictions\n",
      "\n",
      "Original Tweet                                                                                                      Processed Tweet                                    True Label    Predicted Label\n",
      "------------------------------------------------------------------------------------------------------------------  -----------------------------------------------  ------------  -----------------\n",
      "looking a little pink                                                                                               looking little pink                                         0                  1\n",
      "@pauldawalibi @nairapemberton What's wrong with Plain Jane?                                                         wrong plain jane                                            0                  1\n",
      "We will always love Farrah Fawcett, R.I.P.                                                                          always love farrah fawcett r p                              0                  1\n",
      "RIP farah fawcett.  now you can officially be Charlie's angel.                                                      rip farah fawcett officially charlie angel                  0                  1\n",
      "@FunkaliciousSam i know! Loved it! Too bad i just finished work couldn't fully enjoy it  ! I'm good how are you? X  know loved bad finished work fully enjoy good x             0                  1\n"
     ]
    }
   ],
   "source": [
    "# Create table with wrong predictions\n",
    "table = [[original[i], processed[i], target[i], tfidf_predictions[i]]\n",
    "         for i in indexes_2]\n",
    "\n",
    "print('Random Forrest TF-IDF Word Embedding - Wrong Predictions\\n')\n",
    "print(tabulate(table, headers=[\"Original Tweet\",\"Processed Tweet\", \"True Label\", \"Predicted Label\"]))\n"
   ]
  }
 ],
 "metadata": {
  "kernelspec": {
   "display_name": "base",
   "language": "python",
   "name": "python3"
  },
  "language_info": {
   "codemirror_mode": {
    "name": "ipython",
    "version": 3
   },
   "file_extension": ".py",
   "mimetype": "text/x-python",
   "name": "python",
   "nbconvert_exporter": "python",
   "pygments_lexer": "ipython3",
   "version": "3.9.7"
  },
  "orig_nbformat": 4
 },
 "nbformat": 4,
 "nbformat_minor": 2
}
