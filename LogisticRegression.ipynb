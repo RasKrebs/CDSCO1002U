{
 "cells": [
  {
   "attachments": {},
   "cell_type": "markdown",
   "metadata": {},
   "source": [
    "# Logistic Regresssion Model Building and Evaluation\n",
    "\n",
    "This notebook is used for training and evaluation of the two `Logistic Regression` models used for this project. To import the trained models and explore their prediction capabilities, skip to the section on error analysis, which imports the trained model. Before doing that however, ensure that the setup section is run to import the necessary modules."
   ]
  },
  {
   "attachments": {},
   "cell_type": "markdown",
   "metadata": {},
   "source": [
    "# Setup"
   ]
  },
  {
   "cell_type": "code",
   "execution_count": 3,
   "metadata": {},
   "outputs": [],
   "source": [
    "from modules.utils import SentimentDataset, SklearnModels, w2v, tf_idf\n",
    "from sklearn.linear_model import LogisticRegression"
   ]
  },
  {
   "attachments": {},
   "cell_type": "markdown",
   "metadata": {},
   "source": [
    "# Model Building and Tuning"
   ]
  },
  {
   "cell_type": "code",
   "execution_count": 3,
   "metadata": {},
   "outputs": [
    {
     "name": "stdout",
     "output_type": "stream",
     "text": [
      "Loading data...\n"
     ]
    },
    {
     "name": "stderr",
     "output_type": "stream",
     "text": [
      "Found cached dataset sentiment140 (/Users/krebs/.cache/huggingface/datasets/sentiment140/sentiment140/1.0.0/f81c014152931b776735658d8ae493b181927de002e706c4d5244ecb26376997)\n"
     ]
    },
    {
     "name": "stdout",
     "output_type": "stream",
     "text": [
      "\n",
      "Loading processed dataset from cache...\n",
      "Dataset loaded\n"
     ]
    }
   ],
   "source": [
    "# Loading data and apply embedding\n",
    "data = SentimentDataset()#full_refresh=True).process_data(remove_stopwords=True)"
   ]
  },
  {
   "cell_type": "code",
   "execution_count": 4,
   "metadata": {},
   "outputs": [
    {
     "name": "stdout",
     "output_type": "stream",
     "text": [
      "Applying Word2Vec embedding\n",
      "Loading Word2Vec model from directory\n",
      "Vectorizing range(0, 200000) tweets\n",
      "Word2Vec embedding applied\n"
     ]
    },
    {
     "data": {
      "text/plain": [
       "<modules.utils.w2v at 0x7f87004ad130>"
      ]
     },
     "execution_count": 4,
     "metadata": {},
     "output_type": "execute_result"
    }
   ],
   "source": [
    "w2v(data)"
   ]
  },
  {
   "attachments": {},
   "cell_type": "markdown",
   "metadata": {},
   "source": [
    "## Word2Vec Logit"
   ]
  },
  {
   "cell_type": "code",
   "execution_count": 5,
   "metadata": {},
   "outputs": [
    {
     "name": "stdout",
     "output_type": "stream",
     "text": [
      "Performing grid search with 5-fold cross validation\n",
      "\n",
      "Fitting 5 folds for each of 36 candidates, totalling 180 fits\n",
      "[CV 1/5] END C=0.1, max_iter=100, solver=lbfgs;, score=(train=0.734, test=0.733) total time=   3.0s\n",
      "[CV 2/5] END C=0.1, max_iter=100, solver=lbfgs;, score=(train=0.733, test=0.732) total time=   2.7s\n",
      "[CV 3/5] END C=0.1, max_iter=100, solver=lbfgs;, score=(train=0.733, test=0.735) total time=   3.1s\n"
     ]
    },
    {
     "name": "stderr",
     "output_type": "stream",
     "text": [
      "/opt/anaconda3/lib/python3.9/site-packages/joblib/externals/loky/process_executor.py:702: UserWarning: A worker stopped while some jobs were given to the executor. This can be caused by a too short worker timeout or by a memory leak.\n",
      "  warnings.warn(\n"
     ]
    },
    {
     "name": "stdout",
     "output_type": "stream",
     "text": [
      "[CV 2/5] END C=0.1, max_iter=100, solver=sag;, score=(train=0.733, test=0.732) total time=  13.1s\n",
      "[CV 3/5] END C=0.1, max_iter=100, solver=sag;, score=(train=0.733, test=0.735) total time=  13.2s\n",
      "[CV 4/5] END C=0.1, max_iter=100, solver=lbfgs;, score=(train=0.733, test=0.733) total time=   3.3s\n",
      "[CV 1/5] END C=0.1, max_iter=100, solver=sag;, score=(train=0.734, test=0.733) total time=  14.3s\n",
      "[CV 4/5] END C=0.1, max_iter=100, solver=sag;, score=(train=0.734, test=0.733) total time=  14.4s\n",
      "[CV 5/5] END C=0.1, max_iter=100, solver=sag;, score=(train=0.734, test=0.730) total time=  15.2s\n",
      "[CV 5/5] END C=0.1, max_iter=100, solver=lbfgs;, score=(train=0.734, test=0.730) total time=   3.6s\n",
      "[CV 1/5] END C=0.1, max_iter=100, solver=saga;, score=(train=0.734, test=0.733) total time=  18.1s\n",
      "[CV 2/5] END C=0.1, max_iter=100, solver=saga;, score=(train=0.733, test=0.732) total time=  19.0s\n",
      "[CV 3/5] END C=0.1, max_iter=100, solver=saga;, score=(train=0.733, test=0.735) total time=  19.9s\n",
      "[CV 4/5] END C=0.1, max_iter=100, solver=saga;, score=(train=0.733, test=0.733) total time=  19.9s\n",
      "[CV 5/5] END C=0.1, max_iter=100, solver=saga;, score=(train=0.734, test=0.730) total time=  20.1s\n",
      "[CV 1/5] END C=0.1, max_iter=500, solver=lbfgs;, score=(train=0.734, test=0.733) total time=   2.9s\n",
      "[CV 2/5] END C=0.1, max_iter=500, solver=lbfgs;, score=(train=0.733, test=0.732) total time=   3.4s\n",
      "[CV 2/5] END C=0.1, max_iter=500, solver=sag;, score=(train=0.733, test=0.732) total time=  14.5s\n",
      "[CV 1/5] END C=0.1, max_iter=500, solver=sag;, score=(train=0.734, test=0.733) total time=  15.2s\n",
      "[CV 3/5] END C=0.1, max_iter=500, solver=sag;, score=(train=0.733, test=0.735) total time=  14.2s\n",
      "[CV 4/5] END C=0.1, max_iter=500, solver=sag;, score=(train=0.734, test=0.733) total time=  15.0s\n",
      "[CV 5/5] END C=0.1, max_iter=500, solver=sag;, score=(train=0.734, test=0.730) total time=  15.3s\n",
      "[CV 3/5] END C=0.1, max_iter=500, solver=lbfgs;, score=(train=0.733, test=0.735) total time=   4.8s\n",
      "[CV 5/5] END C=0.1, max_iter=500, solver=lbfgs;, score=(train=0.734, test=0.730) total time=   4.4s\n",
      "[CV 4/5] END C=0.1, max_iter=500, solver=lbfgs;, score=(train=0.733, test=0.733) total time=   4.4s\n",
      "[CV 1/5] END C=0.1, max_iter=500, solver=saga;, score=(train=0.734, test=0.733) total time=  18.8s\n",
      "[CV 2/5] END C=0.1, max_iter=500, solver=saga;, score=(train=0.733, test=0.732) total time=  19.3s\n",
      "[CV 3/5] END C=0.1, max_iter=500, solver=saga;, score=(train=0.733, test=0.735) total time=  20.2s\n",
      "[CV 5/5] END C=0.1, max_iter=500, solver=saga;, score=(train=0.734, test=0.730) total time=  20.1s\n",
      "[CV 4/5] END C=0.1, max_iter=500, solver=saga;, score=(train=0.733, test=0.733) total time=  20.2s\n",
      "[CV 1/5] END C=0.1, max_iter=1000, solver=lbfgs;, score=(train=0.734, test=0.733) total time=   2.6s\n",
      "[CV 2/5] END C=0.1, max_iter=1000, solver=sag;, score=(train=0.733, test=0.732) total time=  13.9s\n",
      "[CV 1/5] END C=0.1, max_iter=1000, solver=sag;, score=(train=0.734, test=0.733) total time=  14.8s\n",
      "[CV 3/5] END C=0.1, max_iter=1000, solver=sag;, score=(train=0.733, test=0.735) total time=  13.5s\n",
      "[CV 2/5] END C=0.1, max_iter=1000, solver=lbfgs;, score=(train=0.733, test=0.732) total time=   4.5s\n",
      "[CV 5/5] END C=0.1, max_iter=1000, solver=sag;, score=(train=0.734, test=0.730) total time=  14.9s\n",
      "[CV 4/5] END C=0.1, max_iter=1000, solver=sag;, score=(train=0.734, test=0.733) total time=  14.9s\n",
      "[CV 4/5] END C=0.1, max_iter=1000, solver=lbfgs;, score=(train=0.733, test=0.733) total time=   4.8s\n",
      "[CV 3/5] END C=0.1, max_iter=1000, solver=lbfgs;, score=(train=0.733, test=0.735) total time=   4.8s\n",
      "[CV 5/5] END C=0.1, max_iter=1000, solver=lbfgs;, score=(train=0.734, test=0.730) total time=   5.0s\n",
      "[CV 1/5] END C=0.1, max_iter=1000, solver=saga;, score=(train=0.734, test=0.733) total time=  18.5s\n",
      "[CV 2/5] END C=0.1, max_iter=1000, solver=saga;, score=(train=0.733, test=0.732) total time=  19.4s\n",
      "[CV 3/5] END C=0.1, max_iter=1000, solver=saga;, score=(train=0.733, test=0.735) total time=  20.0s\n",
      "[CV 4/5] END C=0.1, max_iter=1000, solver=saga;, score=(train=0.733, test=0.733) total time=  20.2s\n",
      "[CV 5/5] END C=0.1, max_iter=1000, solver=saga;, score=(train=0.734, test=0.730) total time=  20.1s\n",
      "[CV 2/5] END C=0.1, max_iter=2000, solver=sag;, score=(train=0.733, test=0.732) total time=  13.5s\n",
      "[CV 1/5] END C=0.1, max_iter=2000, solver=sag;, score=(train=0.734, test=0.733) total time=  14.5s\n",
      "[CV 3/5] END C=0.1, max_iter=2000, solver=sag;, score=(train=0.733, test=0.735) total time=  13.5s\n",
      "[CV 1/5] END C=0.1, max_iter=2000, solver=lbfgs;, score=(train=0.734, test=0.733) total time=   3.3s\n",
      "[CV 4/5] END C=0.1, max_iter=2000, solver=sag;, score=(train=0.734, test=0.733) total time=  14.3s\n",
      "[CV 5/5] END C=0.1, max_iter=2000, solver=sag;, score=(train=0.734, test=0.730) total time=  14.5s\n",
      "[CV 3/5] END C=0.1, max_iter=2000, solver=lbfgs;, score=(train=0.733, test=0.735) total time=   4.1s\n",
      "[CV 1/5] END C=0.1, max_iter=2000, solver=saga;, score=(train=0.734, test=0.733) total time=  18.2s\n",
      "[CV 2/5] END C=0.1, max_iter=2000, solver=lbfgs;, score=(train=0.733, test=0.732) total time=   4.2s\n",
      "[CV 4/5] END C=0.1, max_iter=2000, solver=lbfgs;, score=(train=0.733, test=0.733) total time=   4.4s\n",
      "[CV 5/5] END C=0.1, max_iter=2000, solver=lbfgs;, score=(train=0.734, test=0.730) total time=   4.2s\n",
      "[CV 2/5] END C=0.1, max_iter=2000, solver=saga;, score=(train=0.733, test=0.732) total time=  19.0s\n",
      "[CV 3/5] END C=0.1, max_iter=2000, solver=saga;, score=(train=0.733, test=0.735) total time=  20.8s\n",
      "[CV 4/5] END C=0.1, max_iter=2000, solver=saga;, score=(train=0.733, test=0.733) total time=  20.8s\n",
      "[CV 5/5] END C=0.1, max_iter=2000, solver=saga;, score=(train=0.734, test=0.730) total time=  20.5s\n",
      "[CV 1/5] END C=1, max_iter=100, solver=lbfgs;, score=(train=0.739, test=0.737) total time=   4.2s\n",
      "[CV 2/5] END C=1, max_iter=100, solver=saga;, score=(train=0.738, test=0.735) total time=  16.5s\n",
      "[CV 2/5] END C=1, max_iter=100, solver=sag;, score=(train=0.738, test=0.735) total time=  20.9s\n",
      "[CV 3/5] END C=1, max_iter=100, solver=saga;, score=(train=0.737, test=0.740) total time=  16.7s\n",
      "[CV 1/5] END C=1, max_iter=100, solver=saga;, score=(train=0.738, test=0.737) total time=  17.7s\n",
      "[CV 1/5] END C=1, max_iter=100, solver=sag;, score=(train=0.739, test=0.737) total time=  24.1s\n",
      "[CV 3/5] END C=1, max_iter=100, solver=sag;, score=(train=0.737, test=0.740) total time=  23.5s\n",
      "[CV 2/5] END C=1, max_iter=100, solver=lbfgs;, score=(train=0.738, test=0.735) total time=   7.6s\n",
      "[CV 5/5] END C=1, max_iter=100, solver=sag;, score=(train=0.739, test=0.734) total time=  22.8s\n",
      "[CV 4/5] END C=1, max_iter=100, solver=sag;, score=(train=0.738, test=0.737) total time=  24.3s\n",
      "[CV 3/5] END C=1, max_iter=100, solver=lbfgs;, score=(train=0.737, test=0.740) total time=   7.2s\n",
      "[CV 4/5] END C=1, max_iter=100, solver=lbfgs;, score=(train=0.738, test=0.737) total time=   7.4s\n",
      "[CV 5/5] END C=1, max_iter=100, solver=lbfgs;, score=(train=0.739, test=0.734) total time=   7.9s\n",
      "[CV 4/5] END C=1, max_iter=100, solver=saga;, score=(train=0.738, test=0.737) total time=  18.9s\n",
      "[CV 5/5] END C=1, max_iter=100, solver=saga;, score=(train=0.739, test=0.734) total time=  18.9s\n",
      "[CV 1/5] END C=1, max_iter=500, solver=lbfgs;, score=(train=0.739, test=0.737) total time=   4.3s\n",
      "[CV 2/5] END C=1, max_iter=500, solver=lbfgs;, score=(train=0.738, test=0.735) total time=   6.3s\n",
      "[CV 3/5] END C=1, max_iter=500, solver=saga;, score=(train=0.737, test=0.740) total time=  17.6s\n",
      "[CV 2/5] END C=1, max_iter=500, solver=sag;, score=(train=0.738, test=0.735) total time=  22.3s\n",
      "[CV 1/5] END C=1, max_iter=500, solver=saga;, score=(train=0.738, test=0.737) total time=  18.5s\n",
      "[CV 2/5] END C=1, max_iter=500, solver=saga;, score=(train=0.738, test=0.735) total time=  17.8s\n",
      "[CV 1/5] END C=1, max_iter=500, solver=sag;, score=(train=0.739, test=0.737) total time=  25.5s\n",
      "[CV 4/5] END C=1, max_iter=500, solver=saga;, score=(train=0.738, test=0.737) total time=  19.7s\n",
      "[CV 5/5] END C=1, max_iter=500, solver=sag;, score=(train=0.739, test=0.734) total time=  22.8s\n",
      "[CV 3/5] END C=1, max_iter=500, solver=lbfgs;, score=(train=0.737, test=0.740) total time=   5.8s\n",
      "[CV 3/5] END C=1, max_iter=500, solver=sag;, score=(train=0.737, test=0.740) total time=  23.6s\n",
      "[CV 5/5] END C=1, max_iter=500, solver=saga;, score=(train=0.739, test=0.734) total time=  19.7s\n",
      "[CV 4/5] END C=1, max_iter=500, solver=lbfgs;, score=(train=0.738, test=0.737) total time=   6.2s\n",
      "[CV 4/5] END C=1, max_iter=500, solver=sag;, score=(train=0.738, test=0.737) total time=  24.6s\n",
      "[CV 5/5] END C=1, max_iter=500, solver=lbfgs;, score=(train=0.739, test=0.734) total time=   6.9s\n",
      "[CV 1/5] END C=1, max_iter=1000, solver=lbfgs;, score=(train=0.739, test=0.737) total time=   4.5s\n",
      "[CV 2/5] END C=1, max_iter=1000, solver=lbfgs;, score=(train=0.738, test=0.735) total time=   5.1s\n",
      "[CV 2/5] END C=1, max_iter=1000, solver=saga;, score=(train=0.738, test=0.735) total time=  16.5s\n",
      "[CV 3/5] END C=1, max_iter=1000, solver=saga;, score=(train=0.737, test=0.740) total time=  16.5s\n",
      "[CV 2/5] END C=1, max_iter=1000, solver=sag;, score=(train=0.738, test=0.735) total time=  20.7s\n",
      "[CV 1/5] END C=1, max_iter=1000, solver=saga;, score=(train=0.738, test=0.737) total time=  18.0s\n",
      "[CV 1/5] END C=1, max_iter=1000, solver=sag;, score=(train=0.739, test=0.737) total time=  23.8s\n",
      "[CV 3/5] END C=1, max_iter=1000, solver=sag;, score=(train=0.737, test=0.740) total time=  23.0s\n",
      "[CV 4/5] END C=1, max_iter=1000, solver=saga;, score=(train=0.738, test=0.737) total time=  19.0s\n",
      "[CV 3/5] END C=1, max_iter=1000, solver=lbfgs;, score=(train=0.737, test=0.740) total time=   5.9s\n",
      "[CV 5/5] END C=1, max_iter=1000, solver=saga;, score=(train=0.739, test=0.734) total time=  19.0s\n",
      "[CV 5/5] END C=1, max_iter=1000, solver=sag;, score=(train=0.739, test=0.734) total time=  22.2s\n",
      "[CV 4/5] END C=1, max_iter=1000, solver=lbfgs;, score=(train=0.738, test=0.737) total time=   6.4s\n",
      "[CV 4/5] END C=1, max_iter=1000, solver=sag;, score=(train=0.738, test=0.737) total time=  23.9s\n",
      "[CV 5/5] END C=1, max_iter=1000, solver=lbfgs;, score=(train=0.739, test=0.734) total time=   7.2s\n",
      "[CV 1/5] END C=1, max_iter=2000, solver=lbfgs;, score=(train=0.739, test=0.737) total time=   4.1s\n",
      "[CV 2/5] END C=1, max_iter=2000, solver=lbfgs;, score=(train=0.738, test=0.735) total time=   5.2s\n",
      "[CV 3/5] END C=1, max_iter=2000, solver=saga;, score=(train=0.737, test=0.740) total time=  16.0s\n",
      "[CV 1/5] END C=1, max_iter=2000, solver=saga;, score=(train=0.738, test=0.737) total time=  16.9s\n",
      "[CV 2/5] END C=1, max_iter=2000, solver=saga;, score=(train=0.738, test=0.735) total time=  16.3s\n",
      "[CV 2/5] END C=1, max_iter=2000, solver=sag;, score=(train=0.738, test=0.735) total time=  20.0s\n",
      "[CV 3/5] END C=1, max_iter=2000, solver=lbfgs;, score=(train=0.737, test=0.740) total time=   5.1s\n",
      "[CV 5/5] END C=1, max_iter=2000, solver=saga;, score=(train=0.739, test=0.734) total time=  17.9s\n",
      "[CV 4/5] END C=1, max_iter=2000, solver=saga;, score=(train=0.738, test=0.737) total time=  18.2s\n",
      "[CV 1/5] END C=1, max_iter=2000, solver=sag;, score=(train=0.739, test=0.737) total time=  23.4s\n",
      "[CV 3/5] END C=1, max_iter=2000, solver=sag;, score=(train=0.737, test=0.740) total time=  22.3s\n",
      "[CV 5/5] END C=1, max_iter=2000, solver=sag;, score=(train=0.739, test=0.734) total time=  21.2s\n",
      "[CV 4/5] END C=1, max_iter=2000, solver=sag;, score=(train=0.738, test=0.737) total time=  23.0s\n",
      "[CV 4/5] END C=1, max_iter=2000, solver=lbfgs;, score=(train=0.738, test=0.737) total time=   6.1s\n",
      "[CV 5/5] END C=1, max_iter=2000, solver=lbfgs;, score=(train=0.739, test=0.734) total time=   7.1s\n",
      "[CV 1/5] END C=5, max_iter=100, solver=lbfgs;, score=(train=0.739, test=0.737) total time=   5.5s\n",
      "[CV 2/5] END C=5, max_iter=100, solver=lbfgs;, score=(train=0.739, test=0.735) total time=   4.8s\n",
      "[CV 2/5] END C=5, max_iter=100, solver=saga;, score=(train=0.739, test=0.736) total time=  17.2s\n",
      "[CV 1/5] END C=5, max_iter=100, solver=saga;, score=(train=0.739, test=0.737) total time=  18.1s\n",
      "[CV 2/5] END C=5, max_iter=100, solver=sag;, score=(train=0.739, test=0.736) total time=  22.7s\n",
      "[CV 4/5] END C=5, max_iter=100, solver=saga;, score=(train=0.738, test=0.737) total time=  19.1s\n",
      "[CV 3/5] END C=5, max_iter=100, solver=saga;, score=(train=0.737, test=0.741) total time=  19.3s\n",
      "[CV 5/5] END C=5, max_iter=100, solver=saga;, score=(train=0.739, test=0.735) total time=  19.4s\n",
      "[CV 3/5] END C=5, max_iter=100, solver=lbfgs;, score=(train=0.737, test=0.741) total time=   6.9s\n",
      "[CV 1/5] END C=5, max_iter=100, solver=sag;, score=(train=0.739, test=0.737) total time=  27.5s\n",
      "[CV 3/5] END C=5, max_iter=100, solver=sag;, score=(train=0.737, test=0.741) total time=  26.3s\n",
      "[CV 4/5] END C=5, max_iter=100, solver=lbfgs;, score=(train=0.738, test=0.737) total time=   7.5s\n",
      "[CV 5/5] END C=5, max_iter=100, solver=lbfgs;, score=(train=0.739, test=0.735) total time=   6.8s\n",
      "[CV 4/5] END C=5, max_iter=100, solver=sag;, score=(train=0.738, test=0.737) total time=  27.0s\n",
      "[CV 5/5] END C=5, max_iter=100, solver=sag;, score=(train=0.739, test=0.735) total time=  29.6s\n",
      "[CV 1/5] END C=5, max_iter=500, solver=lbfgs;, score=(train=0.739, test=0.737) total time=   5.2s\n",
      "[CV 2/5] END C=5, max_iter=500, solver=lbfgs;, score=(train=0.739, test=0.735) total time=   4.5s\n",
      "[CV 2/5] END C=5, max_iter=500, solver=saga;, score=(train=0.739, test=0.736) total time=  16.4s\n",
      "[CV 1/5] END C=5, max_iter=500, solver=saga;, score=(train=0.739, test=0.737) total time=  17.4s\n",
      "[CV 2/5] END C=5, max_iter=500, solver=sag;, score=(train=0.739, test=0.736) total time=  21.7s\n",
      "[CV 3/5] END C=5, max_iter=500, solver=saga;, score=(train=0.737, test=0.741) total time=  17.9s\n",
      "[CV 5/5] END C=5, max_iter=500, solver=saga;, score=(train=0.739, test=0.735) total time=  17.8s\n",
      "[CV 4/5] END C=5, max_iter=500, solver=saga;, score=(train=0.738, test=0.737) total time=  18.1s\n",
      "[CV 3/5] END C=5, max_iter=500, solver=sag;, score=(train=0.737, test=0.741) total time=  25.1s\n",
      "[CV 1/5] END C=5, max_iter=500, solver=sag;, score=(train=0.739, test=0.737) total time=  26.8s\n",
      "[CV 3/5] END C=5, max_iter=500, solver=lbfgs;, score=(train=0.737, test=0.741) total time=   7.9s\n",
      "[CV 5/5] END C=5, max_iter=500, solver=lbfgs;, score=(train=0.739, test=0.735) total time=   6.9s\n",
      "[CV 4/5] END C=5, max_iter=500, solver=lbfgs;, score=(train=0.738, test=0.737) total time=   7.6s\n",
      "[CV 4/5] END C=5, max_iter=500, solver=sag;, score=(train=0.738, test=0.737) total time=  26.1s\n",
      "[CV 5/5] END C=5, max_iter=500, solver=sag;, score=(train=0.739, test=0.735) total time=  28.8s\n",
      "[CV 1/5] END C=5, max_iter=1000, solver=lbfgs;, score=(train=0.739, test=0.737) total time=   5.5s\n",
      "[CV 2/5] END C=5, max_iter=1000, solver=lbfgs;, score=(train=0.739, test=0.735) total time=   4.5s\n",
      "[CV 1/5] END C=5, max_iter=1000, solver=saga;, score=(train=0.739, test=0.737) total time=  17.6s\n",
      "[CV 2/5] END C=5, max_iter=1000, solver=saga;, score=(train=0.739, test=0.736) total time=  16.6s\n",
      "[CV 2/5] END C=5, max_iter=1000, solver=sag;, score=(train=0.739, test=0.736) total time=  22.1s\n",
      "[CV 5/5] END C=5, max_iter=1000, solver=saga;, score=(train=0.739, test=0.735) total time=  18.2s\n",
      "[CV 3/5] END C=5, max_iter=1000, solver=saga;, score=(train=0.737, test=0.741) total time=  18.4s\n",
      "[CV 4/5] END C=5, max_iter=1000, solver=saga;, score=(train=0.738, test=0.737) total time=  18.5s\n",
      "[CV 3/5] END C=5, max_iter=1000, solver=lbfgs;, score=(train=0.737, test=0.741) total time=   7.2s\n",
      "[CV 1/5] END C=5, max_iter=1000, solver=sag;, score=(train=0.739, test=0.737) total time=  27.2s\n",
      "[CV 3/5] END C=5, max_iter=1000, solver=sag;, score=(train=0.737, test=0.741) total time=  25.6s\n",
      "[CV 4/5] END C=5, max_iter=1000, solver=sag;, score=(train=0.738, test=0.737) total time=  26.1s\n",
      "[CV 4/5] END C=5, max_iter=1000, solver=lbfgs;, score=(train=0.738, test=0.737) total time=   7.4s\n",
      "[CV 5/5] END C=5, max_iter=1000, solver=lbfgs;, score=(train=0.739, test=0.735) total time=   6.8s\n",
      "[CV 5/5] END C=5, max_iter=1000, solver=sag;, score=(train=0.739, test=0.735) total time=  28.5s\n",
      "[CV 1/5] END C=5, max_iter=2000, solver=lbfgs;, score=(train=0.739, test=0.737) total time=   5.1s\n",
      "[CV 2/5] END C=5, max_iter=2000, solver=lbfgs;, score=(train=0.739, test=0.735) total time=   4.6s\n",
      "[CV 2/5] END C=5, max_iter=2000, solver=saga;, score=(train=0.739, test=0.736) total time=  16.0s\n",
      "[CV 1/5] END C=5, max_iter=2000, solver=saga;, score=(train=0.739, test=0.737) total time=  16.9s\n",
      "[CV 2/5] END C=5, max_iter=2000, solver=sag;, score=(train=0.739, test=0.736) total time=  21.5s\n",
      "[CV 3/5] END C=5, max_iter=2000, solver=saga;, score=(train=0.737, test=0.741) total time=  17.9s\n",
      "[CV 4/5] END C=5, max_iter=2000, solver=saga;, score=(train=0.738, test=0.737) total time=  18.0s\n",
      "[CV 5/5] END C=5, max_iter=2000, solver=saga;, score=(train=0.739, test=0.735) total time=  18.2s\n",
      "[CV 1/5] END C=5, max_iter=2000, solver=sag;, score=(train=0.739, test=0.737) total time=  26.1s\n",
      "[CV 3/5] END C=5, max_iter=2000, solver=lbfgs;, score=(train=0.737, test=0.741) total time=   7.2s\n",
      "[CV 3/5] END C=5, max_iter=2000, solver=sag;, score=(train=0.737, test=0.741) total time=  24.3s\n",
      "[CV 4/5] END C=5, max_iter=2000, solver=lbfgs;, score=(train=0.738, test=0.737) total time=   6.8s\n",
      "[CV 5/5] END C=5, max_iter=2000, solver=lbfgs;, score=(train=0.739, test=0.735) total time=   6.1s\n",
      "[CV 4/5] END C=5, max_iter=2000, solver=sag;, score=(train=0.738, test=0.737) total time=  24.5s\n",
      "[CV 5/5] END C=5, max_iter=2000, solver=sag;, score=(train=0.739, test=0.735) total time=  25.8s\n",
      "Best params: {'C': 5, 'max_iter': 100, 'solver': 'sag'}\n"
     ]
    }
   ],
   "source": [
    "# Trying to optimize the model using grisearch\n",
    "params = {\n",
    "    'max_iter': [100, 500, 1000, 2000],                      \n",
    "    'solver': ['sag', 'saga', 'lbfgs'],\n",
    "    'C': [0.1, 1, 5]}\n",
    "\n",
    "logit_w2c = SklearnModels(model=LogisticRegression(random_state=42),\n",
    "                          data_model=data,\n",
    "                          model_name = 'LogisticRegression',\n",
    "                          grid_search = True,\n",
    "                          model_params = params,\n",
    "                          scale=False,\n",
    "                          verbose=3)\n",
    "\n",
    "logit_w2c.fit()"
   ]
  },
  {
   "attachments": {},
   "cell_type": "markdown",
   "metadata": {},
   "source": [
    "## TF-IDF"
   ]
  },
  {
   "cell_type": "code",
   "execution_count": 17,
   "metadata": {},
   "outputs": [
    {
     "name": "stdout",
     "output_type": "stream",
     "text": [
      "Loading data...\n"
     ]
    },
    {
     "name": "stderr",
     "output_type": "stream",
     "text": [
      "Found cached dataset sentiment140 (/Users/krebs/.cache/huggingface/datasets/sentiment140/sentiment140/1.0.0/f81c014152931b776735658d8ae493b181927de002e706c4d5244ecb26376997)\n"
     ]
    },
    {
     "name": "stdout",
     "output_type": "stream",
     "text": [
      "\n",
      "Loading processed dataset from cache...\n",
      "Dataset loaded\n",
      "TF-IDF embedding applied\n"
     ]
    },
    {
     "data": {
      "text/plain": [
       "<modules.utils.tf_idf at 0x7f86f82c2eb0>"
      ]
     },
     "execution_count": 17,
     "metadata": {},
     "output_type": "execute_result"
    }
   ],
   "source": [
    "data_tf = SentimentDataset()\n",
    "tf_idf(data_tf)"
   ]
  },
  {
   "cell_type": "code",
   "execution_count": 18,
   "metadata": {},
   "outputs": [
    {
     "name": "stdout",
     "output_type": "stream",
     "text": [
      "Performing grid search with 2-fold cross validation\n",
      "\n",
      "Fitting 2 folds for each of 1 candidates, totalling 2 fits\n",
      "[CV 2/2] END C=5, max_iter=100, solver=sag;, score=(train=0.949, test=0.794) total time=   2.7s\n",
      "[CV 1/2] END C=5, max_iter=100, solver=sag;, score=(train=0.950, test=0.793) total time=   2.7s\n",
      "Best params: {'C': 5, 'max_iter': 100, 'solver': 'sag'}\n"
     ]
    }
   ],
   "source": [
    "# Trying to optimize the model using grisearch\n",
    "params_tf = {\n",
    "    'max_iter': [100],                      \n",
    "    'solver': ['sag'],\n",
    "    'C': [5]}\n",
    "\n",
    "\n",
    "logit_tf = SklearnModels(model=LogisticRegression(random_state=42),\n",
    "                          data_model=data_tf,\n",
    "                          model_name = 'LogisticRegression_tf',\n",
    "                          grid_search = True,\n",
    "                          model_params = params_tf,\n",
    "                          scale=False,\n",
    "                          cv=2,\n",
    "                          verbose=3)\n",
    "\n",
    "logit_tf.fit()"
   ]
  },
  {
   "attachments": {},
   "cell_type": "markdown",
   "metadata": {},
   "source": [
    "## Evaluate"
   ]
  },
  {
   "attachments": {},
   "cell_type": "markdown",
   "metadata": {},
   "source": [
    "### W2V"
   ]
  },
  {
   "cell_type": "code",
   "execution_count": 7,
   "metadata": {},
   "outputs": [
    {
     "name": "stdout",
     "output_type": "stream",
     "text": [
      "LogisticRegression\n",
      "Test Accuracy:  0.738175\n"
     ]
    }
   ],
   "source": [
    "print(f'{logit_w2c.model_name}')\n",
    "logit_w2c.evaluate_on_test(accuracy=True)"
   ]
  },
  {
   "cell_type": "code",
   "execution_count": 8,
   "metadata": {},
   "outputs": [
    {
     "name": "stdout",
     "output_type": "stream",
     "text": [
      "LogisticRegression\n",
      "Classification Report:\n",
      "               precision    recall  f1-score   support\n",
      "\n",
      "           0       0.73      0.75      0.74     19937\n",
      "           1       0.74      0.73      0.74     20063\n",
      "\n",
      "    accuracy                           0.74     40000\n",
      "   macro avg       0.74      0.74      0.74     40000\n",
      "weighted avg       0.74      0.74      0.74     40000\n",
      "\n"
     ]
    }
   ],
   "source": [
    "print(f'{logit_w2c.model_name}')\n",
    "logit_w2c.evaluate_on_test(accuracy=False, classification_rep=True)\n"
   ]
  },
  {
   "cell_type": "code",
   "execution_count": 9,
   "metadata": {},
   "outputs": [
    {
     "name": "stdout",
     "output_type": "stream",
     "text": [
      "Confusion Matrix:\n",
      " [[0.74740432 0.25259568]\n",
      " [0.27099636 0.72900364]]\n",
      "Test Accuracy:  0.738175\n"
     ]
    }
   ],
   "source": [
    "logit_w2c.evaluate_on_test(confusion_mat=True)\n"
   ]
  },
  {
   "cell_type": "code",
   "execution_count": 12,
   "metadata": {},
   "outputs": [
    {
     "data": {
      "text/plain": [
       "<Figure size 720x576 with 0 Axes>"
      ]
     },
     "metadata": {},
     "output_type": "display_data"
    },
    {
     "data": {
      "image/png": "[encoded data removed]",
      "text/plain": [
       "<Figure size 432x288 with 2 Axes>"
      ]
     },
     "metadata": {
      "needs_background": "light"
     },
     "output_type": "display_data"
    }
   ],
   "source": [
    "logit_w2c.evaluate_on_test(confusion_mat=True, print_out=False)\n",
    "logit_w2c.plot_confusion_matrix()"
   ]
  },
  {
   "cell_type": "code",
   "execution_count": 14,
   "metadata": {},
   "outputs": [],
   "source": [
    "logit_w2c.model_name = logit_w2c.model_name + '_w2v'"
   ]
  },
  {
   "cell_type": "code",
   "execution_count": 16,
   "metadata": {},
   "outputs": [],
   "source": [
    "# Save Model\n",
    "logit_w2c.save()"
   ]
  },
  {
   "attachments": {},
   "cell_type": "markdown",
   "metadata": {},
   "source": [
    "### TF-IDF"
   ]
  },
  {
   "cell_type": "code",
   "execution_count": 19,
   "metadata": {},
   "outputs": [
    {
     "name": "stdout",
     "output_type": "stream",
     "text": [
      "LogisticRegression_tf\n",
      "Classification Report:\n",
      "               precision    recall  f1-score   support\n",
      "\n",
      "           0       0.81      0.79      0.80     20154\n",
      "           1       0.79      0.81      0.80     19846\n",
      "\n",
      "    accuracy                           0.80     40000\n",
      "   macro avg       0.80      0.80      0.80     40000\n",
      "weighted avg       0.80      0.80      0.80     40000\n",
      "\n"
     ]
    }
   ],
   "source": [
    "print(f'{logit_tf.model_name}')\n",
    "logit_tf.evaluate_on_test(accuracy=False, classification_rep=True)\n"
   ]
  },
  {
   "cell_type": "code",
   "execution_count": 20,
   "metadata": {},
   "outputs": [
    {
     "data": {
      "text/plain": [
       "<Figure size 720x576 with 0 Axes>"
      ]
     },
     "metadata": {},
     "output_type": "display_data"
    },
    {
     "data": {
      "image/png": "[encoded data removed]",
      "text/plain": [
       "<Figure size 432x288 with 2 Axes>"
      ]
     },
     "metadata": {
      "needs_background": "light"
     },
     "output_type": "display_data"
    }
   ],
   "source": [
    "logit_tf.evaluate_on_test(confusion_mat=True, print_out=False)\n",
    "logit_tf.plot_confusion_matrix()"
   ]
  },
  {
   "cell_type": "code",
   "execution_count": 22,
   "metadata": {},
   "outputs": [],
   "source": [
    "logit_tf.save()"
   ]
  },
  {
   "attachments": {},
   "cell_type": "markdown",
   "metadata": {},
   "source": [
    "## Error"
   ]
  },
  {
   "cell_type": "code",
   "execution_count": 1,
   "metadata": {},
   "outputs": [],
   "source": [
    "from datasets import load_dataset\n",
    "from modules.utils import SklearnModels, w2v, tf_idf\n",
    "import random\n",
    "from tabulate import tabulate"
   ]
  },
  {
   "attachments": {},
   "cell_type": "markdown",
   "metadata": {},
   "source": [
    "### W2V"
   ]
  },
  {
   "cell_type": "code",
   "execution_count": 4,
   "metadata": {},
   "outputs": [
    {
     "name": "stderr",
     "output_type": "stream",
     "text": [
      "Found cached dataset sentiment140 (/Users/krebs/.cache/huggingface/datasets/sentiment140/sentiment140/1.0.0/f81c014152931b776735658d8ae493b181927de002e706c4d5244ecb26376997)\n"
     ]
    },
    {
     "data": {
      "application/vnd.jupyter.widget-view+json": {
       "model_id": "2704f06846624d25bca1a334356380cb",
       "version_major": 2,
       "version_minor": 0
      },
      "text/plain": [
       "  0%|          | 0/2 [00:00<?, ?it/s]"
      ]
     },
     "metadata": {},
     "output_type": "display_data"
    },
    {
     "name": "stdout",
     "output_type": "stream",
     "text": [
      "Processing\n",
      "Processing test input\n",
      "Applying Word2Vec embedding\n",
      "Loading Word2Vec model from directory\n",
      "Vectorizing range(0, 2000) tweets\n",
      "Word2Vec embedding applied\n"
     ]
    }
   ],
   "source": [
    "# Loading new dataset\n",
    "df = load_dataset('sentiment140')\n",
    "\n",
    "# Create subset based on new data\n",
    "test_set = df['train'].to_pandas().groupby('sentiment').apply(\n",
    "    lambda x: x[-1000:]).reset_index(drop=True).replace(4, 1).sample(frac=1)\n",
    "\n",
    "# Process it similarly to the training data\n",
    "sentences = SentimentDataset(\n",
    "    test_set.text.to_list(), subset='test').process_data()\n",
    "\n",
    "# Apply word2vec on it\n",
    "vectorized = w2v(sentences, return_vector=True).vector\n",
    "\n",
    "# Target list\n",
    "target = test_set.sentiment.to_list()"
   ]
  },
  {
   "cell_type": "code",
   "execution_count": 5,
   "metadata": {},
   "outputs": [
    {
     "name": "stdout",
     "output_type": "stream",
     "text": [
      "Loading model\n"
     ]
    }
   ],
   "source": [
    "# Load model from model directory\n",
    "word2vec = SklearnModels(model_name='LogisticRegression_w2v',\n",
    "                            split=False).load_model()"
   ]
  },
  {
   "cell_type": "code",
   "execution_count": 6,
   "metadata": {},
   "outputs": [],
   "source": [
    "# Perform predictions\n",
    "w2v_prediction = word2vec.model.predict(vectorized)"
   ]
  },
  {
   "cell_type": "code",
   "execution_count": 12,
   "metadata": {},
   "outputs": [],
   "source": [
    "# Indices of wrong predictions\n",
    "wrong_predictions = [i for i, (a, b) in enumerate(\n",
    "    zip(w2v_prediction, target)) if a != b]\n",
    "\n",
    "# Random list of 5 index positions\n",
    "indexes = [wrong_predictions[random.randint(\n",
    "    0, len(wrong_predictions)-1)] for _ in range(5)]\n",
    "\n",
    "# Original tweet\n",
    "original = test_set.text.to_list()\n",
    "\n",
    "# Processed tweet\n",
    "processed = sentences\n"
   ]
  },
  {
   "cell_type": "code",
   "execution_count": 13,
   "metadata": {},
   "outputs": [],
   "source": [
    "# Create a table for tabulate\n",
    "table = [[original[i], processed[i], target[i], w2v_prediction[i]]\n",
    "         for i in indexes]\n"
   ]
  },
  {
   "cell_type": "code",
   "execution_count": 16,
   "metadata": {},
   "outputs": [
    {
     "name": "stdout",
     "output_type": "stream",
     "text": [
      "Logistic Regression Wrong Predictions - Word2Vec Embedding\n",
      "\n",
      "Original Tweet                                                                   Processed Tweet                                True Label    Predicted Label\n",
      "-------------------------------------------------------------------------------  -------------------------------------------  ------------  -----------------\n",
      "@QueenInMyCity yeah you can't do that if u leave ur phone on...                  yeah u leave ur phone                                   0                  1\n",
      "@lilkup it's a relief. Conflict exhausts me                                      relief conflict exhaust                                 1                  0\n",
      "@ahamachi @eggirock drinking water trick totally worked guys... Didn't cry once  drinking water trick totally worked guy cry             1                  0\n",
      "oh of course, right after i post that, RIP Farrah Fawcett...                     oh course right post rip farrah fawcett                 0                  1\n",
      "http://twitpic.com/7jnmy - Working here today!                                   working today                                           1                  0\n"
     ]
    }
   ],
   "source": [
    "print('Logistic Regression Wrong Predictions - Word2Vec Embedding\\n')\n",
    "print(tabulate(table, headers=[\"Original Tweet\", \"Processed Tweet\", \"True Label\", \"Predicted Label\"]))"
   ]
  },
  {
   "attachments": {},
   "cell_type": "markdown",
   "metadata": {},
   "source": [
    "### TF-IDF"
   ]
  },
  {
   "cell_type": "code",
   "execution_count": 17,
   "metadata": {},
   "outputs": [
    {
     "name": "stdout",
     "output_type": "stream",
     "text": [
      "Processing\n",
      "Processing test input\n"
     ]
    }
   ],
   "source": [
    "# Similarly_ load data on new data\n",
    "sentences_2 = SentimentDataset(\n",
    "    test_set.text.to_list(), subset='test').process_data()\n"
   ]
  },
  {
   "cell_type": "code",
   "execution_count": 18,
   "metadata": {},
   "outputs": [
    {
     "name": "stdout",
     "output_type": "stream",
     "text": [
      "Loading data...\n"
     ]
    },
    {
     "name": "stderr",
     "output_type": "stream",
     "text": [
      "Found cached dataset sentiment140 (/Users/krebs/.cache/huggingface/datasets/sentiment140/sentiment140/1.0.0/f81c014152931b776735658d8ae493b181927de002e706c4d5244ecb26376997)\n"
     ]
    },
    {
     "name": "stdout",
     "output_type": "stream",
     "text": [
      "\n",
      "Loading processed dataset from cache...\n",
      "Dataset loaded\n",
      "TF-IDF embedding applied\n"
     ]
    },
    {
     "data": {
      "text/plain": [
       "<modules.utils.tf_idf at 0x7fe7c9591160>"
      ]
     },
     "execution_count": 18,
     "metadata": {},
     "output_type": "execute_result"
    }
   ],
   "source": [
    "# Initialize training data, to apply tf-idf. We will need to do it on the training data to ensure the tf-idf model is fitted to this\n",
    "tf_idf_data = SentimentDataset()\n",
    "tf_idf(tf_idf_data)"
   ]
  },
  {
   "cell_type": "code",
   "execution_count": 19,
   "metadata": {},
   "outputs": [],
   "source": [
    "# Apply tf-idf to new data\n",
    "tf_idf = tf_idf_data.tfidf_vectorize(sentences_2)"
   ]
  },
  {
   "cell_type": "code",
   "execution_count": 21,
   "metadata": {},
   "outputs": [
    {
     "name": "stdout",
     "output_type": "stream",
     "text": [
      "Loading model\n"
     ]
    }
   ],
   "source": [
    "# Load model from model directory\n",
    "tfidf = SklearnModels(model_name='LogisticRegression_tf',\n",
    "                         split=False).load_model()\n",
    "\n",
    "# Perform predictions\n",
    "tfidf_predictions = tfidf.model.predict(tf_idf)\n"
   ]
  },
  {
   "cell_type": "code",
   "execution_count": 22,
   "metadata": {},
   "outputs": [],
   "source": [
    "# Indices of wrong predictions\n",
    "wrong_predictions = [i for i, (a, b) in enumerate(\n",
    "    zip(tfidf_predictions, target)) if a != b]\n",
    "\n",
    "# Random list of 5 index positions\n",
    "indexes = [wrong_predictions[random.randint(\n",
    "    0, len(wrong_predictions)-1)] for _ in range(5)]\n",
    "\n",
    "# Original tweet\n",
    "original = test_set.text.to_list()\n",
    "\n",
    "# Processed tweet\n",
    "processed = sentences\n"
   ]
  },
  {
   "cell_type": "code",
   "execution_count": 23,
   "metadata": {},
   "outputs": [],
   "source": [
    "# Create a table for tabulate\n",
    "table = [[original[i], processed[i], target[i], tfidf_predictions[i]]\n",
    "         for i in indexes]"
   ]
  },
  {
   "cell_type": "code",
   "execution_count": 24,
   "metadata": {},
   "outputs": [
    {
     "name": "stdout",
     "output_type": "stream",
     "text": [
      "Logistic Regression Wrong Predictions - TF-IDF Embedding\n",
      "\n",
      "Original Tweet                                                                                       Processed Tweet                                                              True Label    Predicted Label\n",
      "---------------------------------------------------------------------------------------------------  -------------------------------------------------------------------------  ------------  -----------------\n",
      "We will always love Farrah Fawcett, R.I.P.                                                           always love farrah fawcett r p                                                        0                  1\n",
      "@MOMONEYBIGGY DAMN I JUST KNEW U WAS GONNA BRING ME TURKEY BACON   OK U CAN BRING IT 2MORROW         damn knew u gon na bring turkey bacon ok u bring 2morrow                              0                  1\n",
      "Sleepy time was goo-ood!  Heading back to my place. The Gnome went to see Dream Theatre - lucky him  sleepy time goo ood heading back place gnome went see dream theatre lucky             1                  0\n",
      "Finally home now and not planning on leavin till I have to!                                          finally home planning leavin till                                                     1                  0\n",
      "@asandroq Are you not working anymore? Or sleeping?                                                  working anymore sleeping                                                              1                  0\n"
     ]
    }
   ],
   "source": [
    "print('Logistic Regression Wrong Predictions - TF-IDF Embedding\\n')\n",
    "print(tabulate(table, headers=[\"Original Tweet\", \"Processed Tweet\", \"True Label\", \"Predicted Label\"]))"
   ]
  }
 ],
 "metadata": {
  "kernelspec": {
   "display_name": "base",
   "language": "python",
   "name": "python3"
  },
  "language_info": {
   "codemirror_mode": {
    "name": "ipython",
    "version": 3
   },
   "file_extension": ".py",
   "mimetype": "text/x-python",
   "name": "python",
   "nbconvert_exporter": "python",
   "pygments_lexer": "ipython3",
   "version": "3.9.7"
  },
  "orig_nbformat": 4
 },
 "nbformat": 4,
 "nbformat_minor": 2
}
