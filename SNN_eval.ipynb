{
 "cells": [
  {
   "attachments": {},
   "cell_type": "markdown",
   "metadata": {},
   "source": [
    "# Setup"
   ]
  },
  {
   "cell_type": "code",
   "execution_count": 1,
   "metadata": {},
   "outputs": [
    {
     "name": "stderr",
     "output_type": "stream",
     "text": [
      "2023-05-27 12:04:25.860243: I tensorflow/core/platform/cpu_feature_guard.cc:182] This TensorFlow binary is optimized to use available CPU instructions in performance-critical operations.\n",
      "To enable the following instructions: AVX2 FMA, in other operations, rebuild TensorFlow with the appropriate compiler flags.\n"
     ]
    }
   ],
   "source": [
    "from modules.utils import *\n",
    "import tensorflow as tf\n",
    "from keras import layers\n",
    "from keras.models import Sequential\n",
    "from sklearn.model_selection import train_test_split\n",
    "from sklearn.metrics import confusion_matrix, ConfusionMatrixDisplay, accuracy_score, classification_report"
   ]
  },
  {
   "attachments": {},
   "cell_type": "markdown",
   "metadata": {},
   "source": [
    "**Note**\n",
    "Model is trained using Google Colabs free GPUs. This notebook is therefore for evaluating the model"
   ]
  },
  {
   "attachments": {},
   "cell_type": "markdown",
   "metadata": {},
   "source": [
    "# Model Evaluation"
   ]
  },
  {
   "cell_type": "code",
   "execution_count": 2,
   "metadata": {},
   "outputs": [
    {
     "name": "stderr",
     "output_type": "stream",
     "text": [
      "2023-05-27 12:04:28.241768: I tensorflow/core/common_runtime/pluggable_device/pluggable_device_factory.cc:306] Could not identify NUMA node of platform GPU ID 0, defaulting to 0. Your kernel may not have been built with NUMA support.\n",
      "2023-05-27 12:04:28.241821: I tensorflow/core/common_runtime/pluggable_device/pluggable_device_factory.cc:272] Created TensorFlow device (/job:localhost/replica:0/task:0/device:GPU:0 with 0 MB memory) -> physical PluggableDevice (device: 0, name: METAL, pci bus id: <undefined>)\n"
     ]
    },
    {
     "name": "stdout",
     "output_type": "stream",
     "text": [
      "Metal device set to: AMD Radeon Pro 5300M\n",
      "\n",
      "systemMemory: 32.00 GB\n",
      "maxCacheSize: 1.99 GB\n",
      "\n"
     ]
    }
   ],
   "source": [
    "# Loading model\n",
    "model = tf.keras.models.load_model(f'{MODEL_PATH}/ShallowNeuralNetwork')\n"
   ]
  },
  {
   "cell_type": "code",
   "execution_count": 55,
   "metadata": {},
   "outputs": [],
   "source": [
    "df = load_dataset('sentiment140')\n",
    "# Create subset based on new data\n",
    "test_set = df['train'].to_pandas().groupby('sentiment').apply(\n",
    "    lambda x: x[-1000:]).reset_index(drop=True).replace(4, 1).sample(frac=1)\n",
    "\n",
    "sentences = SentimentDataset(test_set.text.to_list(), subset='test').process_data()\n",
    "vectorized = w2v(sentences, return_vector=True).vector\n",
    "\n",
    "target = test_set.sentiment.to_list()"
   ]
  },
  {
   "cell_type": "code",
   "execution_count": 48,
   "metadata": {},
   "outputs": [
    {
     "name": "stdout",
     "output_type": "stream",
     "text": [
      "Loading data...\n"
     ]
    },
    {
     "name": "stderr",
     "output_type": "stream",
     "text": [
      "Found cached dataset sentiment140 (/Users/krebs/.cache/huggingface/datasets/sentiment140/sentiment140/1.0.0/f81c014152931b776735658d8ae493b181927de002e706c4d5244ecb26376997)\n"
     ]
    },
    {
     "name": "stdout",
     "output_type": "stream",
     "text": [
      "\n",
      "Loading processed dataset from cache...\n",
      "Dataset loaded\n",
      "Applying Word2Vec embedding\n",
      "Loading Word2Vec model from directory\n",
      "Vectorizing range(0, 200000) tweets\n",
      "Word2Vec embedding applied\n",
      "Splitting\n"
     ]
    }
   ],
   "source": [
    "# Load data\n",
    "data = SentimentDataset() \n",
    "\n",
    "# Apply Word2Vec\n",
    "w2v(data) \n",
    "\n",
    "print('Splitting')\n",
    "_, X_test, _, y_test = train_test_split(data.vector, data.target, test_size=0.1)\n"
   ]
  },
  {
   "cell_type": "code",
   "execution_count": 49,
   "metadata": {},
   "outputs": [
    {
     "name": "stdout",
     "output_type": "stream",
     "text": [
      "Processing\n",
      "Processing test input\n"
     ]
    }
   ],
   "source": [
    "# manual_test = [\"My girlfriend and i wen't to the movies during the weekend, it was so nice\",\n",
    "#                \"I was just laid off my work... Why is this life right now\",\n",
    "#                \"Have you read this new article about Transformers, it is super fascinating\",\n",
    "#                \"Messi is the best football player ever, you can not convince me otherwise\",\n",
    "#                \"I just got my computer stolen, why are some people so mean?\"]\n",
    "# \n",
    "# target = [1, 0, 1, 1, 0]\n",
    "# processed = SentimentDataset(manual_test, subset='test').process_data()\n",
    "# processed_vector = data.w2v_vectorize(processed)"
   ]
  },
  {
   "cell_type": "code",
   "execution_count": 51,
   "metadata": {},
   "outputs": [
    {
     "name": "stdout",
     "output_type": "stream",
     "text": [
      "625/625 [==============================] - 5s 8ms/step\n",
      "63/63 [==============================] - 1s 9ms/step\n"
     ]
    }
   ],
   "source": [
    "# test predictions\n",
    "prediction = model.predict(X_test)\n",
    "\n",
    "\n",
    "# Fabricated tweet predictions\n",
    "prediction_2 = model.predict(vectorized)\n"
   ]
  },
  {
   "cell_type": "code",
   "execution_count": null,
   "metadata": {},
   "outputs": [],
   "source": [
    "prediction = np.where(prediction > 0.5, 1, 0) # Transforming probability output to predicted class\n",
    "prediction = [pred[0] for pred in prediction] # Unnesting results\n",
    "\n",
    "prediction_2 = np.where(prediction_2 > 0.5, 1, 0)\n",
    "prediction_2 = [pred[0] for pred in prediction_2]\n"
   ]
  },
  {
   "cell_type": "code",
   "execution_count": 56,
   "metadata": {},
   "outputs": [
    {
     "name": "stdout",
     "output_type": "stream",
     "text": [
      "Test set accuracy: 0.7337\n",
      "Unseen data prediction: 0.7525\n"
     ]
    }
   ],
   "source": [
    "print('Test set accuracy:', accuracy_score(y_test, prediction))\n",
    "print('Unseen data prediction:', accuracy_score(target, prediction_2))"
   ]
  },
  {
   "cell_type": "code",
   "execution_count": 57,
   "metadata": {},
   "outputs": [
    {
     "name": "stdout",
     "output_type": "stream",
     "text": [
      "              precision    recall  f1-score   support\n",
      "\n",
      "           0       0.74      0.72      0.73     10066\n",
      "           1       0.72      0.75      0.74      9934\n",
      "\n",
      "    accuracy                           0.73     20000\n",
      "   macro avg       0.73      0.73      0.73     20000\n",
      "weighted avg       0.73      0.73      0.73     20000\n",
      "\n"
     ]
    }
   ],
   "source": [
    "print(classification_report(y_test, prediction))\n"
   ]
  },
  {
   "cell_type": "code",
   "execution_count": 58,
   "metadata": {},
   "outputs": [
    {
     "data": {
      "text/plain": [
       "array([[7215, 2851],\n",
       "       [2475, 7459]])"
      ]
     },
     "execution_count": 58,
     "metadata": {},
     "output_type": "execute_result"
    }
   ],
   "source": [
    "confusion_matrix(y_test, prediction)\n"
   ]
  },
  {
   "cell_type": "code",
   "execution_count": 59,
   "metadata": {},
   "outputs": [
    {
     "data": {
      "image/png": "[encoded data removed]",
      "text/plain": [
       "<Figure size 432x288 with 2 Axes>"
      ]
     },
     "metadata": {
      "needs_background": "light"
     },
     "output_type": "display_data"
    }
   ],
   "source": [
    "ConfusionMatrixDisplay(confusion_matrix(y_test, prediction, normalize='true')).plot()\n",
    "plt.show()\n"
   ]
  },
  {
   "attachments": {},
   "cell_type": "markdown",
   "metadata": {},
   "source": [
    "## Exploring Errors"
   ]
  },
  {
   "cell_type": "code",
   "execution_count": 127,
   "metadata": {},
   "outputs": [],
   "source": [
    "# Exploring Errors\n",
    "from tabulate import tabulate\n",
    "import random"
   ]
  },
  {
   "cell_type": "code",
   "execution_count": 133,
   "metadata": {},
   "outputs": [],
   "source": [
    "# Indices of wrong predictions\n",
    "wrong_predictions = [i for i, (a,b) in enumerate(zip(prediction_2, target)) if a != b]\n",
    "\n",
    "# Random list of 5 index positions\n",
    "indexes = [wrong_predictions[random.randint(0, len(wrong_predictions)-1)] for _ in range(5)]\n",
    "\n",
    "# Original tweet\n",
    "original = test_set.text.to_list()\n",
    "\n",
    "# Processed tweet \n",
    "processed = sentences"
   ]
  },
  {
   "cell_type": "code",
   "execution_count": 134,
   "metadata": {},
   "outputs": [],
   "source": [
    "# Dict comprehension for\n",
    "texts = {original[i]:processed[i] for i in wrong_predictions}\n",
    "labels = {target[i]:prediction_2[i] for i in wrong_predictions}"
   ]
  },
  {
   "cell_type": "code",
   "execution_count": 135,
   "metadata": {},
   "outputs": [],
   "source": [
    "table = [[original[i], processed[i], target[i], prediction_2[i]] for i in indexes]"
   ]
  },
  {
   "cell_type": "code",
   "execution_count": 136,
   "metadata": {},
   "outputs": [
    {
     "data": {
      "text/plain": [
       "5"
      ]
     },
     "execution_count": 136,
     "metadata": {},
     "output_type": "execute_result"
    }
   ],
   "source": [
    "len(table)"
   ]
  },
  {
   "cell_type": "code",
   "execution_count": 137,
   "metadata": {},
   "outputs": [
    {
     "name": "stdout",
     "output_type": "stream",
     "text": [
      "Original Tweet                                                                                                               Processed Tweet                                                    True Label    Predicted Label\n",
      "---------------------------------------------------------------------------------------------------------------------------  ---------------------------------------------------------------  ------------  -----------------\n",
      "@caitykauffman lee's mom is making me go with her tonight bc she doesnt want to sit by herself. p.s. MY BLACKBERRY CAME IN!  lee mom making go tonight bc doesnt want sit p blackberry came              1                  0\n",
      "Wow... Rest in peace Farrah Fawcett                                                                                          wow rest peace farrah fawcett                                               0                  1\n",
      "@rhiannonrevolts Yeah I see that.   The last word I'd heard on her did not sound good. Wishing her family good thoughts.     yeah see last word heard sound good wishing family good thought             0                  1\n",
      "@lilkup it's a relief. Conflict exhausts me                                                                                  relief conflict exhaust                                                     1                  0\n",
      "@elijahmanor tell the masters of CSS they suck and owe me a year supply of Advil                                             tell master cs suck owe year supply advil                                   1                  0\n"
     ]
    }
   ],
   "source": [
    "print(tabulate(table, headers=[\"Original Tweet\",\"Processed Tweet\", \"True Label\", \"Predicted Label\"]))"
   ]
  },
  {
   "cell_type": "code",
   "execution_count": null,
   "metadata": {},
   "outputs": [],
   "source": []
  }
 ],
 "metadata": {
  "kernelspec": {
   "display_name": "base",
   "language": "python",
   "name": "python3"
  },
  "language_info": {
   "codemirror_mode": {
    "name": "ipython",
    "version": 3
   },
   "file_extension": ".py",
   "mimetype": "text/x-python",
   "name": "python",
   "nbconvert_exporter": "python",
   "pygments_lexer": "ipython3",
   "version": "3.9.7"
  },
  "orig_nbformat": 4
 },
 "nbformat": 4,
 "nbformat_minor": 2
}
